{
 "cells": [
  {
   "cell_type": "markdown",
   "id": "33a2f884-a9ec-4438-b523-96b3e5739e08",
   "metadata": {},
   "source": [
    "#### Introduction \n",
    "\n",
    "Finance has always been a field I’ve been deeply interested in, even from a very young age. One of my biggest influences in this regard is my uncle, a person I’ve always admired and respected, not just for his achievements but for his character and dedication. He grew up in a small city in Morocco and graduated from high school at the age of 16. From there, he attended Lycée Louis-le-Grand, one of the most prestigious preparatory schools in Paris, before being accepted into Polytechnique, a world-renowned university. He specialized in corporate finance and went on to establish his own financial consulting firm, where he played a crucial role in revolutionizing the Moroccan financial markets. His journey from humble beginnings to becoming a trailblazer in such a demanding and intellectually rigorous field has always been a source of inspiration for me. Engaging with someone as knowledgeable and accomplished as him not only deepened my respect for the field but also fueled my growing passion for finance over the years.\n",
    "\n",
    "After engaging with him for a while, I realized that fiancial markets were actively changing. From the stock ticker tapes of the 20th century to today’s massive financial databases, the way we interact with financial data has come a long way. Historically, traders would rely on intuition and limited data to make decisions. Now, with advancements in technology, we have access to mountains of data and powerful tools that can help us uncover patterns and make better predictions.\n",
    "\n",
    "This evolution of finance intrigued me even more. The ability to combine machine learning with financial data to predict outcomes or classify trends feels like unlocking a puzzle with endless possibilities. For this project, I wanted to explore this intersection by working with the Massive Yahoo Finance dataset. This dataset captures a wealth of historical stock information—everything from daily price movements to trading volumes—offering a perfect playground for applying machine learning techniques.\n",
    "\n",
    "The project focuses on two main challenges. The first is a Regression task using machine learning models such as linear regression, Ridge and Lasso regression and the second is Classification using models like logistic regression and random forests.\n",
    "\n",
    "By using techniques cross validation and grid search, I’ll optimize the paramters of teh models and evaluate them with metrics like RMSE for regression and accuracy for classification. This project is not just about building models, it’s about exploring how machine learning can transform financial data into meaningful insights."
   ]
  },
  {
   "cell_type": "markdown",
   "id": "46758084-805d-473c-80e0-2be2fa3b2df7",
   "metadata": {},
   "source": [
    "#### I - Data set selection\n",
    "\n",
    "Let's first start by importing and the librairies needed to complete this project:"
   ]
  },
  {
   "cell_type": "code",
   "execution_count": 4,
   "id": "ce46ab2a-bbd3-4dc3-9abc-b2f4737b4983",
   "metadata": {},
   "outputs": [],
   "source": [
    "# Import all the needed libraries to complete this project\n",
    "\n",
    "# Basic libraries\n",
    "import numpy as np\n",
    "import pandas as pd\n",
    "import matplotlib.pyplot as plt\n",
    "import seaborn as sns\n",
    "%matplotlib inline\n",
    "import statsmodels.api as sm\n",
    "\n",
    "# Data preprocessing\n",
    "from sklearn.model_selection import train_test_split\n",
    "from sklearn.preprocessing import StandardScaler\n",
    "from sklearn.preprocessing import PolynomialFeatures\n",
    "\n",
    "# Models\n",
    "from sklearn.linear_model import LinearRegression, Ridge, Lasso, LogisticRegression\n",
    "from sklearn.ensemble import RandomForestClassifier\n",
    "\n",
    "# Model evaluation and metrics\n",
    "from sklearn.model_selection import KFold, cross_val_score, GridSearchCV\n",
    "from sklearn.metrics import mean_squared_error, r2_score\n",
    "from sklearn.metrics import classification_report, confusion_matrix\n",
    "\n",
    "# Pipelines\n",
    "from sklearn.pipeline import make_pipeline"
   ]
  },
  {
   "cell_type": "code",
   "execution_count": 5,
   "id": "fc1364f9-0bc2-422b-bd54-3b024c3808e0",
   "metadata": {},
   "outputs": [
    {
     "name": "stdout",
     "output_type": "stream",
     "text": [
      "Dataset URL: https://www.kaggle.com/datasets/iveeaten3223times/massive-yahoo-finance-dataset\n",
      "License(s): apache-2.0\n",
      "massive-yahoo-finance-dataset.zip: Skipping, found more recently modified local copy (use --force to force download)\n"
     ]
    }
   ],
   "source": [
    "#Import the data set into the jupyter notebook\n",
    "!kaggle datasets download -d iveeaten3223times/massive-yahoo-finance-dataset"
   ]
  },
  {
   "cell_type": "code",
   "execution_count": 6,
   "id": "5507bf2b-e757-403b-b779-a5b93697eca4",
   "metadata": {},
   "outputs": [],
   "source": [
    "import zipfile\n",
    "\n",
    "# Unzip the downloaded dataset\n",
    "with zipfile.ZipFile(\"massive-yahoo-finance-dataset.zip\", 'r') as zip_ref:\n",
    "    zip_ref.extractall(\"data_directory\")"
   ]
  },
  {
   "cell_type": "code",
   "execution_count": 7,
   "id": "2c063291-7a14-4068-9c31-059fc7962dfe",
   "metadata": {},
   "outputs": [
    {
     "data": {
      "text/html": [
       "<div>\n",
       "<style scoped>\n",
       "    .dataframe tbody tr th:only-of-type {\n",
       "        vertical-align: middle;\n",
       "    }\n",
       "\n",
       "    .dataframe tbody tr th {\n",
       "        vertical-align: top;\n",
       "    }\n",
       "\n",
       "    .dataframe thead th {\n",
       "        text-align: right;\n",
       "    }\n",
       "</style>\n",
       "<table border=\"1\" class=\"dataframe\">\n",
       "  <thead>\n",
       "    <tr style=\"text-align: right;\">\n",
       "      <th></th>\n",
       "      <th>Date</th>\n",
       "      <th>Open</th>\n",
       "      <th>High</th>\n",
       "      <th>Low</th>\n",
       "      <th>Close</th>\n",
       "      <th>Volume</th>\n",
       "      <th>Dividends</th>\n",
       "      <th>Stock Splits</th>\n",
       "      <th>Company</th>\n",
       "    </tr>\n",
       "  </thead>\n",
       "  <tbody>\n",
       "    <tr>\n",
       "      <th>0</th>\n",
       "      <td>2018-11-29 00:00:00-05:00</td>\n",
       "      <td>43.829761</td>\n",
       "      <td>43.863354</td>\n",
       "      <td>42.639594</td>\n",
       "      <td>43.083508</td>\n",
       "      <td>167080000</td>\n",
       "      <td>0.00</td>\n",
       "      <td>0.0</td>\n",
       "      <td>AAPL</td>\n",
       "    </tr>\n",
       "    <tr>\n",
       "      <th>1</th>\n",
       "      <td>2018-11-29 00:00:00-05:00</td>\n",
       "      <td>104.769074</td>\n",
       "      <td>105.519257</td>\n",
       "      <td>103.534595</td>\n",
       "      <td>104.636131</td>\n",
       "      <td>28123200</td>\n",
       "      <td>0.00</td>\n",
       "      <td>0.0</td>\n",
       "      <td>MSFT</td>\n",
       "    </tr>\n",
       "    <tr>\n",
       "      <th>2</th>\n",
       "      <td>2018-11-29 00:00:00-05:00</td>\n",
       "      <td>54.176498</td>\n",
       "      <td>55.007500</td>\n",
       "      <td>54.099998</td>\n",
       "      <td>54.729000</td>\n",
       "      <td>31004000</td>\n",
       "      <td>0.00</td>\n",
       "      <td>0.0</td>\n",
       "      <td>GOOGL</td>\n",
       "    </tr>\n",
       "    <tr>\n",
       "      <th>3</th>\n",
       "      <td>2018-11-29 00:00:00-05:00</td>\n",
       "      <td>83.749496</td>\n",
       "      <td>84.499496</td>\n",
       "      <td>82.616501</td>\n",
       "      <td>83.678497</td>\n",
       "      <td>132264000</td>\n",
       "      <td>0.00</td>\n",
       "      <td>0.0</td>\n",
       "      <td>AMZN</td>\n",
       "    </tr>\n",
       "    <tr>\n",
       "      <th>4</th>\n",
       "      <td>2018-11-29 00:00:00-05:00</td>\n",
       "      <td>39.692784</td>\n",
       "      <td>40.064904</td>\n",
       "      <td>38.735195</td>\n",
       "      <td>39.037853</td>\n",
       "      <td>54917200</td>\n",
       "      <td>0.04</td>\n",
       "      <td>0.0</td>\n",
       "      <td>NVDA</td>\n",
       "    </tr>\n",
       "    <tr>\n",
       "      <th>...</th>\n",
       "      <td>...</td>\n",
       "      <td>...</td>\n",
       "      <td>...</td>\n",
       "      <td>...</td>\n",
       "      <td>...</td>\n",
       "      <td>...</td>\n",
       "      <td>...</td>\n",
       "      <td>...</td>\n",
       "      <td>...</td>\n",
       "    </tr>\n",
       "    <tr>\n",
       "      <th>602957</th>\n",
       "      <td>2023-11-29 00:00:00-05:00</td>\n",
       "      <td>26.360001</td>\n",
       "      <td>26.397499</td>\n",
       "      <td>26.120001</td>\n",
       "      <td>26.150000</td>\n",
       "      <td>1729147</td>\n",
       "      <td>0.00</td>\n",
       "      <td>0.0</td>\n",
       "      <td>PPL</td>\n",
       "    </tr>\n",
       "    <tr>\n",
       "      <th>602958</th>\n",
       "      <td>2023-11-29 00:00:00-05:00</td>\n",
       "      <td>27.680000</td>\n",
       "      <td>28.535000</td>\n",
       "      <td>27.680000</td>\n",
       "      <td>28.350000</td>\n",
       "      <td>1940066</td>\n",
       "      <td>0.00</td>\n",
       "      <td>0.0</td>\n",
       "      <td>FITB</td>\n",
       "    </tr>\n",
       "    <tr>\n",
       "      <th>602959</th>\n",
       "      <td>2023-11-29 00:00:00-05:00</td>\n",
       "      <td>75.940002</td>\n",
       "      <td>76.555000</td>\n",
       "      <td>75.257500</td>\n",
       "      <td>75.610001</td>\n",
       "      <td>298699</td>\n",
       "      <td>0.00</td>\n",
       "      <td>0.0</td>\n",
       "      <td>IFF</td>\n",
       "    </tr>\n",
       "    <tr>\n",
       "      <th>602960</th>\n",
       "      <td>2023-11-29 00:00:00-05:00</td>\n",
       "      <td>45.230000</td>\n",
       "      <td>45.259998</td>\n",
       "      <td>44.040001</td>\n",
       "      <td>44.209999</td>\n",
       "      <td>2217579</td>\n",
       "      <td>0.00</td>\n",
       "      <td>0.0</td>\n",
       "      <td>CCJ</td>\n",
       "    </tr>\n",
       "    <tr>\n",
       "      <th>602961</th>\n",
       "      <td>2023-11-29 00:00:00-05:00</td>\n",
       "      <td>84.629997</td>\n",
       "      <td>84.995003</td>\n",
       "      <td>83.529999</td>\n",
       "      <td>83.889999</td>\n",
       "      <td>830092</td>\n",
       "      <td>0.00</td>\n",
       "      <td>0.0</td>\n",
       "      <td>LYV</td>\n",
       "    </tr>\n",
       "  </tbody>\n",
       "</table>\n",
       "<p>602962 rows × 9 columns</p>\n",
       "</div>"
      ],
      "text/plain": [
       "                             Date        Open        High         Low  \\\n",
       "0       2018-11-29 00:00:00-05:00   43.829761   43.863354   42.639594   \n",
       "1       2018-11-29 00:00:00-05:00  104.769074  105.519257  103.534595   \n",
       "2       2018-11-29 00:00:00-05:00   54.176498   55.007500   54.099998   \n",
       "3       2018-11-29 00:00:00-05:00   83.749496   84.499496   82.616501   \n",
       "4       2018-11-29 00:00:00-05:00   39.692784   40.064904   38.735195   \n",
       "...                           ...         ...         ...         ...   \n",
       "602957  2023-11-29 00:00:00-05:00   26.360001   26.397499   26.120001   \n",
       "602958  2023-11-29 00:00:00-05:00   27.680000   28.535000   27.680000   \n",
       "602959  2023-11-29 00:00:00-05:00   75.940002   76.555000   75.257500   \n",
       "602960  2023-11-29 00:00:00-05:00   45.230000   45.259998   44.040001   \n",
       "602961  2023-11-29 00:00:00-05:00   84.629997   84.995003   83.529999   \n",
       "\n",
       "             Close     Volume  Dividends  Stock Splits Company  \n",
       "0        43.083508  167080000       0.00           0.0    AAPL  \n",
       "1       104.636131   28123200       0.00           0.0    MSFT  \n",
       "2        54.729000   31004000       0.00           0.0   GOOGL  \n",
       "3        83.678497  132264000       0.00           0.0    AMZN  \n",
       "4        39.037853   54917200       0.04           0.0    NVDA  \n",
       "...            ...        ...        ...           ...     ...  \n",
       "602957   26.150000    1729147       0.00           0.0     PPL  \n",
       "602958   28.350000    1940066       0.00           0.0    FITB  \n",
       "602959   75.610001     298699       0.00           0.0     IFF  \n",
       "602960   44.209999    2217579       0.00           0.0     CCJ  \n",
       "602961   83.889999     830092       0.00           0.0     LYV  \n",
       "\n",
       "[602962 rows x 9 columns]"
      ]
     },
     "execution_count": 7,
     "metadata": {},
     "output_type": "execute_result"
    }
   ],
   "source": [
    "data = pd.read_csv(\"massive-yahoo-finance-dataset.zip\", parse_dates=['Date'])\n",
    "data"
   ]
  },
  {
   "cell_type": "markdown",
   "id": "a547c4aa-efdb-44d6-8ab5-ad2069f81974",
   "metadata": {},
   "source": [
    " "
   ]
  },
  {
   "cell_type": "markdown",
   "id": "bbdefc20-c268-419b-819e-9c9216e3b71d",
   "metadata": {},
   "source": [
    "### II - Initial Data Description \n",
    "\n",
    "As we can see, the data set used in this project is the Massive Yahoo Finance Dataset, which provides historical stock market data for a wide range of companies. It includes a total of 602,962 rows and 9 columns, capturing detailed daily information about stock performance over a five-year period (from November 29, 2018, to November 29, 2023). The key features of the dataset are as follows:\n",
    "\n",
    "- Date: The date of each stock market entry\n",
    "- Open: The stock price at the start of the trading day\n",
    "- High: The highest price reached during the trading day\n",
    "- Low: The lowest price reached during the trading day\n",
    "- Close: The stock price at the end of the trading day\n",
    "- Volume: The total number of shares traded during the day\n",
    "- Dividends: Dividends paid per share on the given day, if applicable\n",
    "- Stock Splits: Information on stock splits that occurred on the given day, if any\n",
    "- Company: The ticker symbol representing the company\n",
    "\n",
    "This data set provides a rich source of information and insights for exploring trends and performance and building machine learning models but the data is extremely messy, so let's start by cleaning the data"
   ]
  },
  {
   "cell_type": "code",
   "execution_count": 10,
   "id": "f6839490-77de-402d-99b3-8c006b58f1e5",
   "metadata": {},
   "outputs": [],
   "source": [
    "#### DATA CLEANING"
   ]
  },
  {
   "cell_type": "markdown",
   "id": "683700a9-0543-473f-9bd8-77fe7308d9f6",
   "metadata": {},
   "source": [
    "To prepare the dataset for analysis and modeling, I performed a series of cleaning steps to address potential issues and make sure that the data was ready for use. Here are the key steps taken:"
   ]
  },
  {
   "cell_type": "code",
   "execution_count": 12,
   "id": "89cbf880-7e66-4aa0-a4b3-de30edf9ab47",
   "metadata": {
    "scrolled": true
   },
   "outputs": [
    {
     "name": "stdout",
     "output_type": "stream",
     "text": [
      "<class 'pandas.core.frame.DataFrame'>\n",
      "RangeIndex: 602962 entries, 0 to 602961\n",
      "Data columns (total 9 columns):\n",
      " #   Column        Non-Null Count   Dtype  \n",
      "---  ------        --------------   -----  \n",
      " 0   Date          602962 non-null  object \n",
      " 1   Open          602962 non-null  float64\n",
      " 2   High          602962 non-null  float64\n",
      " 3   Low           602962 non-null  float64\n",
      " 4   Close         602962 non-null  float64\n",
      " 5   Volume        602962 non-null  int64  \n",
      " 6   Dividends     602962 non-null  float64\n",
      " 7   Stock Splits  602962 non-null  float64\n",
      " 8   Company       602962 non-null  object \n",
      "dtypes: float64(6), int64(1), object(2)\n",
      "memory usage: 41.4+ MB\n"
     ]
    }
   ],
   "source": [
    "#Basic informations about the dataset\n",
    "data.info()"
   ]
  },
  {
   "cell_type": "markdown",
   "id": "d51ab070-6f3c-4989-82a1-1d7751881436",
   "metadata": {},
   "source": [
    "##### Initial data inspection:\n",
    "- Examining the structure of the dataste using data.info() fct. This shows basuc informations about the data set. The data set contains 602,962 rows and 9 columns, with no missing values or duplicate rows."
   ]
  },
  {
   "cell_type": "code",
   "execution_count": 14,
   "id": "8cae45e0-a6aa-465c-aaeb-2914a7eeebed",
   "metadata": {},
   "outputs": [
    {
     "name": "stdout",
     "output_type": "stream",
     "text": [
      "Total missing values: 0\n"
     ]
    }
   ],
   "source": [
    "#check for missing values within the data set\n",
    "\n",
    "missing_vals = data.isnull().sum().sum()\n",
    "print(\"Total missing values:\", missing_vals)"
   ]
  },
  {
   "cell_type": "code",
   "execution_count": 15,
   "id": "9db5bdaf-9564-4d5e-8904-8fa970729d8c",
   "metadata": {},
   "outputs": [
    {
     "name": "stdout",
     "output_type": "stream",
     "text": [
      "Total duplicate rows: 0\n"
     ]
    }
   ],
   "source": [
    "#check for duplicates rows \n",
    "\n",
    "duplicates = data.duplicated().sum()\n",
    "print(\"Total duplicate rows:\", duplicates)"
   ]
  },
  {
   "cell_type": "code",
   "execution_count": 16,
   "id": "2644b92e-ccd0-429a-ba06-2cfc3b795815",
   "metadata": {},
   "outputs": [
    {
     "name": "stdout",
     "output_type": "stream",
     "text": [
      "There are 491 companies in this dataset\n"
     ]
    }
   ],
   "source": [
    "#check for num companies \n",
    "\n",
    "num = data['Company'].nunique()\n",
    "\n",
    "print(\"There are {} companies in this dataset\".format(num))"
   ]
  },
  {
   "cell_type": "markdown",
   "id": "00911589-e482-4aa8-86e8-4979d9c1eb9f",
   "metadata": {},
   "source": [
    "##### Duplicate/Missing values analysis\n",
    "\n",
    "- Just a quick rundowm of the dataset, double checking that we have no missing or duplicate values ensuring the integrity of the dataset. Also running a quick analysis to get an idea of how many companies we are dealing with in our data set."
   ]
  },
  {
   "cell_type": "code",
   "execution_count": 18,
   "id": "017f2e4b-66af-4b05-89d1-d1355f11216c",
   "metadata": {},
   "outputs": [
    {
     "data": {
      "text/plain": [
       "Date             object\n",
       "Open            float64\n",
       "High            float64\n",
       "Low             float64\n",
       "Close           float64\n",
       "Volume            int64\n",
       "Dividends       float64\n",
       "Stock Splits    float64\n",
       "Company          object\n",
       "dtype: object"
      ]
     },
     "execution_count": 18,
     "metadata": {},
     "output_type": "execute_result"
    }
   ],
   "source": [
    "#dtypes\n",
    "\n",
    "data.dtypes"
   ]
  },
  {
   "cell_type": "code",
   "execution_count": 19,
   "id": "935ef93f-4254-4e98-9ded-38d328750baf",
   "metadata": {},
   "outputs": [
    {
     "data": {
      "text/html": [
       "<div>\n",
       "<style scoped>\n",
       "    .dataframe tbody tr th:only-of-type {\n",
       "        vertical-align: middle;\n",
       "    }\n",
       "\n",
       "    .dataframe tbody tr th {\n",
       "        vertical-align: top;\n",
       "    }\n",
       "\n",
       "    .dataframe thead th {\n",
       "        text-align: right;\n",
       "    }\n",
       "</style>\n",
       "<table border=\"1\" class=\"dataframe\">\n",
       "  <thead>\n",
       "    <tr style=\"text-align: right;\">\n",
       "      <th></th>\n",
       "      <th>Open</th>\n",
       "      <th>High</th>\n",
       "      <th>Low</th>\n",
       "      <th>Close</th>\n",
       "      <th>Volume</th>\n",
       "      <th>Dividends</th>\n",
       "      <th>Stock Splits</th>\n",
       "    </tr>\n",
       "  </thead>\n",
       "  <tbody>\n",
       "    <tr>\n",
       "      <th>count</th>\n",
       "      <td>602962.000000</td>\n",
       "      <td>602962.000000</td>\n",
       "      <td>602962.000000</td>\n",
       "      <td>602962.000000</td>\n",
       "      <td>6.029620e+05</td>\n",
       "      <td>602962.00000</td>\n",
       "      <td>602962.000000</td>\n",
       "    </tr>\n",
       "    <tr>\n",
       "      <th>mean</th>\n",
       "      <td>140.074711</td>\n",
       "      <td>141.853492</td>\n",
       "      <td>138.276316</td>\n",
       "      <td>140.095204</td>\n",
       "      <td>5.895601e+06</td>\n",
       "      <td>0.00731</td>\n",
       "      <td>0.000344</td>\n",
       "    </tr>\n",
       "    <tr>\n",
       "      <th>std</th>\n",
       "      <td>275.401725</td>\n",
       "      <td>279.003191</td>\n",
       "      <td>271.895276</td>\n",
       "      <td>275.477969</td>\n",
       "      <td>1.381596e+07</td>\n",
       "      <td>0.12057</td>\n",
       "      <td>0.050607</td>\n",
       "    </tr>\n",
       "    <tr>\n",
       "      <th>min</th>\n",
       "      <td>1.052425</td>\n",
       "      <td>1.061195</td>\n",
       "      <td>1.026114</td>\n",
       "      <td>1.034884</td>\n",
       "      <td>0.000000e+00</td>\n",
       "      <td>0.00000</td>\n",
       "      <td>0.000000</td>\n",
       "    </tr>\n",
       "    <tr>\n",
       "      <th>25%</th>\n",
       "      <td>39.566159</td>\n",
       "      <td>40.056222</td>\n",
       "      <td>39.058151</td>\n",
       "      <td>39.563746</td>\n",
       "      <td>1.031500e+06</td>\n",
       "      <td>0.00000</td>\n",
       "      <td>0.000000</td>\n",
       "    </tr>\n",
       "    <tr>\n",
       "      <th>50%</th>\n",
       "      <td>79.177964</td>\n",
       "      <td>80.125563</td>\n",
       "      <td>78.193820</td>\n",
       "      <td>79.177906</td>\n",
       "      <td>2.228700e+06</td>\n",
       "      <td>0.00000</td>\n",
       "      <td>0.000000</td>\n",
       "    </tr>\n",
       "    <tr>\n",
       "      <th>75%</th>\n",
       "      <td>157.837190</td>\n",
       "      <td>159.746317</td>\n",
       "      <td>155.841609</td>\n",
       "      <td>157.847153</td>\n",
       "      <td>5.277400e+06</td>\n",
       "      <td>0.00000</td>\n",
       "      <td>0.000000</td>\n",
       "    </tr>\n",
       "    <tr>\n",
       "      <th>max</th>\n",
       "      <td>6490.259766</td>\n",
       "      <td>6525.000000</td>\n",
       "      <td>6405.000000</td>\n",
       "      <td>6509.350098</td>\n",
       "      <td>1.123003e+09</td>\n",
       "      <td>35.00000</td>\n",
       "      <td>20.000000</td>\n",
       "    </tr>\n",
       "  </tbody>\n",
       "</table>\n",
       "</div>"
      ],
      "text/plain": [
       "                Open           High            Low          Close  \\\n",
       "count  602962.000000  602962.000000  602962.000000  602962.000000   \n",
       "mean      140.074711     141.853492     138.276316     140.095204   \n",
       "std       275.401725     279.003191     271.895276     275.477969   \n",
       "min         1.052425       1.061195       1.026114       1.034884   \n",
       "25%        39.566159      40.056222      39.058151      39.563746   \n",
       "50%        79.177964      80.125563      78.193820      79.177906   \n",
       "75%       157.837190     159.746317     155.841609     157.847153   \n",
       "max      6490.259766    6525.000000    6405.000000    6509.350098   \n",
       "\n",
       "             Volume     Dividends   Stock Splits  \n",
       "count  6.029620e+05  602962.00000  602962.000000  \n",
       "mean   5.895601e+06       0.00731       0.000344  \n",
       "std    1.381596e+07       0.12057       0.050607  \n",
       "min    0.000000e+00       0.00000       0.000000  \n",
       "25%    1.031500e+06       0.00000       0.000000  \n",
       "50%    2.228700e+06       0.00000       0.000000  \n",
       "75%    5.277400e+06       0.00000       0.000000  \n",
       "max    1.123003e+09      35.00000      20.000000  "
      ]
     },
     "execution_count": 19,
     "metadata": {},
     "output_type": "execute_result"
    }
   ],
   "source": [
    "#summary statistics\n",
    "\n",
    "data.describe()"
   ]
  },
  {
   "cell_type": "markdown",
   "id": "61dbb832-72d7-4103-a2e4-8b230639e386",
   "metadata": {},
   "source": [
    "##### Column Types and Summary Statistics:\n",
    "- Checked the data types of each columns, confirming that the numerical column were set as float64 or int64, and categorical columns were set as object like the company column. (already present in the .describe fct)\n",
    "\n",
    "- Used data.describe() to generate summary statistics for the numeric columns, which provided insights into the distribution of values, including the mean, standard deviation, and range (min/max)."
   ]
  },
  {
   "cell_type": "code",
   "execution_count": 21,
   "id": "0b48e4f7-0a0e-4b15-b170-3d2b0b54206a",
   "metadata": {},
   "outputs": [
    {
     "data": {
      "image/png": "[encoded data removed]",
      "text/plain": [
       "<Figure size 1000x500 with 1 Axes>"
      ]
     },
     "metadata": {},
     "output_type": "display_data"
    }
   ],
   "source": [
    "#boxplot of numeric columns\n",
    "\n",
    "num_cols = ['Open', 'High', 'Low', 'Close', 'Volume', 'Dividends', 'Stock Splits']\n",
    "data[num_cols].boxplot(figsize=(10, 5))\n",
    "plt.xticks(rotation=45)\n",
    "plt.title(\"Boxplot for Numeric Columns\")\n",
    "plt.show()"
   ]
  },
  {
   "cell_type": "markdown",
   "id": "e9023078-34ac-4923-a5b3-4f16c1ea0818",
   "metadata": {},
   "source": [
    "##### Outliers handling:\n",
    "\n",
    "- Made a boxplot of the Numeric columns to have an idea about the distribution of the data. The boxplot below revealed a significant outlier in the volume column. To fix this issue, I applied an Interquartile Range (IQR) method to remove the extreme values present within the Volume column which reduced the size of the data set from 602,962 rows to 536,543 rows making sure that the analysis focuses on realistic data points."
   ]
  },
  {
   "cell_type": "code",
   "execution_count": 23,
   "id": "e48745f7-71f4-465b-a238-bc2f01657e9b",
   "metadata": {},
   "outputs": [
    {
     "name": "stdout",
     "output_type": "stream",
     "text": [
      "Dataset shape after removing outliers in 'Volume': (536543, 9)\n"
     ]
    }
   ],
   "source": [
    "#def a fct to remove outliers based on IQR \n",
    "def remove_outliers_iqr(df, column):\n",
    "    Q1 = df[column].quantile(0.25)\n",
    "    Q3 = df[column].quantile(0.75)\n",
    "    IQR = Q3 - Q1\n",
    "    lower_bound = Q1 - 1.5 * IQR\n",
    "    upper_bound = Q3 + 1.5 * IQR\n",
    "    return df[(df[column] >= lower_bound) & (df[column] <= upper_bound)]\n",
    "\n",
    "#apply the fct to 'Volume' col\n",
    "data = remove_outliers_iqr(data, 'Volume')\n",
    "print(\"Dataset shape after removing outliers in 'Volume':\", data.shape)"
   ]
  },
  {
   "cell_type": "code",
   "execution_count": 24,
   "id": "52d2d300-8620-421f-b900-4f0cca2a8f0a",
   "metadata": {
    "scrolled": true
   },
   "outputs": [
    {
     "data": {
      "image/png": "[encoded data removed]",
      "text/plain": [
       "<Figure size 1000x500 with 1 Axes>"
      ]
     },
     "metadata": {},
     "output_type": "display_data"
    }
   ],
   "source": [
    "#boxplot after running the IQR method\n",
    "\n",
    "num_cols = ['Open', 'High', 'Low', 'Close', 'Volume', 'Dividends', 'Stock Splits']\n",
    "data[num_cols].boxplot(figsize=(10, 5))\n",
    "plt.xticks(rotation=45)\n",
    "plt.title(\"Boxplot for Numeric Columns\")\n",
    "plt.show()"
   ]
  },
  {
   "cell_type": "markdown",
   "id": "89efc95f-eca4-4414-a6f7-0d0cb580d8a2",
   "metadata": {},
   "source": [
    "##### IQR Function Analysis\n",
    "\n",
    "- As discussed the IQR function signiifcantly reduced the size of our data set but made a significant improvement in data quality, as we can see in the new boxplot after applying the IQR method. Extreme values won't skew your analysis now."
   ]
  },
  {
   "cell_type": "code",
   "execution_count": 26,
   "id": "c5528a40-1900-4704-bfbb-08840f325063",
   "metadata": {},
   "outputs": [
    {
     "name": "stderr",
     "output_type": "stream",
     "text": [
      "/var/folders/dg/ks7454494w193jd09h3m8mfh0000gn/T/ipykernel_30340/2115559694.py:5: FutureWarning: Setting an item of incompatible dtype is deprecated and will raise in a future error of pandas. Value '[ 0.75545668  2.35719433  1.68905465 ... -0.9749502  -0.21851627\n",
      " -0.76547191]' has dtype incompatible with int64, please explicitly cast to a compatible dtype first.\n",
      "  data.loc[:, num_cols] = scaler.fit_transform(data[num_cols])\n"
     ]
    },
    {
     "data": {
      "text/html": [
       "<div>\n",
       "<style scoped>\n",
       "    .dataframe tbody tr th:only-of-type {\n",
       "        vertical-align: middle;\n",
       "    }\n",
       "\n",
       "    .dataframe tbody tr th {\n",
       "        vertical-align: top;\n",
       "    }\n",
       "\n",
       "    .dataframe thead th {\n",
       "        text-align: right;\n",
       "    }\n",
       "</style>\n",
       "<table border=\"1\" class=\"dataframe\">\n",
       "  <thead>\n",
       "    <tr style=\"text-align: right;\">\n",
       "      <th></th>\n",
       "      <th>Date</th>\n",
       "      <th>Open</th>\n",
       "      <th>High</th>\n",
       "      <th>Low</th>\n",
       "      <th>Close</th>\n",
       "      <th>Volume</th>\n",
       "      <th>Dividends</th>\n",
       "      <th>Stock Splits</th>\n",
       "      <th>Company</th>\n",
       "    </tr>\n",
       "  </thead>\n",
       "  <tbody>\n",
       "    <tr>\n",
       "      <th>7</th>\n",
       "      <td>2018-11-29 00:00:00-05:00</td>\n",
       "      <td>-0.150978</td>\n",
       "      <td>-0.147117</td>\n",
       "      <td>-0.147398</td>\n",
       "      <td>-0.145600</td>\n",
       "      <td>0.755457</td>\n",
       "      <td>-0.061173</td>\n",
       "      <td>-0.007346</td>\n",
       "      <td>LLY</td>\n",
       "    </tr>\n",
       "    <tr>\n",
       "      <th>8</th>\n",
       "      <td>2018-11-29 00:00:00-05:00</td>\n",
       "      <td>-0.048694</td>\n",
       "      <td>-0.054396</td>\n",
       "      <td>-0.049426</td>\n",
       "      <td>-0.054069</td>\n",
       "      <td>2.357194</td>\n",
       "      <td>-0.061173</td>\n",
       "      <td>-0.007346</td>\n",
       "      <td>V</td>\n",
       "    </tr>\n",
       "    <tr>\n",
       "      <th>9</th>\n",
       "      <td>2018-11-29 00:00:00-05:00</td>\n",
       "      <td>-0.402690</td>\n",
       "      <td>-0.402587</td>\n",
       "      <td>-0.401538</td>\n",
       "      <td>-0.402720</td>\n",
       "      <td>1.689055</td>\n",
       "      <td>-0.061173</td>\n",
       "      <td>-0.007346</td>\n",
       "      <td>TSM</td>\n",
       "    </tr>\n",
       "    <tr>\n",
       "      <th>10</th>\n",
       "      <td>2018-11-29 00:00:00-05:00</td>\n",
       "      <td>0.380866</td>\n",
       "      <td>0.385474</td>\n",
       "      <td>0.391983</td>\n",
       "      <td>0.387477</td>\n",
       "      <td>0.554215</td>\n",
       "      <td>-0.061173</td>\n",
       "      <td>-0.007346</td>\n",
       "      <td>UNH</td>\n",
       "    </tr>\n",
       "    <tr>\n",
       "      <th>11</th>\n",
       "      <td>2018-11-29 00:00:00-05:00</td>\n",
       "      <td>0.163269</td>\n",
       "      <td>0.167320</td>\n",
       "      <td>0.167517</td>\n",
       "      <td>0.167536</td>\n",
       "      <td>-0.386282</td>\n",
       "      <td>-0.061173</td>\n",
       "      <td>-0.007346</td>\n",
       "      <td>AVGO</td>\n",
       "    </tr>\n",
       "  </tbody>\n",
       "</table>\n",
       "</div>"
      ],
      "text/plain": [
       "                         Date      Open      High       Low     Close  \\\n",
       "7   2018-11-29 00:00:00-05:00 -0.150978 -0.147117 -0.147398 -0.145600   \n",
       "8   2018-11-29 00:00:00-05:00 -0.048694 -0.054396 -0.049426 -0.054069   \n",
       "9   2018-11-29 00:00:00-05:00 -0.402690 -0.402587 -0.401538 -0.402720   \n",
       "10  2018-11-29 00:00:00-05:00  0.380866  0.385474  0.391983  0.387477   \n",
       "11  2018-11-29 00:00:00-05:00  0.163269  0.167320  0.167517  0.167536   \n",
       "\n",
       "      Volume  Dividends  Stock Splits Company  \n",
       "7   0.755457  -0.061173     -0.007346     LLY  \n",
       "8   2.357194  -0.061173     -0.007346       V  \n",
       "9   1.689055  -0.061173     -0.007346     TSM  \n",
       "10  0.554215  -0.061173     -0.007346     UNH  \n",
       "11 -0.386282  -0.061173     -0.007346    AVGO  "
      ]
     },
     "execution_count": 26,
     "metadata": {},
     "output_type": "execute_result"
    }
   ],
   "source": [
    "#scailing\n",
    "\n",
    "scaler = StandardScaler()\n",
    "num_cols = ['Open', 'High', 'Low', 'Close', 'Volume', 'Dividends', 'Stock Splits']\n",
    "data.loc[:, num_cols] = scaler.fit_transform(data[num_cols])\n",
    "data.head() #check scaled values"
   ]
  },
  {
   "cell_type": "markdown",
   "id": "a6a80234-4896-4165-97b8-cb4d19b8fef0",
   "metadata": {},
   "source": [
    "##### Scalling the data\n",
    "\n",
    "- To standarize the numeric columns ('Open', 'High', 'Low', 'Close', 'Volume', 'Dividends' and 'Stock Splits'), I applied z-scores using the StandardScaler from sklearn library. This ensures that all numeric features are on a comparable scale, which is particularly important for machine learning algorithms."
   ]
  },
  {
   "cell_type": "code",
   "execution_count": 28,
   "id": "adb4f212-48d0-44f9-bff5-39569825a5cb",
   "metadata": {},
   "outputs": [
    {
     "data": {
      "image/png": "[encoded data removed]",
      "text/plain": [
       "<Figure size 640x480 with 2 Axes>"
      ]
     },
     "metadata": {},
     "output_type": "display_data"
    }
   ],
   "source": [
    "#num cols only for corr matrix\n",
    "num_cols = data.select_dtypes(include=['float64', 'int64']).columns\n",
    "corr_matrix = data[num_cols].corr()\n",
    "\n",
    "sns.heatmap(corr_matrix, annot=True, cmap=\"coolwarm\")\n",
    "plt.title(\"Feature Correlation Matrix\")\n",
    "plt.show()"
   ]
  },
  {
   "cell_type": "markdown",
   "id": "9cc4e3ad-e4cb-4708-b1df-473b79dd290b",
   "metadata": {},
   "source": [
    "##### Correlation Analysis\n",
    "\n",
    "- Computed a correlation matrix for the numerical columns to understand the correlation between fetaures. The matrix revealed a strong correlatiomn between feature like Open, High, Low, Close but weaker correlation with features like Volume, Dividemds and Stock Split. The correlation matrix helps identifying redundant features and relationships that may influence model performance."
   ]
  },
  {
   "cell_type": "markdown",
   "id": "39a8abc0-6e8f-4501-9756-12e41206fa29",
   "metadata": {},
   "source": [
    "  "
   ]
  },
  {
   "cell_type": "markdown",
   "id": "8c1f8926-80a1-44a6-ad43-a61e71c57c5e",
   "metadata": {},
   "source": [
    "### III - Models \n",
    "\n",
    "#### I - Regression\n",
    "\n",
    "##### Model 1: Linear Regression\n",
    "\n",
    "Model Overview: Linear Regression is one of the simplest but very effective method for supervised learning used for predicting a quantitative response. It assumes a linear relationship between the features (predictors) and the target variable. In this project, I used Linear Regression to predict the closing price (Close) of stocks based on features like Open, High, Low, Volume, Dividends, and Stock Splits."
   ]
  },
  {
   "cell_type": "code",
   "execution_count": 32,
   "id": "c8e90863-80b8-4d6e-ba36-a64c76c09a86",
   "metadata": {},
   "outputs": [],
   "source": [
    "#Step 1: define features and target \n",
    "X = data.drop(columns=['Close', 'Date', 'Company']) #dropped\n",
    "y = data['Close'] #target"
   ]
  },
  {
   "cell_type": "markdown",
   "id": "798e5a54-b6e8-4ac2-980b-9c556d34fb7e",
   "metadata": {},
   "source": [
    "##### Features and target selection\n",
    "\n",
    "- Features : Open, High, Low, Volume, Dividends, Stock Splits\n",
    "- Target : Close\n",
    "- Drpped columns: Close, Date, Company (because they don't contribute to the prediction or would cause data leakage)"
   ]
  },
  {
   "cell_type": "code",
   "execution_count": 34,
   "id": "6ce13424-917f-42c1-bd4d-b234c4646181",
   "metadata": {},
   "outputs": [
    {
     "name": "stdout",
     "output_type": "stream",
     "text": [
      "X_train shape: (429234, 6) X_test shape: (107309, 6)\n",
      "y_train shape: (429234,) y_test shape: (107309,)\n"
     ]
    }
   ],
   "source": [
    "#Step 2: split data into training and testing sets\n",
    "X_train, X_test, y_train, y_test = train_test_split(X, y, test_size=0.2, random_state=42)\n",
    "\n",
    "#shapes of sets\n",
    "print(\"X_train shape:\", X_train.shape, \"X_test shape:\", X_test.shape)\n",
    "print(\"y_train shape:\", y_train.shape, \"y_test shape:\", y_test.shape)"
   ]
  },
  {
   "cell_type": "markdown",
   "id": "deb98107-d901-4664-a879-63d9efe1abd0",
   "metadata": {},
   "source": [
    "##### Data Splitting\n",
    "\n",
    "- The dataset was split into training (80%) and testing (20%) sets using train_test_split to evaluate the model performance on unseen data"
   ]
  },
  {
   "cell_type": "code",
   "execution_count": 36,
   "id": "868a8644-bd8b-47fe-aa3d-cffeb398505b",
   "metadata": {},
   "outputs": [
    {
     "name": "stdout",
     "output_type": "stream",
     "text": [
      "Model Coefficients: [-5.78606642e-01  7.96833790e-01  7.81733219e-01 -6.20317918e-05\n",
      "  1.80468694e-05  8.03137440e-07] \n",
      "\n",
      "Intercept: -1.1272741050370261e-06\n"
     ]
    }
   ],
   "source": [
    "#Step 3: model training\n",
    "reg_model = LinearRegression()\n",
    "reg_model.fit(X_train, y_train)\n",
    "\n",
    "print(\"Model Coefficients:\", reg_model.coef_, \"\\n\")\n",
    "print(\"Intercept:\", reg_model.intercept_)"
   ]
  },
  {
   "cell_type": "markdown",
   "id": "b93a9174-64fe-4e5f-8465-3b13433e5b84",
   "metadata": {},
   "source": [
    "##### Model training\n",
    "\n",
    "- The linear regression modle was trained on the training set using LinearRegression class from sklearn. After fitting the model, I extracted the coefficients and intercept to understand the contribution of each feature."
   ]
  },
  {
   "cell_type": "code",
   "execution_count": 38,
   "id": "88bf8d17-3492-47e7-bba4-e3b609aaa0fc",
   "metadata": {},
   "outputs": [],
   "source": [
    "#Step 4: predictions\n",
    "y_pred = reg_model.predict(X_test)"
   ]
  },
  {
   "cell_type": "code",
   "execution_count": 39,
   "id": "7bf00251-ae6a-4fca-a4a2-b90b5f93122d",
   "metadata": {},
   "outputs": [
    {
     "name": "stdout",
     "output_type": "stream",
     "text": [
      "RMSE: 0.008174986878215957\n",
      "R^2 Score: 0.9999321321773458\n"
     ]
    },
    {
     "name": "stderr",
     "output_type": "stream",
     "text": [
      "/opt/anaconda3/lib/python3.12/site-packages/sklearn/metrics/_regression.py:483: FutureWarning: 'squared' is deprecated in version 1.4 and will be removed in 1.6. To calculate the root mean squared error, use the function'root_mean_squared_error'.\n",
      "  warnings.warn(\n"
     ]
    }
   ],
   "source": [
    "#Step 5: evaluate model\n",
    "rmse = mean_squared_error(y_test, y_pred, squared=False)\n",
    "r2 = r2_score(y_test, y_pred)\n",
    "\n",
    "print(\"RMSE:\", rmse)\n",
    "print(\"R^2 Score:\", r2)"
   ]
  },
  {
   "cell_type": "markdown",
   "id": "c6bb9ca3-b30d-436c-af2d-ed5b5c64654b",
   "metadata": {},
   "source": [
    "##### Model Evaluation \n",
    "\n",
    "- Predictions (y_pred) were generated on the test set\n",
    "- Performance:\n",
    "  - RMSE : Measures the average magnitude of errors in prediction.\n",
    "  - R squared : Indicates how well the model explains the variability in the target variable. An R squared close to 1.0 suggests the model performs very well."
   ]
  },
  {
   "cell_type": "code",
   "execution_count": 41,
   "id": "82861027-b2f9-489a-b4c1-585363598fe0",
   "metadata": {},
   "outputs": [
    {
     "data": {
      "image/png": "[encoded data removed]",
      "text/plain": [
       "<Figure size 640x480 with 1 Axes>"
      ]
     },
     "metadata": {},
     "output_type": "display_data"
    }
   ],
   "source": [
    "#plot residuals vs. true vals\n",
    "\n",
    "res = y_test - y_pred\n",
    "plt.scatter(y_test, res)\n",
    "plt.axhline(0, color='red', linestyle='--')\n",
    "plt.title(\"Residuals vs True Values\")\n",
    "plt.xlabel(\"True Values\")\n",
    "plt.ylabel(\"Residuals\")\n",
    "plt.show()"
   ]
  },
  {
   "cell_type": "markdown",
   "id": "eb8f73ca-6d00-4548-9559-fdf2144192f5",
   "metadata": {},
   "source": [
    "##### Residual analysis\n",
    "\n",
    "- A scatter plot of residuals (difference between predicted and actual values) was generated to assess the model's performance. Ideally, residuals should be randomly distributed around 0, indicating no systematic error."
   ]
  },
  {
   "cell_type": "code",
   "execution_count": 43,
   "id": "acd1d548-b964-4b96-8391-eccd73973e26",
   "metadata": {
    "scrolled": true
   },
   "outputs": [
    {
     "name": "stdout",
     "output_type": "stream",
     "text": [
      "                            OLS Regression Results                            \n",
      "==============================================================================\n",
      "Dep. Variable:                  Close   R-squared:                       1.000\n",
      "Model:                            OLS   Adj. R-squared:                  1.000\n",
      "Method:                 Least Squares   F-statistic:                 1.192e+09\n",
      "Date:                Fri, 06 Dec 2024   Prob (F-statistic):               0.00\n",
      "Time:                        23:15:15   Log-Likelihood:             1.7867e+06\n",
      "No. Observations:              536543   AIC:                        -3.573e+06\n",
      "Df Residuals:                  536536   BIC:                        -3.573e+06\n",
      "Df Model:                           6                                         \n",
      "Covariance Type:            nonrobust                                         \n",
      "================================================================================\n",
      "                   coef    std err          t      P>|t|      [0.025      0.975]\n",
      "--------------------------------------------------------------------------------\n",
      "const         3.214e-17   1.18e-05   2.72e-12      1.000   -2.32e-05    2.32e-05\n",
      "Open            -0.5696      0.001   -537.461      0.000      -0.572      -0.568\n",
      "High             0.7957      0.001    849.084      0.000       0.794       0.798\n",
      "Low              0.7738      0.001    879.441      0.000       0.772       0.776\n",
      "Volume       -6.496e-05   1.21e-05     -5.357      0.000   -8.87e-05   -4.12e-05\n",
      "Dividends     1.191e-05   1.18e-05      1.007      0.314   -1.13e-05    3.51e-05\n",
      "Stock Splits  7.082e-07   1.18e-05      0.060      0.952   -2.25e-05    2.39e-05\n",
      "==============================================================================\n",
      "Omnibus:                   322354.491   Durbin-Watson:                   1.849\n",
      "Prob(Omnibus):                  0.000   Jarque-Bera (JB):       5632271076.778\n",
      "Skew:                           0.929   Prob(JB):                         0.00\n",
      "Kurtosis:                     504.929   Cond. No.                         193.\n",
      "==============================================================================\n",
      "\n",
      "Notes:\n",
      "[1] Standard Errors assume that the covariance matrix of the errors is correctly specified.\n"
     ]
    }
   ],
   "source": [
    "# OLS summary\n",
    "\n",
    "X = data.drop(columns=['Close', 'Date', 'Company']) #dropped\n",
    "y = data['Close'] #target\n",
    "\n",
    "X_ols = sm.add_constant(X)\n",
    "\n",
    "ols_model = sm.OLS(y, X_ols).fit()\n",
    "\n",
    "print(ols_model.summary())"
   ]
  },
  {
   "cell_type": "markdown",
   "id": "0fe7c7e6-6b5c-4d6c-8123-a93e2ff018a1",
   "metadata": {
    "jp-MarkdownHeadingCollapsed": true
   },
   "source": [
    "##### OLS summary \n",
    "\n",
    "- Provides statistical details about the model"
   ]
  },
  {
   "cell_type": "markdown",
   "id": "28432a6d-2a44-4048-b8b0-552f9b116aa1",
   "metadata": {},
   "source": [
    "##### Results Interpretation \n",
    "\n",
    "- RMSE : The RMSE value represents the average error between predicted and actual values. A low RMSE is desirable, in this case the RMSE vslue is about 0.0082 whihc is still relatively low which shows that the model is performing well.\n",
    "\n",
    "- R squared: An R squared close to 1 is typically ideal, it indicates that the model explains almost all of the variability in the target variable. In this case the R squared value is 0.9999. While it may seem ideal a very high R squared can also indicate tat the model has overfit the data, especially if the data contains hugh correlation featrues (as observed in the correlation matrix). It would be worth investigating this further.\n",
    "\n",
    "- Residual Plot : The residual plot shows the difference between the predicted and actual values. The residuals appear to be scattered around 0, which is a good sign as it suggests no systematic bias in predictions.\n",
    "\n",
    "##### Recommandation for improvement\n",
    "\n",
    "- Address Multicolinearity : We notice that some fetaures are very highly correlated which can inflate coefficients and limit the model's interpretability. We should consider using Ridge or Lasso regression to mitigate this.\n",
    "\n",
    "- R squared : The almost perfect score of R squared may suggest overfitting which we would have to investigate. If it is the case, we might fix it by introducing more variability in the data (ex: additional derived features)."
   ]
  },
  {
   "cell_type": "markdown",
   "id": "47028a2a-205e-4d14-b8e7-d5ba1525e5ba",
   "metadata": {},
   "source": [
    "#### Model 2 (3): Ridge + Lasso Regression\n",
    "\n",
    "Model Overview: Ridge and Lasso Regression are extensions of Linear Regression that introduce regularization to prevent overfitting by penalizing large coefficients. Ridge applies L2 regularization, which shrinks all coefficients but does not eliminate any. Lasso applies L1 regularization, which can shrink coefficients to zero, effectively performing feature selection. These methods are particularly helpful when dealing with multicollinearity or when some predictors are less relevant."
   ]
  },
  {
   "cell_type": "code",
   "execution_count": 109,
   "id": "a35d5406-2ea9-44a9-a656-8459abab4e34",
   "metadata": {},
   "outputs": [
    {
     "name": "stdout",
     "output_type": "stream",
     "text": [
      "Alpha: 0.001 | Ridge RMSE: 6.68301276027605e-05 | Ridge R^2: 0.9999321324645929\n",
      "Alpha: 0.01 | Ridge RMSE: 6.682758939832911e-05 | Ridge R^2: 0.9999321350421979\n",
      "Alpha: 0.1 | Ridge RMSE: 6.680294619537836e-05 | Ridge R^2: 0.9999321600679387\n",
      "Alpha: 1 | Ridge RMSE: 6.662663404666749e-05 | Ridge R^2: 0.9999323391169908\n",
      "Alpha: 10 | Ridge RMSE: 6.924062954804176e-05 | Ridge R^2: 0.9999296845442912\n"
     ]
    }
   ],
   "source": [
    "#Ridge\n",
    "\n",
    "alphas = [0.001, 0.01, 0.1, 1, 10]  #different alpha vals\n",
    "\n",
    "for alpha in alphas:\n",
    "    ridge_model = Ridge(alpha=alpha)\n",
    "    ridge_model.fit(X_train, y_train)\n",
    "    y_pred_ridge = ridge_model.predict(X_test)\n",
    "    ridge_rmse = mean_squared_error(y_test, y_pred_ridge)\n",
    "    ridge_r2 = r2_score(y_test, y_pred_ridge)\n",
    "    print(f\"Alpha: {alpha} | Ridge RMSE: {ridge_rmse} | Ridge R^2: {ridge_r2}\")"
   ]
  },
  {
   "cell_type": "markdown",
   "id": "250b6457-118b-421d-93e7-e52a8cacec48",
   "metadata": {},
   "source": [
    "##### Tuning alpha values \n",
    "\n",
    "- Tested multiple values for the regularization parameter ranging from 0.001 to 10.\n",
    "- For both Ridge and Lasso, smaller values of alpha allow the model to behave more like regular Linear Regression, while larger values apply stronger regularization\n",
    "\n",
    "##### Model Evaluation \n",
    "\n",
    "- For each alpha, the model was evaluated using:\n",
    "  - RMSE\n",
    "  - R squared\n",
    " \n",
    "- The best performance was achieved with alpha = 0.1, yielding:\n",
    "  - RMSE = 6.66e-05\n",
    "  - R squared = 0.9999"
   ]
  },
  {
   "cell_type": "code",
   "execution_count": 49,
   "id": "eeb0959a-ab1f-4abe-8bbf-8b7648280a51",
   "metadata": {},
   "outputs": [
    {
     "name": "stdout",
     "output_type": "stream",
     "text": [
      "Ridge coefficients: [-3.80635149e-01  6.89106229e-01  6.91486185e-01 -5.08535678e-05\n",
      "  1.40591295e-05 -9.93824506e-08]\n"
     ]
    }
   ],
   "source": [
    "print(\"Ridge coefficients:\", ridge_model.coef_)"
   ]
  },
  {
   "cell_type": "markdown",
   "id": "fa8588d5-bd98-4da8-8d72-5815193bf06f",
   "metadata": {},
   "source": [
    "##### Coefficient\n",
    "\n",
    "- Ridge shrunk all coefficients slightly, which helps reduce the impact of multicollinearity without removing any features entirely."
   ]
  },
  {
   "cell_type": "code",
   "execution_count": 51,
   "id": "e3398ebd-792e-43ec-8e01-27191ab72415",
   "metadata": {},
   "outputs": [],
   "source": [
    "# Best alpha value = 0.01"
   ]
  },
  {
   "cell_type": "code",
   "execution_count": 52,
   "id": "2c8f0351-4fe6-4fdc-a5b9-f2bdac344e2b",
   "metadata": {},
   "outputs": [
    {
     "name": "stdout",
     "output_type": "stream",
     "text": [
      "Best Ridge Alpha: 0.001\n",
      "Best Ridge CV Score: 7.742610477991371e-05\n"
     ]
    }
   ],
   "source": [
    "#GridSearchCV w Ridge\n",
    "\n",
    "param_grid = {'alpha': [0.001, 0.01, 0.1, 1, 10, 100]} #parameter grid\n",
    "\n",
    "# Ridge Regression\n",
    "ridge = Ridge()\n",
    "ridge_cv = GridSearchCV(ridge, param_grid, scoring='neg_mean_squared_error', cv=5)\n",
    "ridge_cv.fit(X_train, y_train)\n",
    "\n",
    "print(f\"Best Ridge Alpha: {ridge_cv.best_params_['alpha']}\")\n",
    "print(f\"Best Ridge CV Score: {-ridge_cv.best_score_}\")"
   ]
  },
  {
   "cell_type": "markdown",
   "id": "c4372959-cf48-4e5e-9419-734c5943349a",
   "metadata": {},
   "source": [
    "##### Grid Search CV\n",
    "\n",
    "- Using GridSearchCV with cross-validation, the optimal alpha was confirmed to be 0.1, with a corresponding RMSE of 7.74e-05.\n",
    "\n",
    "#### Model Analysis \n",
    "\n",
    "##### Model performance \n",
    "\n",
    "- Ridge performed similarly to Linear Regression, with slightly improved generalization due to regularization. The R squared remained high across all alpha values, indicating that the model explains nearly all variability in the target.\n",
    "\n",
    "##### Impact of Regularization \n",
    "\n",
    "- The coefficients were slightly reduced in magnitude compared to regular Linear Regression, deacreasing the impact of multicollinearity among correlated features like Open, High, and Low.\n",
    "\n",
    "##### Observations \n",
    "- Ridge Regression is effective for this dataset, but the improvement over Linear Regression is minimal due to the high correlation among features and the dataset's simplicity.\n",
    "\n",
    "##### Suggestion \n",
    "- While Ridge shrinks coefficients, adding more derived features or removing redundancy might further improve performance.\n",
    "\n",
    "##### Overall\n",
    "- Remains a good fit model"
   ]
  },
  {
   "cell_type": "code",
   "execution_count": 110,
   "id": "c56f0f58-4f27-4b3f-8f3c-5501b2bb3b77",
   "metadata": {},
   "outputs": [
    {
     "name": "stdout",
     "output_type": "stream",
     "text": [
      "Alpha: 0.001 | Lasso RMSE: 0.0001091573340328893 | Lasso R^2: 0.9998891482105726\n",
      "Alpha: 0.01 | Lasso RMSE: 0.00020951640240780405 | Lasso R^2: 0.9997872312627725\n",
      "Alpha: 0.1 | Lasso RMSE: 0.009948300530307017 | Lasso R^2: 0.9898972714447763\n",
      "Alpha: 1 | Lasso RMSE: 0.9771860617671163 | Lasso R^2: 0.007645024403323597\n",
      "Alpha: 10 | Lasso RMSE: 0.9847285101345356 | Lasso R^2: -1.450581147932617e-05\n"
     ]
    }
   ],
   "source": [
    "#Lasso\n",
    "\n",
    "alphas = [0.001, 0.01, 0.1, 1, 10]  #different alpha values\n",
    "for alpha in alphas:\n",
    "    lasso_model = Lasso(alpha=alpha, max_iter=10000) #increase iters\n",
    "    lasso_model.fit(X_train, y_train)\n",
    "    y_pred_lasso = lasso_model.predict(X_test)\n",
    "    lasso_rmse = mean_squared_error(y_test, y_pred_lasso)\n",
    "    lasso_r2 = r2_score(y_test, y_pred_lasso)\n",
    "    print(f\"Alpha: {alpha} | Lasso RMSE: {lasso_rmse} | Lasso R^2: {lasso_r2}\")"
   ]
  },
  {
   "cell_type": "markdown",
   "id": "00f51358-04dd-445e-ba93-26dba5a01fb0",
   "metadata": {},
   "source": [
    "##### Tuning alpha values \n",
    "\n",
    "- Tested multiple values for the regularization parameter ranging from 0.001 to 10.\n",
    "- For larger alpha values (ex: 10), all coefficient were shrunk to zero resulting in poor model performance.\n",
    "\n",
    "##### Model Evaluation\n",
    "\n",
    "- For each alpha, the model was evaluated using:\n",
    "  - RMSE\n",
    "  - R squared\n",
    " \n",
    "- The best performance was achieved with alpha = 0.001.\n",
    "  - RMSE = 0.00010\n",
    "  - R squared = 0.9998\n",
    " \n",
    "- Larger alpha values caused underfitting -> negative R squared scores and higher RMSE."
   ]
  },
  {
   "cell_type": "code",
   "execution_count": 56,
   "id": "05e62267-f536-469e-8ff4-27df9cec9657",
   "metadata": {},
   "outputs": [
    {
     "name": "stdout",
     "output_type": "stream",
     "text": [
      "Lasso coefficients: [ 0.  0.  0. -0.  0. -0.]\n"
     ]
    }
   ],
   "source": [
    "print(\"Lasso coefficients:\", lasso_model.coef_)"
   ]
  },
  {
   "cell_type": "markdown",
   "id": "5768a328-a2c3-4b9f-a4f8-778c882b1557",
   "metadata": {},
   "source": [
    "##### Coefficients\n",
    "\n",
    "- For alpha = 0.001:\n",
    "  - coefficients were significantly reduced but not entirely eliminated, indicating Lasso's ability to identify and prioritize the most relevant predictors.\n",
    " \n",
    "- For alpha >= 0.01:\n",
    "  -  all coefficients were eliminated, suggesting that Lasso considered the features unimportant at those regularization levels."
   ]
  },
  {
   "cell_type": "code",
   "execution_count": 58,
   "id": "7583e792-8204-4e63-a991-ee0ce811b058",
   "metadata": {},
   "outputs": [],
   "source": [
    "# Best alpha value = 0.001"
   ]
  },
  {
   "cell_type": "code",
   "execution_count": 59,
   "id": "ef39fdaf-67c2-4534-8b73-4324bbfeb54e",
   "metadata": {},
   "outputs": [
    {
     "name": "stdout",
     "output_type": "stream",
     "text": [
      "Best Lasso Alpha: 0.001\n",
      "Best Lasso CV Score: 0.00013261617168896432\n"
     ]
    }
   ],
   "source": [
    "# GridSearchCV w Lasso\n",
    "\n",
    "param_grid = {'alpha': [0.001, 0.01, 0.1, 1, 10, 100]}\n",
    "\n",
    "lasso = Lasso(max_iter=10000)  #increase iters\n",
    "lasso_cv = GridSearchCV(lasso, param_grid, scoring='neg_mean_squared_error', cv=5)\n",
    "lasso_cv.fit(X_train, y_train)\n",
    "\n",
    "print(f\"Best Lasso Alpha: {lasso_cv.best_params_['alpha']}\")\n",
    "print(f\"Best Lasso CV Score: {-lasso_cv.best_score_}\")"
   ]
  },
  {
   "cell_type": "markdown",
   "id": "e0e50393-3d29-4c45-aeb8-921d0d26ea55",
   "metadata": {},
   "source": [
    "##### Grid Search CV\n",
    "\n",
    "- Using GridSearchCV, the optimal alpha was found to be 0.001, with a corresponding RMSE of 0.00013.\n",
    "\n",
    "#### Model Analysis\n",
    "\n",
    "##### Model performance\n",
    "\n",
    "- Lasso performed slightly worse than Ridge in terms of RMSE but demonstrated its strength in feature selection.\n",
    "- The R squared score for smaller alpha values was comparable to Ridge, confirming Lasso's effectiveness at retaining relevant predictors.\n",
    "\n",
    "##### Impact of Regularization\n",
    "\n",
    "- Lasso effectively reduced less important coefficients to near zero, simplifying the model and making it more interpretable.\n",
    "- However excessive regularization led to underfitting.\n",
    "\n",
    "##### Observations\n",
    "\n",
    "- Lasso highlighted that not all features contribute equally to predicting the target variable. For small alpha values, it retained relevant features while eliminating others.\n",
    "\n",
    "##### Suggestions\n",
    "\n",
    "- Lasso could be explored further for feature selection, by testing a smaller range of alphas such as alpha = 0.0005, 0.005... it might reveal an even better performance\n",
    "- Feature engineering -> adding derived metrics\n",
    "\n",
    "#### Conclusion\n",
    "\n",
    "- Performance Metrics:\n",
    "  - Linear Regression:\n",
    "    - RMSE: Very low\n",
    "    - R^2: Near-perfect (0.9999)\n",
    "  - Observations: Performs exceptionally well but might overfit due to multicollinearity.\n",
    "  \n",
    "    - Ridge Regression:\n",
    "      - RMSE: Slightly better than Linear Regression (6.66e-05 with alpha=0.1).\n",
    "      - R^2: Near-perfect (0.9999).\n",
    "    - Observations: Similar performance to Linear Regression but slightly more robust due to L2 regularization.\n",
    "\n",
    "    - Lasso Regression:\n",
    "      - RMSE: Higher than Ridge (0.00013 with alpha=0.001).\n",
    "      - R^2: Slightly lower than Ridge (0.9998).\n",
    "    - Observations: Performs feature selection but sacrifices slight performance compared to Ridge.\n",
    "\n",
    "##### Best model\n",
    "\n",
    "- Ridge Regression :\n",
    "  - Helds the lowest RMSE amongts all 3 models\n",
    "  - Robust towards multicolinearity\n",
    "  - Retains all features\n",
    " \n",
    "##### Why not Linear or Lasso?\n",
    "- Linear Regression\n",
    "  - even if it holds very good results as well, it risks overfitting due to the high correlations between features.\n",
    "\n",
    "- Lasso Regression\n",
    "  - underperforms Ridge in terms of RMSE and R^2. For this dataset, removing coefficients doesn’t significantly improve results"
   ]
  },
  {
   "cell_type": "markdown",
   "id": "a6579824-ed69-4215-910b-f4255c4eac6c",
   "metadata": {},
   "source": [
    "### Classification task\n",
    "\n",
    "#### Model 1: Logistic Regression\n",
    "\n",
    "Model Overview : Logistic Regression is a supervised learning method for classification tasks. It predicts the probability of a data point belonging to a particular class by modeling the relationship between the features and the target variable using a logistic function. In this project, Logistic Regression was used to classify stock movement, where the binary target variable (Target) was created as 1 if the stock’s closing price increased and 0 otherwise."
   ]
  },
  {
   "cell_type": "code",
   "execution_count": 62,
   "id": "67342ee9-4a32-4c38-b789-b4c9d341a88b",
   "metadata": {},
   "outputs": [
    {
     "name": "stderr",
     "output_type": "stream",
     "text": [
      "/var/folders/dg/ks7454494w193jd09h3m8mfh0000gn/T/ipykernel_30340/3242345597.py:2: SettingWithCopyWarning: \n",
      "A value is trying to be set on a copy of a slice from a DataFrame.\n",
      "Try using .loc[row_indexer,col_indexer] = value instead\n",
      "\n",
      "See the caveats in the documentation: https://pandas.pydata.org/pandas-docs/stable/user_guide/indexing.html#returning-a-view-versus-a-copy\n",
      "  data['Target'] = (data['Close'] > 0).astype(int)\n"
     ]
    },
    {
     "data": {
      "text/html": [
       "<div>\n",
       "<style scoped>\n",
       "    .dataframe tbody tr th:only-of-type {\n",
       "        vertical-align: middle;\n",
       "    }\n",
       "\n",
       "    .dataframe tbody tr th {\n",
       "        vertical-align: top;\n",
       "    }\n",
       "\n",
       "    .dataframe thead th {\n",
       "        text-align: right;\n",
       "    }\n",
       "</style>\n",
       "<table border=\"1\" class=\"dataframe\">\n",
       "  <thead>\n",
       "    <tr style=\"text-align: right;\">\n",
       "      <th></th>\n",
       "      <th>Date</th>\n",
       "      <th>Open</th>\n",
       "      <th>High</th>\n",
       "      <th>Low</th>\n",
       "      <th>Close</th>\n",
       "      <th>Volume</th>\n",
       "      <th>Dividends</th>\n",
       "      <th>Stock Splits</th>\n",
       "      <th>Company</th>\n",
       "      <th>Target</th>\n",
       "    </tr>\n",
       "  </thead>\n",
       "  <tbody>\n",
       "    <tr>\n",
       "      <th>7</th>\n",
       "      <td>2018-11-29 00:00:00-05:00</td>\n",
       "      <td>-0.150978</td>\n",
       "      <td>-0.147117</td>\n",
       "      <td>-0.147398</td>\n",
       "      <td>-0.145600</td>\n",
       "      <td>0.755457</td>\n",
       "      <td>-0.061173</td>\n",
       "      <td>-0.007346</td>\n",
       "      <td>LLY</td>\n",
       "      <td>0</td>\n",
       "    </tr>\n",
       "    <tr>\n",
       "      <th>8</th>\n",
       "      <td>2018-11-29 00:00:00-05:00</td>\n",
       "      <td>-0.048694</td>\n",
       "      <td>-0.054396</td>\n",
       "      <td>-0.049426</td>\n",
       "      <td>-0.054069</td>\n",
       "      <td>2.357194</td>\n",
       "      <td>-0.061173</td>\n",
       "      <td>-0.007346</td>\n",
       "      <td>V</td>\n",
       "      <td>0</td>\n",
       "    </tr>\n",
       "    <tr>\n",
       "      <th>9</th>\n",
       "      <td>2018-11-29 00:00:00-05:00</td>\n",
       "      <td>-0.402690</td>\n",
       "      <td>-0.402587</td>\n",
       "      <td>-0.401538</td>\n",
       "      <td>-0.402720</td>\n",
       "      <td>1.689055</td>\n",
       "      <td>-0.061173</td>\n",
       "      <td>-0.007346</td>\n",
       "      <td>TSM</td>\n",
       "      <td>0</td>\n",
       "    </tr>\n",
       "    <tr>\n",
       "      <th>10</th>\n",
       "      <td>2018-11-29 00:00:00-05:00</td>\n",
       "      <td>0.380866</td>\n",
       "      <td>0.385474</td>\n",
       "      <td>0.391983</td>\n",
       "      <td>0.387477</td>\n",
       "      <td>0.554215</td>\n",
       "      <td>-0.061173</td>\n",
       "      <td>-0.007346</td>\n",
       "      <td>UNH</td>\n",
       "      <td>1</td>\n",
       "    </tr>\n",
       "    <tr>\n",
       "      <th>11</th>\n",
       "      <td>2018-11-29 00:00:00-05:00</td>\n",
       "      <td>0.163269</td>\n",
       "      <td>0.167320</td>\n",
       "      <td>0.167517</td>\n",
       "      <td>0.167536</td>\n",
       "      <td>-0.386282</td>\n",
       "      <td>-0.061173</td>\n",
       "      <td>-0.007346</td>\n",
       "      <td>AVGO</td>\n",
       "      <td>1</td>\n",
       "    </tr>\n",
       "    <tr>\n",
       "      <th>...</th>\n",
       "      <td>...</td>\n",
       "      <td>...</td>\n",
       "      <td>...</td>\n",
       "      <td>...</td>\n",
       "      <td>...</td>\n",
       "      <td>...</td>\n",
       "      <td>...</td>\n",
       "      <td>...</td>\n",
       "      <td>...</td>\n",
       "      <td>...</td>\n",
       "    </tr>\n",
       "    <tr>\n",
       "      <th>602957</th>\n",
       "      <td>2023-11-29 00:00:00-05:00</td>\n",
       "      <td>-0.427432</td>\n",
       "      <td>-0.428147</td>\n",
       "      <td>-0.427192</td>\n",
       "      <td>-0.428119</td>\n",
       "      <td>-0.411059</td>\n",
       "      <td>-0.061173</td>\n",
       "      <td>-0.007346</td>\n",
       "      <td>PPL</td>\n",
       "      <td>0</td>\n",
       "    </tr>\n",
       "    <tr>\n",
       "      <th>602958</th>\n",
       "      <td>2023-11-29 00:00:00-05:00</td>\n",
       "      <td>-0.422871</td>\n",
       "      <td>-0.420857</td>\n",
       "      <td>-0.421732</td>\n",
       "      <td>-0.420520</td>\n",
       "      <td>-0.327914</td>\n",
       "      <td>-0.061173</td>\n",
       "      <td>-0.007346</td>\n",
       "      <td>FITB</td>\n",
       "      <td>0</td>\n",
       "    </tr>\n",
       "    <tr>\n",
       "      <th>602959</th>\n",
       "      <td>2023-11-29 00:00:00-05:00</td>\n",
       "      <td>-0.256122</td>\n",
       "      <td>-0.257080</td>\n",
       "      <td>-0.255221</td>\n",
       "      <td>-0.257271</td>\n",
       "      <td>-0.974950</td>\n",
       "      <td>-0.061173</td>\n",
       "      <td>-0.007346</td>\n",
       "      <td>IFF</td>\n",
       "      <td>0</td>\n",
       "    </tr>\n",
       "    <tr>\n",
       "      <th>602960</th>\n",
       "      <td>2023-11-29 00:00:00-05:00</td>\n",
       "      <td>-0.362232</td>\n",
       "      <td>-0.363815</td>\n",
       "      <td>-0.364476</td>\n",
       "      <td>-0.365735</td>\n",
       "      <td>-0.218516</td>\n",
       "      <td>-0.061173</td>\n",
       "      <td>-0.007346</td>\n",
       "      <td>CCJ</td>\n",
       "      <td>0</td>\n",
       "    </tr>\n",
       "    <tr>\n",
       "      <th>602961</th>\n",
       "      <td>2023-11-29 00:00:00-05:00</td>\n",
       "      <td>-0.226096</td>\n",
       "      <td>-0.228295</td>\n",
       "      <td>-0.226269</td>\n",
       "      <td>-0.228670</td>\n",
       "      <td>-0.765472</td>\n",
       "      <td>-0.061173</td>\n",
       "      <td>-0.007346</td>\n",
       "      <td>LYV</td>\n",
       "      <td>0</td>\n",
       "    </tr>\n",
       "  </tbody>\n",
       "</table>\n",
       "<p>536543 rows × 10 columns</p>\n",
       "</div>"
      ],
      "text/plain": [
       "                             Date      Open      High       Low     Close  \\\n",
       "7       2018-11-29 00:00:00-05:00 -0.150978 -0.147117 -0.147398 -0.145600   \n",
       "8       2018-11-29 00:00:00-05:00 -0.048694 -0.054396 -0.049426 -0.054069   \n",
       "9       2018-11-29 00:00:00-05:00 -0.402690 -0.402587 -0.401538 -0.402720   \n",
       "10      2018-11-29 00:00:00-05:00  0.380866  0.385474  0.391983  0.387477   \n",
       "11      2018-11-29 00:00:00-05:00  0.163269  0.167320  0.167517  0.167536   \n",
       "...                           ...       ...       ...       ...       ...   \n",
       "602957  2023-11-29 00:00:00-05:00 -0.427432 -0.428147 -0.427192 -0.428119   \n",
       "602958  2023-11-29 00:00:00-05:00 -0.422871 -0.420857 -0.421732 -0.420520   \n",
       "602959  2023-11-29 00:00:00-05:00 -0.256122 -0.257080 -0.255221 -0.257271   \n",
       "602960  2023-11-29 00:00:00-05:00 -0.362232 -0.363815 -0.364476 -0.365735   \n",
       "602961  2023-11-29 00:00:00-05:00 -0.226096 -0.228295 -0.226269 -0.228670   \n",
       "\n",
       "          Volume  Dividends  Stock Splits Company  Target  \n",
       "7       0.755457  -0.061173     -0.007346     LLY       0  \n",
       "8       2.357194  -0.061173     -0.007346       V       0  \n",
       "9       1.689055  -0.061173     -0.007346     TSM       0  \n",
       "10      0.554215  -0.061173     -0.007346     UNH       1  \n",
       "11     -0.386282  -0.061173     -0.007346    AVGO       1  \n",
       "...          ...        ...           ...     ...     ...  \n",
       "602957 -0.411059  -0.061173     -0.007346     PPL       0  \n",
       "602958 -0.327914  -0.061173     -0.007346    FITB       0  \n",
       "602959 -0.974950  -0.061173     -0.007346     IFF       0  \n",
       "602960 -0.218516  -0.061173     -0.007346     CCJ       0  \n",
       "602961 -0.765472  -0.061173     -0.007346     LYV       0  \n",
       "\n",
       "[536543 rows x 10 columns]"
      ]
     },
     "execution_count": 62,
     "metadata": {},
     "output_type": "execute_result"
    }
   ],
   "source": [
    "#Step1: create a binary target: 1 if Close > 0, otherwise 0\n",
    "data['Target'] = (data['Close'] > 0).astype(int) \n",
    "data"
   ]
  },
  {
   "cell_type": "markdown",
   "id": "a7591464-b8cf-42c8-a014-933d4d1df378",
   "metadata": {},
   "source": [
    "##### Binary Target creation\n",
    "\n",
    "- A new target column (Target) was created using a simple rule: 1 if the Close price increased and 0 otherwise."
   ]
  },
  {
   "cell_type": "code",
   "execution_count": 64,
   "id": "afbe0866-9f77-4d04-8d47-f2eb1ad59878",
   "metadata": {},
   "outputs": [],
   "source": [
    "#Step2: define features and target\n",
    "X_class = data.drop(columns=['Close', 'Date', 'Company', 'Target'])  #dropped \n",
    "y_class = data['Target']  #target "
   ]
  },
  {
   "cell_type": "markdown",
   "id": "ca254708-0137-4ba6-8156-ed753c6ca1a0",
   "metadata": {},
   "source": [
    "##### Feature Selection\n",
    "\n",
    "- Predictors included Open, High, Low, Volume, Dividends, and Stock Splits.\n",
    "- Irrelevant columns such as Close, Date, and Company were excluded to avoid noise."
   ]
  },
  {
   "cell_type": "code",
   "execution_count": 66,
   "id": "441c53fc-6750-404d-b4d0-6aee5c52794e",
   "metadata": {},
   "outputs": [],
   "source": [
    "#step 3: split data\n",
    "X_train_class, X_test_class, y_train_class, y_test_class = train_test_split(X_class, y_class, test_size=0.2, random_state=42)"
   ]
  },
  {
   "cell_type": "markdown",
   "id": "66da44ec-c4ac-4728-85bb-074be20ac42f",
   "metadata": {},
   "source": [
    "##### Data Splitting\n",
    "\n",
    "- The dataset was split into 80% training and 20% testing subsets using train_test_split."
   ]
  },
  {
   "cell_type": "code",
   "execution_count": 68,
   "id": "769f698f-b45d-4c57-a6fe-30da1f1d60a8",
   "metadata": {},
   "outputs": [
    {
     "name": "stdout",
     "output_type": "stream",
     "text": [
      "Logistic Regression Classification Report:\n",
      "              precision    recall  f1-score   support\n",
      "\n",
      "           0       1.00      1.00      1.00     76370\n",
      "           1       0.99      0.99      0.99     30939\n",
      "\n",
      "    accuracy                           1.00    107309\n",
      "   macro avg       1.00      1.00      1.00    107309\n",
      "weighted avg       1.00      1.00      1.00    107309\n",
      "\n",
      "Confusion Matrix:\n",
      "[[76205   165]\n",
      " [  204 30735]]\n"
     ]
    }
   ],
   "source": [
    "#Logistic Regression\n",
    "log_reg = LogisticRegression()\n",
    "log_reg.fit(X_train_class, y_train_class)\n",
    "\n",
    "\n",
    "y_pred_log = log_reg.predict(X_test_class)\n",
    "print(\"Logistic Regression Classification Report:\")\n",
    "print(classification_report(y_test_class, y_pred_log))\n",
    "print(\"Confusion Matrix:\")\n",
    "print(confusion_matrix(y_test_class, y_pred_log))"
   ]
  },
  {
   "cell_type": "markdown",
   "id": "95b94682-9a79-4e05-8264-8cc4740cd341",
   "metadata": {},
   "source": [
    "##### Model Training\n",
    "\n",
    "- Logistic Regression was applied without any hyperparameter tuning initially.\n",
    "- A confusion matrix was generated for additional insights into model performance."
   ]
  },
  {
   "cell_type": "code",
   "execution_count": 70,
   "id": "e2aeab64-8c8d-43a9-a4d4-45a478c20d8a",
   "metadata": {},
   "outputs": [
    {
     "name": "stdout",
     "output_type": "stream",
     "text": [
      "Fitting 5 folds for each of 10 candidates, totalling 50 fits\n",
      "Best Parameters: {'C': 100, 'max_iter': 1000, 'penalty': 'l2', 'solver': 'newton-cg'}\n",
      "Best Cross-Validated Accuracy: 0.9976260037706398\n",
      "Classification Report:\n",
      "               precision    recall  f1-score   support\n",
      "\n",
      "           0       1.00      1.00      1.00     76370\n",
      "           1       1.00      1.00      1.00     30939\n",
      "\n",
      "    accuracy                           1.00    107309\n",
      "   macro avg       1.00      1.00      1.00    107309\n",
      "weighted avg       1.00      1.00      1.00    107309\n",
      "\n",
      "Confusion Matrix:\n",
      " [[76235   135]\n",
      " [  125 30814]]\n"
     ]
    }
   ],
   "source": [
    "# Step 1: data is properly scaled\n",
    "scaler = StandardScaler()\n",
    "X_train_scaled = scaler.fit_transform(X_train_class)\n",
    "X_test_scaled = scaler.transform(X_test_class)  \n",
    "\n",
    "# Step 2: param grid -> hyperparameter tuning\n",
    "param_grid = {\n",
    "    'C': [0.01, 0.1, 1, 10, 100],\n",
    "    'penalty': ['l2'],                 #l2 penalty\n",
    "    'solver': ['lbfgs', 'newton-cg'],  #compatible w large data sets\n",
    "    'max_iter': [1000]                 #convergence\n",
    "}\n",
    "\n",
    "# Step 3: GridSearchCV w Logistic Regression\n",
    "log_reg = LogisticRegression()\n",
    "grid_search = GridSearchCV(estimator=log_reg, param_grid=param_grid, cv=5, scoring='accuracy', verbose=1, n_jobs=-1)\n",
    "\n",
    "# Step 4: GridSearchCV on training data\n",
    "grid_search.fit(X_train_scaled, y_train_class)\n",
    "\n",
    "# Step 5: best parameters + evaluate the model\n",
    "print(\"Best Parameters:\", grid_search.best_params_)\n",
    "print(\"Best Cross-Validated Accuracy:\", grid_search.best_score_)\n",
    "\n",
    "# Step 6: predictions on the test set w the best model\n",
    "best_log_reg = grid_search.best_estimator_\n",
    "y_pred = best_log_reg.predict(X_test_scaled)\n",
    "\n",
    "# Step 7: evaluate preds\n",
    "print(\"Classification Report:\\n\", classification_report(y_test_class, y_pred))\n",
    "print(\"Confusion Matrix:\\n\", confusion_matrix(y_test_class, y_pred))"
   ]
  },
  {
   "cell_type": "markdown",
   "id": "e658cba8-2ed2-4674-abab-9a0ef0d02bf2",
   "metadata": {},
   "source": [
    "##### GridSearch CV\n",
    "\n",
    "- The best parameters found were:\n",
    "  - C = 100\n",
    "  - Penalty = L2\n",
    "\n",
    "- These parameters achieved a cross-validated accuracy of 0.9976.\n",
    "\n",
    "#### Model Analysis\n",
    "\n",
    "##### Classification Report\n",
    "\n",
    "- Precision, recall, and F1-scores for both classes (0 and 1) were excellent (close to or equal to 1), indicating the model performed extremely well on the test set.\n",
    "- The overall accuracy was also 100%, which is ideal but can also indicate overfitting, especially given the high class balance seen in the confusion matrix.\n",
    "\n",
    "##### Confusion Matrix\n",
    "\n",
    "- The confusion matrix reveals very few misclassifications:\n",
    "  - True Negative (TN): 76 205\n",
    "  - False Positive (FP): 165\n",
    "  - True Positive (TP): 30 735\n",
    "  - False Negative (FN): 204\n",
    " \n",
    "- This suggests the model is extremely accurate.\n",
    "\n",
    "##### After Parameter Tuning\n",
    "- The best hyperparameters achieved an accuracy of 0.9976.\n",
    "- The use of GridSearchCV ensured a systematic search for optimal parameters.\n",
    "\n",
    "- We also have to note that we used a StandardScaler before applying the model, which is a crucila Step in Classidication \n",
    "\n",
    "##### Suggestuion\n",
    "\n",
    "- ROC Curve and AUC\n",
    "  - Add an ROC curve and calcil;ate the Area Under the Curve (AUC), particularly helpful for binary classification tasks, as they provide insights into the trade-off between sensitivity and specificity.\n",
    " \n",
    "#### Conclusion\n",
    "\n",
    "Logistic Regression performed exceptionally well in classifying stock movements. The use of hyperparameter tuning further improved the model’s performance, and metrics indicate it generalizes well to the test set."
   ]
  },
  {
   "cell_type": "markdown",
   "id": "99b8cbc6-4807-42c7-82cf-0c805b28d024",
   "metadata": {},
   "source": [
    "#### Model 2: Random Forrest\n",
    "\n",
    "Model Overview: Random Forest is an ensemble learning method that builds multiple decision trees and combines their outputs to make more robust predictions. By averaging the results (for regression) or taking a majority vote (for classification), it reduces overfitting and improves generalization compared to individual decision trees. In this project, Random Forest was used to classify stock price movements (Target), where 1 indicates an increase and 0 indicates no increase or a decrease."
   ]
  },
  {
   "cell_type": "code",
   "execution_count": 73,
   "id": "a7d6e660-6d0a-4f6e-8284-d955c6f3a180",
   "metadata": {},
   "outputs": [
    {
     "name": "stdout",
     "output_type": "stream",
     "text": [
      "Random Forest Classification Report:\n",
      "              precision    recall  f1-score   support\n",
      "\n",
      "           0       1.00      1.00      1.00     76370\n",
      "           1       1.00      1.00      1.00     30939\n",
      "\n",
      "    accuracy                           1.00    107309\n",
      "   macro avg       1.00      1.00      1.00    107309\n",
      "weighted avg       1.00      1.00      1.00    107309\n",
      "\n",
      "Confusion Matrix:\n",
      "[[76249   121]\n",
      " [  124 30815]]\n"
     ]
    }
   ],
   "source": [
    "#Random Forest\n",
    "rf_model = RandomForestClassifier(random_state=42)\n",
    "rf_model.fit(X_train_class, y_train_class)\n",
    "\n",
    "#predict + eval\n",
    "y_pred_rf = rf_model.predict(X_test_class)\n",
    "print(\"Random Forest Classification Report:\")\n",
    "print(classification_report(y_test_class, y_pred_rf))\n",
    "print(\"Confusion Matrix:\")\n",
    "print(confusion_matrix(y_test_class, y_pred_rf))"
   ]
  },
  {
   "cell_type": "markdown",
   "id": "81231513-5943-43b2-b361-c05905436cff",
   "metadata": {},
   "source": [
    "##### Training model\n",
    "\n",
    "- Model trained using default parameters.\n",
    "- Performance metrics (precision, recall, F1-score, and accuracy) were calculated achieving a perfect score.\n",
    "\n",
    "##### Confusion Matrix\n",
    "\n",
    "- The confusion matrix reveals very few misclassifications:\n",
    "  - True Negative (TN): 76,249\n",
    "  - False Positive (FP): 121\n",
    "  - True Positive (TP): 30,815\n",
    "  - False Negative (FN): 124\n",
    "\n",
    "- This suggests the model was able to correctly identify the majority of positive and negative cases, achieving near-perfect accuracy."
   ]
  },
  {
   "cell_type": "code",
   "execution_count": 75,
   "id": "afad2703-c11d-4e53-9059-75f26c9fda4a",
   "metadata": {},
   "outputs": [
    {
     "name": "stdout",
     "output_type": "stream",
     "text": [
      "Fitting 3 folds for each of 16 candidates, totalling 48 fits\n",
      "Best Parameters: {'bootstrap': True, 'max_depth': 10, 'min_samples_leaf': 1, 'min_samples_split': 5, 'n_estimators': 50}\n",
      "Best Cross-Validated Accuracy: 0.9978356793730226\n"
     ]
    }
   ],
   "source": [
    "param_grid = {\n",
    "    'n_estimators': [50, 100],\n",
    "    'max_depth': [10, 20],\n",
    "    'min_samples_split': [2, 5],\n",
    "    'min_samples_leaf': [1, 2],\n",
    "    'bootstrap': [True]\n",
    "}\n",
    "\n",
    "#Random Forest model\n",
    "rf_model = RandomForestClassifier(random_state=42)\n",
    "\n",
    "#GridSearchCV  w Random Forest\n",
    "grid_search_rf = GridSearchCV(\n",
    "    estimator=rf_model,\n",
    "    param_grid=param_grid,\n",
    "    cv=3,  #reduce number of folds\n",
    "    scoring='accuracy',\n",
    "    verbose=2,\n",
    "    n_jobs=-1  #CPU\n",
    ")\n",
    "\n",
    "grid_search_rf.fit(X_train_class, y_train_class)\n",
    "\n",
    "print(\"Best Parameters:\", grid_search_rf.best_params_)\n",
    "print(\"Best Cross-Validated Accuracy:\", grid_search_rf.best_score_)"
   ]
  },
  {
   "cell_type": "code",
   "execution_count": 122,
   "id": "dd36f8b3-b13c-4dfb-95bd-0aea4d543a97",
   "metadata": {},
   "outputs": [
    {
     "ename": "NameError",
     "evalue": "name 'logistic_model' is not defined",
     "output_type": "error",
     "traceback": [
      "\u001b[0;31m---------------------------------------------------------------------------\u001b[0m",
      "\u001b[0;31mNameError\u001b[0m                                 Traceback (most recent call last)",
      "Cell \u001b[0;32mIn[122], line 27\u001b[0m\n\u001b[1;32m     24\u001b[0m     plt\u001b[38;5;241m.\u001b[39mshow()\n\u001b[1;32m     26\u001b[0m \u001b[38;5;66;03m# Logistic Regression ROC Curve\u001b[39;00m\n\u001b[0;32m---> 27\u001b[0m plot_roc_curve(logistic_model, X_test_class, y_test_class, \u001b[38;5;124m\"\u001b[39m\u001b[38;5;124mLogistic Regression\u001b[39m\u001b[38;5;124m\"\u001b[39m)\n\u001b[1;32m     29\u001b[0m \u001b[38;5;66;03m# Random Forest ROC Curve\u001b[39;00m\n\u001b[1;32m     30\u001b[0m plot_roc_curve(random_forest_model, X_test_class, y_test_class, \u001b[38;5;124m\"\u001b[39m\u001b[38;5;124mRandom Forest\u001b[39m\u001b[38;5;124m\"\u001b[39m)\n",
      "\u001b[0;31mNameError\u001b[0m: name 'logistic_model' is not defined"
     ]
    }
   ],
   "source": [
    "from sklearn.metrics import roc_curve, auc\n",
    "import matplotlib.pyplot as plt\n",
    "\n",
    "# Function to plot ROC curve\n",
    "def plot_roc_curve(model, X_test, y_test, model_name):\n",
    "    # Predict probabilities\n",
    "    y_proba = model.predict_proba(X_test)[:, 1]\n",
    "    \n",
    "    # Calculate ROC curve\n",
    "    fpr, tpr, thresholds = roc_curve(y_test, y_proba)\n",
    "    \n",
    "    # Calculate AUC\n",
    "    roc_auc = auc(fpr, tpr)\n",
    "    \n",
    "    # Plot the ROC curve\n",
    "    plt.figure(figsize=(8, 6))\n",
    "    plt.plot(fpr, tpr, color='blue', label=f'{model_name} (AUC = {roc_auc:.2f})')\n",
    "    plt.plot([0, 1], [0, 1], color='gray', linestyle='--')  # Diagonal line\n",
    "    plt.xlabel('False Positive Rate')\n",
    "    plt.ylabel('True Positive Rate')\n",
    "    plt.title(f'ROC Curve - {model_name}')\n",
    "    plt.legend(loc=\"lower right\")\n",
    "    plt.grid()\n",
    "    plt.show()\n",
    "\n",
    "# Logistic Regression ROC Curve\n",
    "plot_roc_curve(logistic_model, X_test_class, y_test_class, \"Logistic Regression\")\n",
    "\n",
    "# Random Forest ROC Curve\n",
    "plot_roc_curve(random_forest_model, X_test_class, y_test_class, \"Random Forest\")\n"
   ]
  },
  {
   "cell_type": "markdown",
   "id": "c0a2b4a0-61b4-45e6-a976-43bea031c8fd",
   "metadata": {},
   "source": [
    "#### Model Analysis\n",
    "\n",
    "##### Optimization\n",
    "\n",
    "- Initial GridSearchCV was taking an excessively long time to execute. Primarly because of the use of a large parameter grid, 5-fold cross-validation, and the fact that the Massive Yahoo Finance dataset is a massive dataset, like its name indicates. To address this issue, several optimizations were applied to reduce the runtime without compromising the model's performance:\n",
    "\n",
    "  - smaller parameter grid : Reduced n_estimators to [50, 100] instead of a larger range like [50, 100, 200, 500].\n",
    "  - Limited max_depth to [10, 20] instead of exploring a wider range.\n",
    "  - Reduced validation folds from 5 to 3\n",
    "  - Overall reduction : The total number of model evaluations decreased to 16 × 3 = 48, compared to the initial implementation, which had significantly more.\n",
    "\n",
    "\n",
    "##### After hyperparamter tuning\n",
    "\n",
    "- A grid search was performed to identify the best hyperparameters, which included :\n",
    "  - Reducing the parameter grid to focus on meaningful ranges\n",
    "  - Using 3-fold cross-validation to reduce computational cost.\n",
    "  - CPU cores with n_jobs=-1 for parallel processing.\n",
    "\n",
    "\n",
    "##### Cross validated accuracy \n",
    "\n",
    "- The average accuracy achieved during cross-validation using 3 folds is 99.78%. It shows that the model performs exceptionally well in classifying the target variable, suggesting high predictive power.\n",
    "\n",
    "##### Suggestion\n",
    "\n",
    "- ROC Curve and AUC\n",
    "  - Add an ROC curve and calcil;ate the Area Under the Curve (AUC), particularly helpful for binary classification tasks, as they provide insights into the trade-off between sensitivity and specificity.\n",
    " \n",
    "- Feature importance analysis\n",
    "  - Random Forest provides feature importance scores. Examining those features could give the most influential features and refine the model even more.\n",
    " \n",
    "#### Conclusion\n",
    "\n",
    "Random Forest performed exceptionally well in classifying stock movements. The use of GridSearchCV for hyperparameter tuning further improved the model’s performance. The metrics indicate that the model generalizes well to the test set, making it a very good choice for this classification task."
   ]
  },
  {
   "cell_type": "markdown",
   "id": "24ec7ebb-886b-4b39-bb4e-3f62daa10825",
   "metadata": {},
   "source": [
    "### V - Final Conclusion \n",
    "\n",
    "This project involved analyzing a massive dataset with financial data to predict stock movements and prices, employing both regression and classification techniques. The overarching goal was to utilize advanced machine learning models to extract meaningful insights from financial data while addressing challenges like data preprocessing, parameter tuning, and runtime optimization. Below is a comprehensive summary of the findings and takeaways:\n",
    "\n",
    "#### I - Data exploraation and cleaning\n",
    "\n",
    "We began by exploring the data set which contained over 600,000 rows and 9 columns, including essential features like Open, High, Low, Close, Volume, and others. The key steps included :\n",
    "\n",
    "- Handling missing and duplicate values: The data set had no missing or duplicate values simplifying the preprocessing process.\n",
    "- Removing outliers: The only column that clearly had outliers was the Volume column, which we removed using an IQR method, reducing noise while retaining important data points\n",
    "- Scaling features: Numeric features were standardized using StandardScaler to ensure consistent scaling, very important for reliable results when using models like Ridge, Lasso, and Logistic Regression.\n",
    "- Feature correlation: That we achived by making and anylizing a correlation matrix, where we noticed a strong linear relationships between features like Open, High, Low, and Close, justifying their inclusion in regression and classification tasks.\n",
    "\n",
    "#### II - Regression Task\n",
    "\n",
    "For the regression model, the target variable was Close, represneting a stocks closing price. We employed three models (2 added after analyzing the optimation part for the lin reg model) : Linear Regression, Ridge Regression, and Lasso Regression.\n",
    "\n",
    "1) Linear regression\n",
    "\n",
    "- A simple model to predict Close using all available numeric features.\n",
    "- Performance: The model achieved an exceptionally low RMSE and a near-perfect R^2 score, suggesting high accuracy in predicting stock prices.\n",
    "- Residuals: The residuals were evenly distributed around zero, confirming the model's suitability for linear relationships.\n",
    "\n",
    "2) Ridge Regression\n",
    "\n",
    "- Introduced regularization to handle multicollinearity and prevent overfitting.\n",
    "- Optimal Parameters: GridSearchCV identified the best regularization parameter (alpha = 0.01)\n",
    "- Performance: Ridge Regression outperformed Linear Regression with a slightly lower RMSE, validating the benefits of regularization for this dataset.\n",
    "\n",
    "3) Lasso Regression\n",
    "\n",
    "- Another regularization approach, performing feature selection by shrinking less important coefficients to zero.\n",
    "- Optimal Parameters: GridSearchCV identified the best regularization parameter (alpha = 0.001)\n",
    "- Performance: Lasso performed slightly worse than Ridge but added the benefit of feature selection, making it useful for identifying the key predictors.\n",
    "\n",
    "The Ridge Regression ended up being the best-performing model for predicting stock prices. However, the linear nature of the dataset made all three models perform very well.\n",
    "\n",
    "\n",
    "#### III - Classification Task\n",
    "\n",
    "The classification task involved predicting whether a stock's Close price would increase (1) or remain unchanged/decrease (0). Two models were implemented: Logistic Regression and Random Forest Classifier.\n",
    "\n",
    "1) Logistic Regression\n",
    "\n",
    "- Very good model for binary classidicatopn tasks in this specific case\n",
    "- Hyperparameter Tuning: GridSearchCV optimized key parameters like C (regularization strength) and penalty (L2 regularization).\n",
    "- Performance: The model achieved an accuracy of 99.76% on the test set, with high precision, recall, and F1-scores for both classes.\n",
    "- Logistic Regression provided a simple but very effective approach for predicting stock movements with a low computational cost.\n",
    "\n",
    "2) Random Forest Classifier\n",
    "\n",
    "- Ensemble method combining multiple decision trees to improve predicting accuracy.\n",
    "- Hyperparameter Tuning: GridSearchCV was used to identify the optimal number of trees (n_estimators), maximum tree depth, and minimum samples per split/leaf.\n",
    "- Performance: Random Forest achieved a very good cross-validated accuracy of 99.78%, with near-perfect precision, recall, and F1-scores.\n",
    "- The Random Forest model slightly outperformed Logistic Regression due to its ability to capture nonlinear relationships and interactions between features.\n",
    "\n",
    "\n",
    "The model performance were practically the same, with an exceptionnally good predicting accuracy, but Random Forest slightly outperfromed the Logistic Regression model by 0.02% making it the best classification model. \n",
    "\n",
    "#### V - Challenges \n",
    "\n",
    "The biggest challenge was reducing the runtime of the GridSearchCV process for the Random Forest model. The inital runtime was excessively long due to the dataset's massive size, containing over 600,000 rows and 9 columns. This made performing GridSearchCV with 5-fold cv and an unoptimized parameter grid very computationally expensive. Optimizing the process required adjustments to the parameter grid and cv strategy to make sure that it is still efficient without compromising it's performance.\n",
    "\n",
    "#### VI - Key Takeaways\n",
    "\n",
    "- Ridge Regression and Random Forest were the top models for regression and classification, respectively.\n",
    "- Logistic Regression and Lasso Regression offered simplicity and interpretability while maintaining high accuracy.\n",
    "- The strong correlations between numeric features justified the choice of linear models for regression.\n",
    "- Efficient parameter tuning and runtime optimizations made the analysis of a massive dataset within a reasonable timeframe possible.\n",
    "- Both regression and classification models did well which indicates reliability for real world applications.\n",
    "\n",
    "#### VII - Final Thoughts\n",
    "\n",
    "This project has been a meaningful dive between the intersection of finance and machine learning, tying back to my lifelong interest in financial markets and their evolution. It really proved the power of combining machine learning with financial data and it reinforced my belief in the potential of data science to revolutionize financial analysis."
   ]
  },
  {
   "cell_type": "markdown",
   "id": "54fbba8c-0e33-4793-a5eb-107abe51aadf",
   "metadata": {},
   "source": [
    "  "
   ]
  }
 ],
 "metadata": {
  "kernelspec": {
   "display_name": "Python 3 (ipykernel)",
   "language": "python",
   "name": "python3"
  },
  "language_info": {
   "codemirror_mode": {
    "name": "ipython",
    "version": 3
   },
   "file_extension": ".py",
   "mimetype": "text/x-python",
   "name": "python",
   "nbconvert_exporter": "python",
   "pygments_lexer": "ipython3",
   "version": "3.12.2"
  }
 },
 "nbformat": 4,
 "nbformat_minor": 5
}
