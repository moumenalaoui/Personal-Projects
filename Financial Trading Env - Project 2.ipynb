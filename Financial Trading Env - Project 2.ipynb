{
 "cells": [
  {
   "cell_type": "markdown",
   "id": "1004831a-0727-44c9-87b3-0651bfce6d73",
   "metadata": {},
   "source": [
    "# Developing an AI-Driven Financial Trading Algorithm"
   ]
  },
  {
   "cell_type": "markdown",
   "id": "36d0b025-e8b9-47fb-bc6e-c7a43c125815",
   "metadata": {},
   "source": [
    "In today's rapidly evolving financial markets, the integration of artificial intelligence (AI) and machine learning has revolutionized how trades are executed, risks are managed, and profits are maximized. Traditional trading strategies, which rely heavily on technical and fundamental analysis, often struggle to keep pace with the unpredictable volatility of modern financial markets. To address this challenge, this project aims to develop a comprehensive trading algorithm using Reinforcement Learning (RL) and Machine Learning (ML) models, with a focus on balancing risk minimization and profit maximization. The project will be built within a custom gym environment, facilitating the application of AI to dynamically predict stock price movements and optimize trading decisions.\n",
    "\n",
    "#### Objective\n",
    "The core objective of this project is to design and implement a financial algorithm capable of autonomously making trading decisions that balance risk and reward. The algorithm will be based on historical stock price data and will utilize advanced machine learning and reinforcement learning techniques to predict future stock behavior. Key aspects of the project include:\n",
    "\n",
    "- Minimizing Risk: Implementing sophisticated risk management tools like dynamic stop-loss mechanisms, Value-at-Risk (VaR), and Kelly Criterion for position sizing to prevent substantial losses.\n",
    "  \n",
    "- Maximizing Profit: Designing an algorithm that captures upward market movements through take-profit mechanisms and trend-following strategies, using predictive models to identify optimal buy and sell points.\n",
    "  \n",
    "- Combining Both: Creating a balanced, adaptive trading system that effectively manages risk while maximizing profits, ensuring long-term portfolio growth.\n",
    "  \n",
    "#### Significance of the Project\n",
    "In financial markets, the greatest challenge is achieving consistent returns while minimizing risk exposure. Traditional methods often fall short of addressing the complexity of the markets, leading to unbalanced strategies that either focus too much on minimizing risk or chasing profits without sufficient risk controls. This project addresses these challenges by leveraging machine learning to analyze past price data and predict future movements, combined with reinforcement learning (RL) to allow the algorithm to learn from its actions and adapt over time.\n",
    "\n",
    "The project’s significance lies in its potential to outperform traditional trading strategies by utilizing cutting-edge AI technologies, which can dynamically react to new information and optimize trades in real-time. This is particularly important as financial markets become more complex, with increased volumes, volatility, and information flow. By integrating supervised learning for stock price prediction and reinforcement learning for trade optimization, the project aims to achieve superior returns while maintaining strict control over risk.\n",
    "\n",
    "#### Methodology\n",
    "The project is divided into three key phases:\n",
    "\n",
    "##### 1. Minimizing Risk\n",
    "\n",
    "Effective risk management is the foundation of any successful trading strategy. In this phase, the algorithm incorporates:\n",
    "\n",
    "- Stop-Loss Mechanisms: Automatically exiting trades when prices fall below a predefined threshold to protect the portfolio from large losses.\n",
    "  \n",
    "- Position Sizing Techniques: Using methods like the Kelly Criterion and Value-at-Risk (VaR) to determine the optimal amount of capital to allocate to each trade, minimizing the potential for large drawdowns.\n",
    "  \n",
    "- Dynamic Risk Adjustments: Implementing a trailing stop-loss that adjusts as the stock price moves upward, locking in gains while limiting exposure to downside risk.\n",
    "\n",
    "##### 2. Maximizing Profit\n",
    "\n",
    "To achieve strong returns, the algorithm will:\n",
    "\n",
    "- Take-Profit Mechanisms: Automatically exiting trades when a certain profit threshold is reached, allowing the algorithm to capture gains while minimizing overexposure to market reversals.\n",
    "\n",
    "- Trend-Following Strategies: Utilizing machine learning models to identify and capitalize on long-term trends in stock prices, ensuring the algorithm rides the momentum of upward-moving markets.\n",
    "\n",
    "- Predictive Modeling: Using supervised learning techniques (such as random forests, gradient boosting, and linear regression) to forecast stock price movements based on historical data, improving the accuracy of buy and sell decisions.\n",
    "\n",
    "#####  3. Balancing Both: A Gym Environment for Reinforcement Learning (RL)\n",
    "\n",
    "The third phase of the project focuses on creating a custom gym environment for applying Reinforcement Learning (RL) algorithms, where the trading agent can learn from its interactions with the market:\n",
    "\n",
    "- Gym Environment: A simulated trading environment will be built where the agent can take actions (buy, sell, hold) and receive rewards (profit, loss) based on the results of those actions. This environment will replicate real-world market conditions, allowing the RL agent to learn by trial and error.\n",
    "  \n",
    "- Reinforcement Learning Models: Algorithms like Deep Q-Networks (DQN), Proximal Policy Optimization (PPO), and Advantage Actor-Critic (A2C) will be employed to optimize the trading strategy by maximizing cumulative rewards over time.\n",
    "\n",
    "- Adaptive Learning: Through continuous interaction with the gym environment, the RL agent will learn to optimize its trading strategy, dynamically adjusting to market conditions and improving its decision-making processes.\n",
    "Evaluation Metrics\n",
    "\n",
    "To evaluate the success of the algorithm, the following metrics will be used:\n",
    "\n",
    "- Return on Investment (ROI): To measure the overall profitability of the strategy.\n",
    "  \n",
    "- Sharpe Ratio: To assess risk-adjusted returns, ensuring the algorithm balances profit and risk.\n",
    "  \n",
    "- Max Drawdown: To evaluate the largest observed loss from peak to trough, reflecting the algorithm’s risk exposure.\n",
    "  \n",
    "- Reinforcement Learning Performance: Metrics such as cumulative reward and episode length will be tracked to evaluate the RL agent’s learning and adaptation over time.\n",
    "\n",
    "Expected Outcomes: \n",
    "By combining supervised learning for stock price prediction and reinforcement learning for decision-making, the algorithm is expected to:\n",
    "\n",
    "- Generate consistent profits: Achieving steady returns by accurately predicting market trends and optimizing trading decisions.\n",
    "  \n",
    "- Minimize significant risks: Through effective stop-loss mechanisms, position sizing, and dynamic adjustments to market conditions.\n",
    "\n",
    "- Adapt to new market environments: The RL agent will continually learn and adjust its trading strategies, ensuring the algorithm performs well even in volatile and unpredictable markets.\n",
    "  \n",
    "#### Conclusion\n",
    "\n",
    "This project will develop a robust AI-powered financial trading algorithm that effectively combines risk minimization with profit maximization. By leveraging the power of machine learning and reinforcement learning, the algorithm is designed to continuously learn and improve, making it adaptable to future market conditions. The results of this project will contribute to the field of algorithmic trading and highlight the potential of AI-driven decision-making in finance."
   ]
  },
  {
   "cell_type": "markdown",
   "id": "0d01b0b8-553f-4a1a-ae86-78e2b79220a6",
   "metadata": {},
   "source": [
    "* High frequency trading\n",
    "* AI - HFT"
   ]
  },
  {
   "cell_type": "markdown",
   "id": "ec49f59a-f6fb-4634-80c3-6c2a2ac021ca",
   "metadata": {},
   "source": [
    "## First step : Data Collection\n",
    "\n",
    "\n",
    "Key take aways : \n",
    "- Use a financial API to download historical stock data.\n",
    "\n",
    "- Focus on multi-dimensional data such as prices, technical indicators (volume)\n",
    "\n",
    "- (Split the data into training, validation, and test sets.)"
   ]
  },
  {
   "cell_type": "code",
   "execution_count": 828,
   "id": "cc76aa06-3ab6-4a68-8db8-dbb61c579123",
   "metadata": {},
   "outputs": [
    {
     "name": "stdout",
     "output_type": "stream",
     "text": [
      "Requirement already satisfied: numpy in /opt/anaconda3/lib/python3.12/site-packages (1.26.4)\n",
      "Requirement already satisfied: pandas in /opt/anaconda3/lib/python3.12/site-packages (2.2.2)\n",
      "Requirement already satisfied: matplotlib in /opt/anaconda3/lib/python3.12/site-packages (3.8.4)\n",
      "Requirement already satisfied: tensorflow in /opt/anaconda3/lib/python3.12/site-packages (2.16.2)\n",
      "Requirement already satisfied: keras in /opt/anaconda3/lib/python3.12/site-packages (3.6.0)\n",
      "Requirement already satisfied: gym in /opt/anaconda3/lib/python3.12/site-packages (0.26.2)\n",
      "Requirement already satisfied: alpha_vantage in /opt/anaconda3/lib/python3.12/site-packages (3.0.0)\n",
      "Requirement already satisfied: python-dateutil>=2.8.2 in /opt/anaconda3/lib/python3.12/site-packages (from pandas) (2.9.0.post0)\n",
      "Requirement already satisfied: pytz>=2020.1 in /opt/anaconda3/lib/python3.12/site-packages (from pandas) (2024.1)\n",
      "Requirement already satisfied: tzdata>=2022.7 in /opt/anaconda3/lib/python3.12/site-packages (from pandas) (2023.3)\n",
      "Requirement already satisfied: contourpy>=1.0.1 in /opt/anaconda3/lib/python3.12/site-packages (from matplotlib) (1.2.0)\n",
      "Requirement already satisfied: cycler>=0.10 in /opt/anaconda3/lib/python3.12/site-packages (from matplotlib) (0.11.0)\n",
      "Requirement already satisfied: fonttools>=4.22.0 in /opt/anaconda3/lib/python3.12/site-packages (from matplotlib) (4.51.0)\n",
      "Requirement already satisfied: kiwisolver>=1.3.1 in /opt/anaconda3/lib/python3.12/site-packages (from matplotlib) (1.4.4)\n",
      "Requirement already satisfied: packaging>=20.0 in /opt/anaconda3/lib/python3.12/site-packages (from matplotlib) (23.2)\n",
      "Requirement already satisfied: pillow>=8 in /opt/anaconda3/lib/python3.12/site-packages (from matplotlib) (10.3.0)\n",
      "Requirement already satisfied: pyparsing>=2.3.1 in /opt/anaconda3/lib/python3.12/site-packages (from matplotlib) (3.0.9)\n",
      "Requirement already satisfied: absl-py>=1.0.0 in /opt/anaconda3/lib/python3.12/site-packages (from tensorflow) (2.1.0)\n",
      "Requirement already satisfied: astunparse>=1.6.0 in /opt/anaconda3/lib/python3.12/site-packages (from tensorflow) (1.6.3)\n",
      "Requirement already satisfied: flatbuffers>=23.5.26 in /opt/anaconda3/lib/python3.12/site-packages (from tensorflow) (24.3.25)\n",
      "Requirement already satisfied: gast!=0.5.0,!=0.5.1,!=0.5.2,>=0.2.1 in /opt/anaconda3/lib/python3.12/site-packages (from tensorflow) (0.6.0)\n",
      "Requirement already satisfied: google-pasta>=0.1.1 in /opt/anaconda3/lib/python3.12/site-packages (from tensorflow) (0.2.0)\n",
      "Requirement already satisfied: h5py>=3.10.0 in /opt/anaconda3/lib/python3.12/site-packages (from tensorflow) (3.11.0)\n",
      "Requirement already satisfied: libclang>=13.0.0 in /opt/anaconda3/lib/python3.12/site-packages (from tensorflow) (18.1.1)\n",
      "Requirement already satisfied: ml-dtypes~=0.3.1 in /opt/anaconda3/lib/python3.12/site-packages (from tensorflow) (0.3.2)\n",
      "Requirement already satisfied: opt-einsum>=2.3.2 in /opt/anaconda3/lib/python3.12/site-packages (from tensorflow) (3.4.0)\n",
      "Requirement already satisfied: protobuf!=4.21.0,!=4.21.1,!=4.21.2,!=4.21.3,!=4.21.4,!=4.21.5,<5.0.0dev,>=3.20.3 in /opt/anaconda3/lib/python3.12/site-packages (from tensorflow) (3.20.3)\n",
      "Requirement already satisfied: requests<3,>=2.21.0 in /opt/anaconda3/lib/python3.12/site-packages (from tensorflow) (2.32.2)\n",
      "Requirement already satisfied: setuptools in /opt/anaconda3/lib/python3.12/site-packages (from tensorflow) (69.5.1)\n",
      "Requirement already satisfied: six>=1.12.0 in /opt/anaconda3/lib/python3.12/site-packages (from tensorflow) (1.16.0)\n",
      "Requirement already satisfied: termcolor>=1.1.0 in /opt/anaconda3/lib/python3.12/site-packages (from tensorflow) (2.5.0)\n",
      "Requirement already satisfied: typing-extensions>=3.6.6 in /opt/anaconda3/lib/python3.12/site-packages (from tensorflow) (4.11.0)\n",
      "Requirement already satisfied: wrapt>=1.11.0 in /opt/anaconda3/lib/python3.12/site-packages (from tensorflow) (1.14.1)\n",
      "Requirement already satisfied: grpcio<2.0,>=1.24.3 in /opt/anaconda3/lib/python3.12/site-packages (from tensorflow) (1.67.0)\n",
      "Requirement already satisfied: tensorboard<2.17,>=2.16 in /opt/anaconda3/lib/python3.12/site-packages (from tensorflow) (2.16.2)\n",
      "Requirement already satisfied: rich in /opt/anaconda3/lib/python3.12/site-packages (from keras) (13.3.5)\n",
      "Requirement already satisfied: namex in /opt/anaconda3/lib/python3.12/site-packages (from keras) (0.0.8)\n",
      "Requirement already satisfied: optree in /opt/anaconda3/lib/python3.12/site-packages (from keras) (0.13.0)\n",
      "Requirement already satisfied: cloudpickle>=1.2.0 in /opt/anaconda3/lib/python3.12/site-packages (from gym) (2.2.1)\n",
      "Requirement already satisfied: gym-notices>=0.0.4 in /opt/anaconda3/lib/python3.12/site-packages (from gym) (0.0.8)\n",
      "Requirement already satisfied: aiohttp in /opt/anaconda3/lib/python3.12/site-packages (from alpha_vantage) (3.9.5)\n",
      "Requirement already satisfied: wheel<1.0,>=0.23.0 in /opt/anaconda3/lib/python3.12/site-packages (from astunparse>=1.6.0->tensorflow) (0.43.0)\n",
      "Requirement already satisfied: charset-normalizer<4,>=2 in /opt/anaconda3/lib/python3.12/site-packages (from requests<3,>=2.21.0->tensorflow) (2.0.4)\n",
      "Requirement already satisfied: idna<4,>=2.5 in /opt/anaconda3/lib/python3.12/site-packages (from requests<3,>=2.21.0->tensorflow) (3.7)\n",
      "Requirement already satisfied: urllib3<3,>=1.21.1 in /opt/anaconda3/lib/python3.12/site-packages (from requests<3,>=2.21.0->tensorflow) (2.2.2)\n",
      "Requirement already satisfied: certifi>=2017.4.17 in /opt/anaconda3/lib/python3.12/site-packages (from requests<3,>=2.21.0->tensorflow) (2024.8.30)\n",
      "Requirement already satisfied: markdown>=2.6.8 in /opt/anaconda3/lib/python3.12/site-packages (from tensorboard<2.17,>=2.16->tensorflow) (3.4.1)\n",
      "Requirement already satisfied: tensorboard-data-server<0.8.0,>=0.7.0 in /opt/anaconda3/lib/python3.12/site-packages (from tensorboard<2.17,>=2.16->tensorflow) (0.7.2)\n",
      "Requirement already satisfied: werkzeug>=1.0.1 in /opt/anaconda3/lib/python3.12/site-packages (from tensorboard<2.17,>=2.16->tensorflow) (3.0.3)\n",
      "Requirement already satisfied: aiosignal>=1.1.2 in /opt/anaconda3/lib/python3.12/site-packages (from aiohttp->alpha_vantage) (1.2.0)\n",
      "Requirement already satisfied: attrs>=17.3.0 in /opt/anaconda3/lib/python3.12/site-packages (from aiohttp->alpha_vantage) (23.1.0)\n",
      "Requirement already satisfied: frozenlist>=1.1.1 in /opt/anaconda3/lib/python3.12/site-packages (from aiohttp->alpha_vantage) (1.4.0)\n",
      "Requirement already satisfied: multidict<7.0,>=4.5 in /opt/anaconda3/lib/python3.12/site-packages (from aiohttp->alpha_vantage) (6.0.4)\n",
      "Requirement already satisfied: yarl<2.0,>=1.0 in /opt/anaconda3/lib/python3.12/site-packages (from aiohttp->alpha_vantage) (1.9.3)\n",
      "Requirement already satisfied: markdown-it-py<3.0.0,>=2.2.0 in /opt/anaconda3/lib/python3.12/site-packages (from rich->keras) (2.2.0)\n",
      "Requirement already satisfied: pygments<3.0.0,>=2.13.0 in /opt/anaconda3/lib/python3.12/site-packages (from rich->keras) (2.15.1)\n",
      "Requirement already satisfied: mdurl~=0.1 in /opt/anaconda3/lib/python3.12/site-packages (from markdown-it-py<3.0.0,>=2.2.0->rich->keras) (0.1.0)\n",
      "Requirement already satisfied: MarkupSafe>=2.1.1 in /opt/anaconda3/lib/python3.12/site-packages (from werkzeug>=1.0.1->tensorboard<2.17,>=2.16->tensorflow) (2.1.3)\n"
     ]
    }
   ],
   "source": [
    "# Install the environmment to import the data \n",
    "\n",
    "!pip install numpy pandas matplotlib tensorflow keras gym alpha_vantage"
   ]
  },
  {
   "cell_type": "code",
   "execution_count": 829,
   "id": "8336ac42-6622-4217-9a76-ca98c0933b56",
   "metadata": {},
   "outputs": [],
   "source": [
    "#import all the needed librairies to complete this project\n",
    "\n",
    "import numpy as np\n",
    "import pandas as pd\n",
    "import matplotlib.pyplot as plt \n",
    "import seaborn as sns\n",
    "%matplotlib inline\n",
    "import statsmodels.api as sm\n",
    "from sklearn.model_selection import train_test_split\n",
    "from sklearn.linear_model import LogisticRegression\n",
    "from sklearn.linear_model import LinearRegression\n",
    "from sklearn.model_selection import KFold, cross_val_score\n",
    "from sklearn.preprocessing import PolynomialFeatures\n",
    "from sklearn.pipeline import make_pipeline\n",
    "from sklearn.linear_model import RidgeCV\n",
    "from sklearn.metrics import mean_squared_error"
   ]
  },
  {
   "cell_type": "code",
   "execution_count": 830,
   "id": "9a7e8698-39a9-468f-9c27-05065ff052b2",
   "metadata": {},
   "outputs": [
    {
     "data": {
      "text/html": [
       "<div>\n",
       "<style scoped>\n",
       "    .dataframe tbody tr th:only-of-type {\n",
       "        vertical-align: middle;\n",
       "    }\n",
       "\n",
       "    .dataframe tbody tr th {\n",
       "        vertical-align: top;\n",
       "    }\n",
       "\n",
       "    .dataframe thead th {\n",
       "        text-align: right;\n",
       "    }\n",
       "</style>\n",
       "<table border=\"1\" class=\"dataframe\">\n",
       "  <thead>\n",
       "    <tr style=\"text-align: right;\">\n",
       "      <th></th>\n",
       "      <th>1. open</th>\n",
       "      <th>2. high</th>\n",
       "      <th>3. low</th>\n",
       "      <th>4. close</th>\n",
       "      <th>5. volume</th>\n",
       "    </tr>\n",
       "    <tr>\n",
       "      <th>date</th>\n",
       "      <th></th>\n",
       "      <th></th>\n",
       "      <th></th>\n",
       "      <th></th>\n",
       "      <th></th>\n",
       "    </tr>\n",
       "  </thead>\n",
       "  <tbody>\n",
       "    <tr>\n",
       "      <th>2024-10-22</th>\n",
       "      <td>233.84</td>\n",
       "      <td>236.19</td>\n",
       "      <td>232.61</td>\n",
       "      <td>235.86</td>\n",
       "      <td>38512575.0</td>\n",
       "    </tr>\n",
       "    <tr>\n",
       "      <th>2024-10-21</th>\n",
       "      <td>234.45</td>\n",
       "      <td>236.85</td>\n",
       "      <td>234.45</td>\n",
       "      <td>236.48</td>\n",
       "      <td>36254470.0</td>\n",
       "    </tr>\n",
       "    <tr>\n",
       "      <th>2024-10-18</th>\n",
       "      <td>236.18</td>\n",
       "      <td>236.18</td>\n",
       "      <td>234.01</td>\n",
       "      <td>235.00</td>\n",
       "      <td>46431472.0</td>\n",
       "    </tr>\n",
       "    <tr>\n",
       "      <th>2024-10-17</th>\n",
       "      <td>233.43</td>\n",
       "      <td>233.85</td>\n",
       "      <td>230.52</td>\n",
       "      <td>232.15</td>\n",
       "      <td>32993810.0</td>\n",
       "    </tr>\n",
       "    <tr>\n",
       "      <th>2024-10-16</th>\n",
       "      <td>231.60</td>\n",
       "      <td>232.12</td>\n",
       "      <td>229.84</td>\n",
       "      <td>231.78</td>\n",
       "      <td>34082240.0</td>\n",
       "    </tr>\n",
       "    <tr>\n",
       "      <th>...</th>\n",
       "      <td>...</td>\n",
       "      <td>...</td>\n",
       "      <td>...</td>\n",
       "      <td>...</td>\n",
       "      <td>...</td>\n",
       "    </tr>\n",
       "    <tr>\n",
       "      <th>1999-11-05</th>\n",
       "      <td>84.62</td>\n",
       "      <td>88.37</td>\n",
       "      <td>84.00</td>\n",
       "      <td>88.31</td>\n",
       "      <td>3721500.0</td>\n",
       "    </tr>\n",
       "    <tr>\n",
       "      <th>1999-11-04</th>\n",
       "      <td>82.06</td>\n",
       "      <td>85.37</td>\n",
       "      <td>80.62</td>\n",
       "      <td>83.62</td>\n",
       "      <td>3384700.0</td>\n",
       "    </tr>\n",
       "    <tr>\n",
       "      <th>1999-11-03</th>\n",
       "      <td>81.62</td>\n",
       "      <td>83.25</td>\n",
       "      <td>81.00</td>\n",
       "      <td>81.50</td>\n",
       "      <td>2932700.0</td>\n",
       "    </tr>\n",
       "    <tr>\n",
       "      <th>1999-11-02</th>\n",
       "      <td>78.00</td>\n",
       "      <td>81.69</td>\n",
       "      <td>77.31</td>\n",
       "      <td>80.25</td>\n",
       "      <td>3564600.0</td>\n",
       "    </tr>\n",
       "    <tr>\n",
       "      <th>1999-11-01</th>\n",
       "      <td>80.00</td>\n",
       "      <td>80.69</td>\n",
       "      <td>77.37</td>\n",
       "      <td>77.62</td>\n",
       "      <td>2487300.0</td>\n",
       "    </tr>\n",
       "  </tbody>\n",
       "</table>\n",
       "<p>6284 rows × 5 columns</p>\n",
       "</div>"
      ],
      "text/plain": [
       "            1. open  2. high  3. low  4. close   5. volume\n",
       "date                                                      \n",
       "2024-10-22   233.84   236.19  232.61    235.86  38512575.0\n",
       "2024-10-21   234.45   236.85  234.45    236.48  36254470.0\n",
       "2024-10-18   236.18   236.18  234.01    235.00  46431472.0\n",
       "2024-10-17   233.43   233.85  230.52    232.15  32993810.0\n",
       "2024-10-16   231.60   232.12  229.84    231.78  34082240.0\n",
       "...             ...      ...     ...       ...         ...\n",
       "1999-11-05    84.62    88.37   84.00     88.31   3721500.0\n",
       "1999-11-04    82.06    85.37   80.62     83.62   3384700.0\n",
       "1999-11-03    81.62    83.25   81.00     81.50   2932700.0\n",
       "1999-11-02    78.00    81.69   77.31     80.25   3564600.0\n",
       "1999-11-01    80.00    80.69   77.37     77.62   2487300.0\n",
       "\n",
       "[6284 rows x 5 columns]"
      ]
     },
     "execution_count": 830,
     "metadata": {},
     "output_type": "execute_result"
    }
   ],
   "source": [
    "# Import the data\n",
    "\n",
    "from alpha_vantage.timeseries import TimeSeries\n",
    "import pandas as pd\n",
    "\n",
    "api_key = 'K642JFH9X7S284LC'\n",
    "function = 'TIME_SERIES_INTRADAY'\n",
    "symbol = 'IBM'   \n",
    "outputsize = 'compact' \n",
    "\n",
    "ts = TimeSeries(key=api_key, output_format='pandas')\n",
    "data, meta_data = ts.get_daily(symbol='AAPL', outputsize='full')\n",
    "\n",
    "# Inspect the data\n",
    "data"
   ]
  },
  {
   "cell_type": "markdown",
   "id": "0127af9f-c07d-401c-8874-5f5e3da63819",
   "metadata": {},
   "source": [
    "As we can see the data below represent historical stock market prices. Here's a breakdown of each single column for a better understanding of the data:\n",
    "- date: The date on which the stock market data was recorded. Each row corresponds to one trading day.\n",
    "- open: The price at which the stock or asset opened trading on that particular day.\n",
    "- high: The highest price the stock reached during that trading day.\n",
    "- low: The lowest price the stock reached during that trading day.\n",
    "- close: The price at which the stock closed trading for the day. This is often used in financial algorithms as a key indicator of a stock’s performance.\n",
    "- volume: The total number of shares that were traded on that particular day. High volume typically indicates strong interest in the stock."
   ]
  },
  {
   "cell_type": "code",
   "execution_count": 832,
   "id": "5ccaccf1-3cc0-4d88-83af-3c4a11e2d060",
   "metadata": {},
   "outputs": [
    {
     "data": {
      "text/plain": [
       "{'1. Information': 'Daily Prices (open, high, low, close) and Volumes',\n",
       " '2. Symbol': 'AAPL',\n",
       " '3. Last Refreshed': '2024-10-22',\n",
       " '4. Output Size': 'Full size',\n",
       " '5. Time Zone': 'US/Eastern'}"
      ]
     },
     "execution_count": 832,
     "metadata": {},
     "output_type": "execute_result"
    }
   ],
   "source": [
    "meta_data #Provide information about the imported data "
   ]
  },
  {
   "cell_type": "code",
   "execution_count": 833,
   "id": "ddb7208e-fb51-46cb-851c-05da10b09a07",
   "metadata": {},
   "outputs": [
    {
     "name": "stdout",
     "output_type": "stream",
     "text": [
      "1. open      0\n",
      "2. high      0\n",
      "3. low       0\n",
      "4. close     0\n",
      "5. volume    0\n",
      "dtype: int64\n"
     ]
    }
   ],
   "source": [
    "# Check for missing values within the data set\n",
    "\n",
    "missing_values = data.isnull().sum()\n",
    "print(missing_values) # No missing values in the data"
   ]
  },
  {
   "cell_type": "code",
   "execution_count": 834,
   "id": "00218e05-e5ae-443a-b6fe-146f9febb075",
   "metadata": {},
   "outputs": [
    {
     "data": {
      "text/html": [
       "<div>\n",
       "<style scoped>\n",
       "    .dataframe tbody tr th:only-of-type {\n",
       "        vertical-align: middle;\n",
       "    }\n",
       "\n",
       "    .dataframe tbody tr th {\n",
       "        vertical-align: top;\n",
       "    }\n",
       "\n",
       "    .dataframe thead th {\n",
       "        text-align: right;\n",
       "    }\n",
       "</style>\n",
       "<table border=\"1\" class=\"dataframe\">\n",
       "  <thead>\n",
       "    <tr style=\"text-align: right;\">\n",
       "      <th></th>\n",
       "      <th>1. open</th>\n",
       "      <th>2. high</th>\n",
       "      <th>3. low</th>\n",
       "      <th>4. close</th>\n",
       "      <th>5. volume</th>\n",
       "    </tr>\n",
       "    <tr>\n",
       "      <th>date</th>\n",
       "      <th></th>\n",
       "      <th></th>\n",
       "      <th></th>\n",
       "      <th></th>\n",
       "      <th></th>\n",
       "    </tr>\n",
       "  </thead>\n",
       "  <tbody>\n",
       "    <tr>\n",
       "      <th>2019-01-02</th>\n",
       "      <td>154.89</td>\n",
       "      <td>158.85</td>\n",
       "      <td>154.230</td>\n",
       "      <td>157.92</td>\n",
       "      <td>37039737.0</td>\n",
       "    </tr>\n",
       "    <tr>\n",
       "      <th>2019-01-03</th>\n",
       "      <td>143.98</td>\n",
       "      <td>145.72</td>\n",
       "      <td>142.000</td>\n",
       "      <td>142.19</td>\n",
       "      <td>91312195.0</td>\n",
       "    </tr>\n",
       "    <tr>\n",
       "      <th>2019-01-04</th>\n",
       "      <td>144.53</td>\n",
       "      <td>148.55</td>\n",
       "      <td>143.800</td>\n",
       "      <td>148.26</td>\n",
       "      <td>58607070.0</td>\n",
       "    </tr>\n",
       "    <tr>\n",
       "      <th>2019-01-07</th>\n",
       "      <td>148.70</td>\n",
       "      <td>148.83</td>\n",
       "      <td>145.900</td>\n",
       "      <td>147.93</td>\n",
       "      <td>54777764.0</td>\n",
       "    </tr>\n",
       "    <tr>\n",
       "      <th>2019-01-08</th>\n",
       "      <td>149.56</td>\n",
       "      <td>151.82</td>\n",
       "      <td>148.520</td>\n",
       "      <td>150.75</td>\n",
       "      <td>41025314.0</td>\n",
       "    </tr>\n",
       "    <tr>\n",
       "      <th>...</th>\n",
       "      <td>...</td>\n",
       "      <td>...</td>\n",
       "      <td>...</td>\n",
       "      <td>...</td>\n",
       "      <td>...</td>\n",
       "    </tr>\n",
       "    <tr>\n",
       "      <th>2023-12-26</th>\n",
       "      <td>193.61</td>\n",
       "      <td>193.89</td>\n",
       "      <td>192.830</td>\n",
       "      <td>193.05</td>\n",
       "      <td>28919310.0</td>\n",
       "    </tr>\n",
       "    <tr>\n",
       "      <th>2023-12-27</th>\n",
       "      <td>192.49</td>\n",
       "      <td>193.50</td>\n",
       "      <td>191.090</td>\n",
       "      <td>193.15</td>\n",
       "      <td>47899806.0</td>\n",
       "    </tr>\n",
       "    <tr>\n",
       "      <th>2023-12-28</th>\n",
       "      <td>194.14</td>\n",
       "      <td>194.66</td>\n",
       "      <td>193.170</td>\n",
       "      <td>193.58</td>\n",
       "      <td>34049898.0</td>\n",
       "    </tr>\n",
       "    <tr>\n",
       "      <th>2023-12-29</th>\n",
       "      <td>193.90</td>\n",
       "      <td>194.40</td>\n",
       "      <td>191.725</td>\n",
       "      <td>192.53</td>\n",
       "      <td>42672148.0</td>\n",
       "    </tr>\n",
       "    <tr>\n",
       "      <th>2024-01-02</th>\n",
       "      <td>187.15</td>\n",
       "      <td>188.44</td>\n",
       "      <td>183.885</td>\n",
       "      <td>185.64</td>\n",
       "      <td>82488674.0</td>\n",
       "    </tr>\n",
       "  </tbody>\n",
       "</table>\n",
       "<p>1259 rows × 5 columns</p>\n",
       "</div>"
      ],
      "text/plain": [
       "            1. open  2. high   3. low  4. close   5. volume\n",
       "date                                                       \n",
       "2019-01-02   154.89   158.85  154.230    157.92  37039737.0\n",
       "2019-01-03   143.98   145.72  142.000    142.19  91312195.0\n",
       "2019-01-04   144.53   148.55  143.800    148.26  58607070.0\n",
       "2019-01-07   148.70   148.83  145.900    147.93  54777764.0\n",
       "2019-01-08   149.56   151.82  148.520    150.75  41025314.0\n",
       "...             ...      ...      ...       ...         ...\n",
       "2023-12-26   193.61   193.89  192.830    193.05  28919310.0\n",
       "2023-12-27   192.49   193.50  191.090    193.15  47899806.0\n",
       "2023-12-28   194.14   194.66  193.170    193.58  34049898.0\n",
       "2023-12-29   193.90   194.40  191.725    192.53  42672148.0\n",
       "2024-01-02   187.15   188.44  183.885    185.64  82488674.0\n",
       "\n",
       "[1259 rows x 5 columns]"
      ]
     },
     "execution_count": 834,
     "metadata": {},
     "output_type": "execute_result"
    }
   ],
   "source": [
    "# Data Cleaning / filtering\n",
    "# We are working within a 5 year time range since we adopting a long term time horizon for our algorithm, so we are only selecting values\n",
    "# from 2019/01/02 to 2024/01/02\n",
    "\n",
    "data.index = pd.to_datetime(data.index)\n",
    "data = data.sort_index()\n",
    "\n",
    "start_date = '2019-01-02'\n",
    "end_date = '2024-01-02'\n",
    "\n",
    "filtered_df = data.loc[start_date:end_date]\n",
    "\n",
    "filtered_df"
   ]
  },
  {
   "cell_type": "markdown",
   "id": "fc713ed1-e03f-4f61-959b-632f6a1e73a2",
   "metadata": {},
   "source": [
    "We filtered our data to work with indices within the 5 year range as we aim for a more longterm horizon. We will now compute a study to fill 3 objectives:\n",
    "- risk minimizing financial algorithm\n",
    "- profit maximize financial algorithm\n",
    "- balance between both"
   ]
  },
  {
   "cell_type": "markdown",
   "id": "14e370ec-6766-486b-8083-7bd8872f94d8",
   "metadata": {},
   "source": [
    "## Minimizing risk"
   ]
  },
  {
   "cell_type": "code",
   "execution_count": 837,
   "id": "79e06e12-fbcc-4188-b83c-f5615c9bdb60",
   "metadata": {},
   "outputs": [
    {
     "name": "stdout",
     "output_type": "stream",
     "text": [
      "Index(['1. open', '2. high', '3. low', '4. close', '5. volume'], dtype='object')\n"
     ]
    }
   ],
   "source": [
    "print(filtered_df.columns)"
   ]
  },
  {
   "cell_type": "code",
   "execution_count": 838,
   "id": "4efd96fb-d126-46f6-bf08-c4b4934ee62c",
   "metadata": {},
   "outputs": [
    {
     "data": {
      "text/html": [
       "<div>\n",
       "<style scoped>\n",
       "    .dataframe tbody tr th:only-of-type {\n",
       "        vertical-align: middle;\n",
       "    }\n",
       "\n",
       "    .dataframe tbody tr th {\n",
       "        vertical-align: top;\n",
       "    }\n",
       "\n",
       "    .dataframe thead th {\n",
       "        text-align: right;\n",
       "    }\n",
       "</style>\n",
       "<table border=\"1\" class=\"dataframe\">\n",
       "  <thead>\n",
       "    <tr style=\"text-align: right;\">\n",
       "      <th></th>\n",
       "      <th>open</th>\n",
       "      <th>high</th>\n",
       "      <th>low</th>\n",
       "      <th>close</th>\n",
       "      <th>volume</th>\n",
       "    </tr>\n",
       "    <tr>\n",
       "      <th>date</th>\n",
       "      <th></th>\n",
       "      <th></th>\n",
       "      <th></th>\n",
       "      <th></th>\n",
       "      <th></th>\n",
       "    </tr>\n",
       "  </thead>\n",
       "  <tbody>\n",
       "    <tr>\n",
       "      <th>2019-01-02</th>\n",
       "      <td>154.89</td>\n",
       "      <td>158.85</td>\n",
       "      <td>154.230</td>\n",
       "      <td>157.92</td>\n",
       "      <td>37039737.0</td>\n",
       "    </tr>\n",
       "    <tr>\n",
       "      <th>2019-01-03</th>\n",
       "      <td>143.98</td>\n",
       "      <td>145.72</td>\n",
       "      <td>142.000</td>\n",
       "      <td>142.19</td>\n",
       "      <td>91312195.0</td>\n",
       "    </tr>\n",
       "    <tr>\n",
       "      <th>2019-01-04</th>\n",
       "      <td>144.53</td>\n",
       "      <td>148.55</td>\n",
       "      <td>143.800</td>\n",
       "      <td>148.26</td>\n",
       "      <td>58607070.0</td>\n",
       "    </tr>\n",
       "    <tr>\n",
       "      <th>2019-01-07</th>\n",
       "      <td>148.70</td>\n",
       "      <td>148.83</td>\n",
       "      <td>145.900</td>\n",
       "      <td>147.93</td>\n",
       "      <td>54777764.0</td>\n",
       "    </tr>\n",
       "    <tr>\n",
       "      <th>2019-01-08</th>\n",
       "      <td>149.56</td>\n",
       "      <td>151.82</td>\n",
       "      <td>148.520</td>\n",
       "      <td>150.75</td>\n",
       "      <td>41025314.0</td>\n",
       "    </tr>\n",
       "    <tr>\n",
       "      <th>...</th>\n",
       "      <td>...</td>\n",
       "      <td>...</td>\n",
       "      <td>...</td>\n",
       "      <td>...</td>\n",
       "      <td>...</td>\n",
       "    </tr>\n",
       "    <tr>\n",
       "      <th>2023-12-26</th>\n",
       "      <td>193.61</td>\n",
       "      <td>193.89</td>\n",
       "      <td>192.830</td>\n",
       "      <td>193.05</td>\n",
       "      <td>28919310.0</td>\n",
       "    </tr>\n",
       "    <tr>\n",
       "      <th>2023-12-27</th>\n",
       "      <td>192.49</td>\n",
       "      <td>193.50</td>\n",
       "      <td>191.090</td>\n",
       "      <td>193.15</td>\n",
       "      <td>47899806.0</td>\n",
       "    </tr>\n",
       "    <tr>\n",
       "      <th>2023-12-28</th>\n",
       "      <td>194.14</td>\n",
       "      <td>194.66</td>\n",
       "      <td>193.170</td>\n",
       "      <td>193.58</td>\n",
       "      <td>34049898.0</td>\n",
       "    </tr>\n",
       "    <tr>\n",
       "      <th>2023-12-29</th>\n",
       "      <td>193.90</td>\n",
       "      <td>194.40</td>\n",
       "      <td>191.725</td>\n",
       "      <td>192.53</td>\n",
       "      <td>42672148.0</td>\n",
       "    </tr>\n",
       "    <tr>\n",
       "      <th>2024-01-02</th>\n",
       "      <td>187.15</td>\n",
       "      <td>188.44</td>\n",
       "      <td>183.885</td>\n",
       "      <td>185.64</td>\n",
       "      <td>82488674.0</td>\n",
       "    </tr>\n",
       "  </tbody>\n",
       "</table>\n",
       "<p>1259 rows × 5 columns</p>\n",
       "</div>"
      ],
      "text/plain": [
       "              open    high      low   close      volume\n",
       "date                                                   \n",
       "2019-01-02  154.89  158.85  154.230  157.92  37039737.0\n",
       "2019-01-03  143.98  145.72  142.000  142.19  91312195.0\n",
       "2019-01-04  144.53  148.55  143.800  148.26  58607070.0\n",
       "2019-01-07  148.70  148.83  145.900  147.93  54777764.0\n",
       "2019-01-08  149.56  151.82  148.520  150.75  41025314.0\n",
       "...            ...     ...      ...     ...         ...\n",
       "2023-12-26  193.61  193.89  192.830  193.05  28919310.0\n",
       "2023-12-27  192.49  193.50  191.090  193.15  47899806.0\n",
       "2023-12-28  194.14  194.66  193.170  193.58  34049898.0\n",
       "2023-12-29  193.90  194.40  191.725  192.53  42672148.0\n",
       "2024-01-02  187.15  188.44  183.885  185.64  82488674.0\n",
       "\n",
       "[1259 rows x 5 columns]"
      ]
     },
     "execution_count": 838,
     "metadata": {},
     "output_type": "execute_result"
    }
   ],
   "source": [
    "df = filtered_df.rename(columns={\n",
    "    'date': 'date', \n",
    "    '1. open': 'open', \n",
    "    '2. high': 'high', \n",
    "    '3. low': 'low', \n",
    "    '4. close': 'close', \n",
    "    '5. volume': 'volume'\n",
    "})\n",
    "\n",
    "df #Data cleaned and ready for use "
   ]
  },
  {
   "cell_type": "code",
   "execution_count": 839,
   "id": "fc5343fc-0e96-4be9-837c-865496d48a35",
   "metadata": {},
   "outputs": [],
   "source": [
    "# 1. Calculate daily returns + adding a return col to our data set\n",
    "df['return'] = df['close'].pct_change()"
   ]
  },
  {
   "cell_type": "markdown",
   "id": "59743c9f-09ae-4607-aff2-9094720a0955",
   "metadata": {},
   "source": [
    "#### Interpretation \n",
    "\n",
    "- **Daily returns** measure the percentage change in the price of a stock (or the portfolio value) from one day to the next. It’s essentially a way to quantify the day-to-day performance of an asset.\n",
    "In financial terms, returns give you insight into how much profit or loss has been made over a certain period based on the price movement.\n",
    "\n",
    "1. Performance measure : In our study, the daily returns represent a metric to evaluate risk  by calculating the day to day change in the value of the stock. **By calculating the daily returns we can determine how much we are gaining or losing in a day to day basis.**\n",
    "\n",
    "2. Risk Management: When calculating metrics like volatility or the Sharpe Ratio, daily returns are essential. For instance:\n",
    "   - **Volatility** is typically calculated as the standard deviation of daily returns. This gives you an idea of how much the stock price fluctuates on a daily basis.\n",
    "   - **Sharpe Ratio:** When you evaluate the risk-adjusted performance of your strategy, you use the average daily return divided by the standard deviation of daily returns.\n",
    "  \n",
    "3. Input for Decision-Making:\n",
    "- In your algorithm, daily returns are used to determine whether the portfolio is increasing or decreasing in value.\n",
    "- They are also integral to calculating portfolio value over time and cumulative returns, which you used to evaluate how much the portfolio grew from 2019 to 2024."
   ]
  },
  {
   "cell_type": "code",
   "execution_count": 841,
   "id": "383bf87a-950b-44fc-bc34-55eefc9b73cd",
   "metadata": {},
   "outputs": [
    {
     "data": {
      "text/html": [
       "<div>\n",
       "<style scoped>\n",
       "    .dataframe tbody tr th:only-of-type {\n",
       "        vertical-align: middle;\n",
       "    }\n",
       "\n",
       "    .dataframe tbody tr th {\n",
       "        vertical-align: top;\n",
       "    }\n",
       "\n",
       "    .dataframe thead th {\n",
       "        text-align: right;\n",
       "    }\n",
       "</style>\n",
       "<table border=\"1\" class=\"dataframe\">\n",
       "  <thead>\n",
       "    <tr style=\"text-align: right;\">\n",
       "      <th></th>\n",
       "      <th>open</th>\n",
       "      <th>high</th>\n",
       "      <th>low</th>\n",
       "      <th>close</th>\n",
       "      <th>volume</th>\n",
       "      <th>return</th>\n",
       "      <th>volatility</th>\n",
       "    </tr>\n",
       "    <tr>\n",
       "      <th>date</th>\n",
       "      <th></th>\n",
       "      <th></th>\n",
       "      <th></th>\n",
       "      <th></th>\n",
       "      <th></th>\n",
       "      <th></th>\n",
       "      <th></th>\n",
       "    </tr>\n",
       "  </thead>\n",
       "  <tbody>\n",
       "    <tr>\n",
       "      <th>2019-02-14</th>\n",
       "      <td>169.71</td>\n",
       "      <td>171.26</td>\n",
       "      <td>169.380</td>\n",
       "      <td>170.80</td>\n",
       "      <td>21835747.0</td>\n",
       "      <td>0.003643</td>\n",
       "      <td>0.027108</td>\n",
       "    </tr>\n",
       "    <tr>\n",
       "      <th>2019-02-15</th>\n",
       "      <td>171.25</td>\n",
       "      <td>171.70</td>\n",
       "      <td>169.750</td>\n",
       "      <td>170.42</td>\n",
       "      <td>24626814.0</td>\n",
       "      <td>-0.002225</td>\n",
       "      <td>0.019025</td>\n",
       "    </tr>\n",
       "    <tr>\n",
       "      <th>2019-02-19</th>\n",
       "      <td>169.71</td>\n",
       "      <td>171.44</td>\n",
       "      <td>169.490</td>\n",
       "      <td>170.93</td>\n",
       "      <td>18972826.0</td>\n",
       "      <td>0.002993</td>\n",
       "      <td>0.017739</td>\n",
       "    </tr>\n",
       "    <tr>\n",
       "      <th>2019-02-20</th>\n",
       "      <td>171.19</td>\n",
       "      <td>173.32</td>\n",
       "      <td>170.990</td>\n",
       "      <td>172.03</td>\n",
       "      <td>26114362.0</td>\n",
       "      <td>0.006435</td>\n",
       "      <td>0.017689</td>\n",
       "    </tr>\n",
       "    <tr>\n",
       "      <th>2019-02-21</th>\n",
       "      <td>171.80</td>\n",
       "      <td>172.37</td>\n",
       "      <td>170.300</td>\n",
       "      <td>171.06</td>\n",
       "      <td>17249670.0</td>\n",
       "      <td>-0.005639</td>\n",
       "      <td>0.017596</td>\n",
       "    </tr>\n",
       "    <tr>\n",
       "      <th>...</th>\n",
       "      <td>...</td>\n",
       "      <td>...</td>\n",
       "      <td>...</td>\n",
       "      <td>...</td>\n",
       "      <td>...</td>\n",
       "      <td>...</td>\n",
       "      <td>...</td>\n",
       "    </tr>\n",
       "    <tr>\n",
       "      <th>2023-12-26</th>\n",
       "      <td>193.61</td>\n",
       "      <td>193.89</td>\n",
       "      <td>192.830</td>\n",
       "      <td>193.05</td>\n",
       "      <td>28919310.0</td>\n",
       "      <td>-0.002841</td>\n",
       "      <td>0.008473</td>\n",
       "    </tr>\n",
       "    <tr>\n",
       "      <th>2023-12-27</th>\n",
       "      <td>192.49</td>\n",
       "      <td>193.50</td>\n",
       "      <td>191.090</td>\n",
       "      <td>193.15</td>\n",
       "      <td>47899806.0</td>\n",
       "      <td>0.000518</td>\n",
       "      <td>0.008271</td>\n",
       "    </tr>\n",
       "    <tr>\n",
       "      <th>2023-12-28</th>\n",
       "      <td>194.14</td>\n",
       "      <td>194.66</td>\n",
       "      <td>193.170</td>\n",
       "      <td>193.58</td>\n",
       "      <td>34049898.0</td>\n",
       "      <td>0.002226</td>\n",
       "      <td>0.007913</td>\n",
       "    </tr>\n",
       "    <tr>\n",
       "      <th>2023-12-29</th>\n",
       "      <td>193.90</td>\n",
       "      <td>194.40</td>\n",
       "      <td>191.725</td>\n",
       "      <td>192.53</td>\n",
       "      <td>42672148.0</td>\n",
       "      <td>-0.005424</td>\n",
       "      <td>0.007993</td>\n",
       "    </tr>\n",
       "    <tr>\n",
       "      <th>2024-01-02</th>\n",
       "      <td>187.15</td>\n",
       "      <td>188.44</td>\n",
       "      <td>183.885</td>\n",
       "      <td>185.64</td>\n",
       "      <td>82488674.0</td>\n",
       "      <td>-0.035787</td>\n",
       "      <td>0.010269</td>\n",
       "    </tr>\n",
       "  </tbody>\n",
       "</table>\n",
       "<p>1229 rows × 7 columns</p>\n",
       "</div>"
      ],
      "text/plain": [
       "              open    high      low   close      volume    return  volatility\n",
       "date                                                                         \n",
       "2019-02-14  169.71  171.26  169.380  170.80  21835747.0  0.003643    0.027108\n",
       "2019-02-15  171.25  171.70  169.750  170.42  24626814.0 -0.002225    0.019025\n",
       "2019-02-19  169.71  171.44  169.490  170.93  18972826.0  0.002993    0.017739\n",
       "2019-02-20  171.19  173.32  170.990  172.03  26114362.0  0.006435    0.017689\n",
       "2019-02-21  171.80  172.37  170.300  171.06  17249670.0 -0.005639    0.017596\n",
       "...            ...     ...      ...     ...         ...       ...         ...\n",
       "2023-12-26  193.61  193.89  192.830  193.05  28919310.0 -0.002841    0.008473\n",
       "2023-12-27  192.49  193.50  191.090  193.15  47899806.0  0.000518    0.008271\n",
       "2023-12-28  194.14  194.66  193.170  193.58  34049898.0  0.002226    0.007913\n",
       "2023-12-29  193.90  194.40  191.725  192.53  42672148.0 -0.005424    0.007993\n",
       "2024-01-02  187.15  188.44  183.885  185.64  82488674.0 -0.035787    0.010269\n",
       "\n",
       "[1229 rows x 7 columns]"
      ]
     },
     "execution_count": 841,
     "metadata": {},
     "output_type": "execute_result"
    }
   ],
   "source": [
    "# 2. Calculate volatility (standard deviation of returns) over a rolling window\n",
    "df['volatility'] = df['return'].rolling(window=30).std()\n",
    "threshold = df['volatility'].quantile(0.50)\n",
    "\n",
    "df = df.dropna(subset=['volatility'])\n",
    "\n",
    "# 2.5 Filter for stocks with low volatility\n",
    "low_volatility_stocks = df[df['volatility'] < threshold]\n",
    "\n",
    "df"
   ]
  },
  {
   "cell_type": "markdown",
   "id": "9c931973-9e12-49fd-9b21-f270a8657bda",
   "metadata": {},
   "source": [
    "#### Interpretation \n",
    "\n",
    "**Volatility** is calculated based on the daily returns, typically as the standard deviation of daily returns over a specific period.\n",
    "- **Higher volatility** means that the daily returns fluctuate more, which can indicate **higher risk.**"
   ]
  },
  {
   "cell_type": "code",
   "execution_count": 843,
   "id": "96f76d17-1096-45ad-9f7b-8c6127cbdb4c",
   "metadata": {},
   "outputs": [
    {
     "data": {
      "text/plain": [
       "count    1229.000000\n",
       "mean        0.021096\n",
       "std         0.020357\n",
       "min         0.007913\n",
       "25%         0.012633\n",
       "50%         0.016829\n",
       "75%         0.021118\n",
       "max         0.140856\n",
       "Name: volatility, dtype: float64"
      ]
     },
     "execution_count": 843,
     "metadata": {},
     "output_type": "execute_result"
    }
   ],
   "source": [
    "df['volatility'].describe()"
   ]
  },
  {
   "cell_type": "markdown",
   "id": "aebdcb9e-64a0-435e-a503-3ff44981bcdf",
   "metadata": {},
   "source": [
    "#### Interpretation \n",
    "\n",
    "- count: 1229 observations have non-null volatility values (after calculating a rolling 30-day standard deviation).\n",
    "- mean (0.0211): The average volatility is 2.11%. This indicates that, on average, the price of the asset fluctuates by 2.11% over the 30-day window.\n",
    "- std (0.0204): The standard deviation of volatility itself is 2.04%. This measures how spread out the volatility values are.\n",
    "- min (0.0079): The minimum volatility observed is 0.79%. This is quite low, indicating that there are periods with very little price movement.\n",
    "- 25% (0.0126): The 25th percentile is at 1.26%. This means that 25% of the time, volatility is below this value, and you could use this to filter for low-volatility stocks.\n",
    "- 50% (0.0168): The median volatility is 1.68%. Half the time, volatility is below 1.68%, which is consistent with a relatively stable asset class.\n",
    "- 75% (0.0211): The 75th percentile is at 2.11%, meaning that 75% of the time, volatility is below this value.\n",
    "max (0.1409): The maximum volatility is 14.09%, which is quite high, indicating that there are periods of significant price swings.\n"
   ]
  },
  {
   "cell_type": "code",
   "execution_count": 845,
   "id": "d9ce2a95-844d-4584-8354-bc7ae0c2a7a7",
   "metadata": {},
   "outputs": [
    {
     "name": "stdout",
     "output_type": "stream",
     "text": [
      "Filtered dataset contains 614 rows.\n"
     ]
    }
   ],
   "source": [
    "# Use the median volatility as the threshold (or slightly below it)\n",
    "threshold = df['volatility'].quantile(0.50)  # 1.68%\n",
    "\n",
    "# Filter low-volatility stocks\n",
    "low_volatility_stocks = df[df['volatility'] < threshold]\n",
    "\n",
    "# Check how many rows are left after filtering\n",
    "print(f\"Filtered dataset contains {len(low_volatility_stocks)} rows.\")\n"
   ]
  },
  {
   "cell_type": "markdown",
   "id": "9f9e89dd-b815-4c62-9877-f9ff472c3a6a",
   "metadata": {},
   "source": [
    "#### Interpretation \n",
    "\n",
    "- **Threshold:** Median volatility of the data set to establish what is low volatility and high volatility. **Median volatility = 1.68%.**\n",
    "    - The value at which half the stocks have lower volatility and half have higher volatility\n",
    "    - By filtering the data set into **low volatility** only, we focus on a the **more stable** stocks that tend to fluctuates less\n",
    "    - Remember: **High volatility = High risk**\n",
    "\n",
    "- **Filtering:** filtered the dataset to keep only stocks with volatility lower than the median, effectively focusing on low-volatility, lower-risk stocks.\n",
    "  \n",
    "- **Dataset Size:** After filtering, you now have **614 rows** of low-volatility stocks."
   ]
  },
  {
   "cell_type": "code",
   "execution_count": 847,
   "id": "b216b8e4-4781-4d00-8818-9cf27452f11b",
   "metadata": {},
   "outputs": [
    {
     "name": "stdout",
     "output_type": "stream",
     "text": [
      "exit_signal\n",
      "False    614\n",
      "Name: count, dtype: int64\n"
     ]
    },
    {
     "name": "stderr",
     "output_type": "stream",
     "text": [
      "/var/folders/dg/ks7454494w193jd09h3m8mfh0000gn/T/ipykernel_13618/534749085.py:5: SettingWithCopyWarning: \n",
      "A value is trying to be set on a copy of a slice from a DataFrame.\n",
      "Try using .loc[row_indexer,col_indexer] = value instead\n",
      "\n",
      "See the caveats in the documentation: https://pandas.pydata.org/pandas-docs/stable/user_guide/indexing.html#returning-a-view-versus-a-copy\n",
      "  low_volatility_stocks.loc[:, 'stop_loss'] = low_volatility_stocks['close'] * (1 - stop_loss_percent)\n",
      "/var/folders/dg/ks7454494w193jd09h3m8mfh0000gn/T/ipykernel_13618/534749085.py:8: SettingWithCopyWarning: \n",
      "A value is trying to be set on a copy of a slice from a DataFrame.\n",
      "Try using .loc[row_indexer,col_indexer] = value instead\n",
      "\n",
      "See the caveats in the documentation: https://pandas.pydata.org/pandas-docs/stable/user_guide/indexing.html#returning-a-view-versus-a-copy\n",
      "  low_volatility_stocks.loc[:, 'exit_signal'] = low_volatility_stocks['close'] < low_volatility_stocks['stop_loss']\n"
     ]
    }
   ],
   "source": [
    "# Define stop-loss percentage\n",
    "stop_loss_percent = 0.02  # Set to 2%\n",
    "\n",
    "# Calculate the stop-loss price (98% of the current close price)\n",
    "low_volatility_stocks.loc[:, 'stop_loss'] = low_volatility_stocks['close'] * (1 - stop_loss_percent)\n",
    "\n",
    "# Generate an exit signal if the price drops below the stop-loss\n",
    "low_volatility_stocks.loc[:, 'exit_signal'] = low_volatility_stocks['close'] < low_volatility_stocks['stop_loss']\n",
    "\n",
    "# Check if any exit signals were triggered\n",
    "print(low_volatility_stocks['exit_signal'].value_counts())"
   ]
  },
  {
   "cell_type": "markdown",
   "id": "f4e7349f-1c03-492e-8d3f-6c74271ff12b",
   "metadata": {},
   "source": [
    "#### Interpretation:\n",
    "\n",
    "- **Stop loss:** We are excluding all the trades that fall below a certain percentage or thresold. In this case, if the trade fall by 2% below its current value.\n",
    "\n",
    "- **Exit signal:** Calculate the stop-loss price and generate an exit signal when the stock price falls below the stop-loss price.\n",
    "\n",
    "- **Exit Decision:** In this case, all 614 rows (low-volatility stocks) currently have no exit signal (False), meaning none of the stocks dropped below the stop-loss threshold."
   ]
  },
  {
   "cell_type": "code",
   "execution_count": 849,
   "id": "a7fcabfa-15ee-464b-8315-ce70ca4d7d15",
   "metadata": {},
   "outputs": [
    {
     "name": "stdout",
     "output_type": "stream",
     "text": [
      "             close  stop_loss  exit_signal\n",
      "date                                      \n",
      "2019-03-06  174.52   171.0296        False\n",
      "2019-03-07  172.50   169.0500        False\n",
      "2019-03-08  172.91   169.4518        False\n",
      "2019-03-11  178.90   175.3220        False\n",
      "2019-03-12  180.91   177.2918        False\n",
      "...            ...        ...          ...\n",
      "2023-12-26  193.05   189.1890        False\n",
      "2023-12-27  193.15   189.2870        False\n",
      "2023-12-28  193.58   189.7084        False\n",
      "2023-12-29  192.53   188.6794        False\n",
      "2024-01-02  185.64   181.9272        False\n",
      "\n",
      "[614 rows x 3 columns]\n"
     ]
    }
   ],
   "source": [
    "# Check the stop-loss prices and exit signals, keeping the index (date) in view\n",
    "print(low_volatility_stocks[['close', 'stop_loss', 'exit_signal']])"
   ]
  },
  {
   "cell_type": "code",
   "execution_count": 850,
   "id": "db256640-964d-4377-b3b2-75735bf9da2c",
   "metadata": {},
   "outputs": [
    {
     "name": "stdout",
     "output_type": "stream",
     "text": [
      "exit_signal\n",
      "False    614\n",
      "Name: count, dtype: int64\n"
     ]
    }
   ],
   "source": [
    "# Adjust stop-loss percentage to 5%\n",
    "stop_loss_percent = 0.05 \n",
    "\n",
    "# Calculate the stop-loss price (98% of the current close price)\n",
    "low_volatility_stocks.loc[:, 'stop_loss'] = low_volatility_stocks['close'] * (1 - stop_loss_percent)\n",
    "\n",
    "# Generate an exit signal if the price drops below the stop-loss\n",
    "low_volatility_stocks.loc[:, 'exit_signal'] = low_volatility_stocks['close'] < low_volatility_stocks['stop_loss']\n",
    "\n",
    "# Check if any exit signals were triggered\n",
    "print(low_volatility_stocks['exit_signal'].value_counts())"
   ]
  },
  {
   "cell_type": "markdown",
   "id": "545f7606-7172-4d91-9911-9ebb41bf7710",
   "metadata": {},
   "source": [
    "The fact that all 614 rows are False suggests that the stop-loss condition hasn't been triggered for any of the low-volatility stocks. Increasing the stop-loss percentage and visualizing the data should help you identify if the threshold is too tight or if your dataset is naturally very stable."
   ]
  },
  {
   "cell_type": "code",
   "execution_count": 852,
   "id": "af947d21-2ed1-432d-a8c0-bc63fc2291df",
   "metadata": {},
   "outputs": [
    {
     "data": {
      "image/png": "[encoded data removed]",
      "text/plain": [
       "<Figure size 1000x600 with 1 Axes>"
      ]
     },
     "metadata": {},
     "output_type": "display_data"
    }
   ],
   "source": [
    "# Plot close vs stop-loss for a quick visual check\n",
    "plt.figure(figsize=(10, 6))\n",
    "plt.plot(low_volatility_stocks.index, low_volatility_stocks['close'], label='Close Price')\n",
    "plt.plot(low_volatility_stocks.index, low_volatility_stocks['stop_loss'], label='Stop-Loss Price', linestyle='--')\n",
    "plt.title('Close Price vs Stop-Loss Price')\n",
    "plt.legend()\n",
    "plt.show()\n"
   ]
  },
  {
   "cell_type": "markdown",
   "id": "ebea38c9-0978-41d8-8267-67c5b2b5d89b",
   "metadata": {},
   "source": [
    "#### Graph interpretation \n",
    "\n",
    "The close price (blue line) represents the actual price of the stocks while the stop loss line (orange dashed line) represents the 2% threshold below the the close price line, which means that it always stays 2% below that line.\n",
    "\n",
    "#### Understanding the behavior \n",
    "\n",
    "1) Rising Market:\n",
    "- As we can see, the stock prices rises steadily from 2019 to mid 2020.\n",
    "\n",
    "2) Sharp Drop:\n",
    "- The stock experiences a sharp drop from mid 2020 to early 2021, with both lines falling drastically during that time period.\n",
    "\n",
    "3) Volatile Markets:\n",
    "- From 2022 to 2024, the market stays relatively volatile, where we can see that the closing price fluctuates both upwards and downwards, and the stop-loss adjusts accordingly."
   ]
  },
  {
   "cell_type": "code",
   "execution_count": 891,
   "id": "1f88bed7-ae9c-4d0d-a44b-89ba293f5b43",
   "metadata": {},
   "outputs": [
    {
     "name": "stdout",
     "output_type": "stream",
     "text": [
      "exit_signal\n",
      "False    614\n",
      "Name: count, dtype: int64\n",
      "             close  stop_loss  exit_signal\n",
      "date                                      \n",
      "2019-03-06  174.52    157.068        False\n",
      "2019-03-07  172.50    155.250        False\n",
      "2019-03-08  172.91    155.619        False\n",
      "2019-03-11  178.90    161.010        False\n",
      "2019-03-12  180.91    162.819        False\n"
     ]
    }
   ],
   "source": [
    "# Adjust stop-loss percentage to 10%\n",
    "stop_loss_percent = 0.10\n",
    "\n",
    "# Calculate the stop-loss price (98% of the current close price)\n",
    "low_volatility_stocks.loc[:, 'stop_loss'] = low_volatility_stocks['close'] * (1 - stop_loss_percent)\n",
    "\n",
    "# Generate an exit signal if the price drops below the stop-loss\n",
    "low_volatility_stocks.loc[:, 'exit_signal'] = low_volatility_stocks['close'] < low_volatility_stocks['stop_loss']\n",
    "\n",
    "# Check if any exit signals were triggered\n",
    "print(low_volatility_stocks['exit_signal'].value_counts())\n",
    "print(low_volatility_stocks[['close', 'stop_loss', 'exit_signal']].head())"
   ]
  },
  {
   "cell_type": "markdown",
   "id": "3cfb7675-0e88-4c86-8981-7c7ea64c81dc",
   "metadata": {},
   "source": [
    "#### Interpretation \n",
    "\n",
    "- The graph shows a large, sharp drop in the stock price during 2020-2021, which suggests that the stocks were not as stable or low-risk as initially thought.\n",
    "\n",
    "- The reason why the stop-loss didn’t trigger, despite this significant drop, is likely related to how the stop-loss mechanism is calculated and adjusted. The stop-loss adjusts to track the closing price and may not have been breached by the drop in the stock prices because the decline was relatively gradual over time.\n",
    "\n",
    "- The stop-loss strategy didn’t trigger any exits, not because of stock stability, but because the drop was gradual, and the stop-loss followed the close price without creating a large enough gap to trigger an exit signal. Which is the reason why we keep getting 614 false values for the exit_signal and no True values\n",
    "\n",
    "\n",
    "- the stop-loss didn't trigger despite the large drop because the stop-loss price was tracking the closing price closely, not leaving enough room to hit the exit point. This suggests that while your stop-loss strategy was effective in following the price, it may not be suitable for capturing risk in gradual downtrends. You can move forward with this understanding, document it, and adjust your risk management approach later if necessary.\n",
    "\n",
    "As we can see, even when changing the stop loss percent value, we keep getting 614 false values for the exit_signal and no True values which basically means that "
   ]
  },
  {
   "cell_type": "code",
   "execution_count": 893,
   "id": "27548def-5011-49e3-9752-4119eb10abb9",
   "metadata": {},
   "outputs": [
    {
     "name": "stderr",
     "output_type": "stream",
     "text": [
      "/var/folders/dg/ks7454494w193jd09h3m8mfh0000gn/T/ipykernel_13618/3396309226.py:1: SettingWithCopyWarning: \n",
      "A value is trying to be set on a copy of a slice from a DataFrame.\n",
      "Try using .loc[row_indexer,col_indexer] = value instead\n",
      "\n",
      "See the caveats in the documentation: https://pandas.pydata.org/pandas-docs/stable/user_guide/indexing.html#returning-a-view-versus-a-copy\n",
      "  low_volatility_stocks['return'] = low_volatility_stocks['close'].pct_change()\n",
      "/var/folders/dg/ks7454494w193jd09h3m8mfh0000gn/T/ipykernel_13618/3396309226.py:4: SettingWithCopyWarning: \n",
      "A value is trying to be set on a copy of a slice from a DataFrame.\n",
      "Try using .loc[row_indexer,col_indexer] = value instead\n",
      "\n",
      "See the caveats in the documentation: https://pandas.pydata.org/pandas-docs/stable/user_guide/indexing.html#returning-a-view-versus-a-copy\n",
      "  low_volatility_stocks['cumulative_return'] = (1 + low_volatility_stocks['return']).cumprod()\n"
     ]
    },
    {
     "data": {
      "image/png": "[encoded data removed]",
      "text/plain": [
       "<Figure size 1000x600 with 1 Axes>"
      ]
     },
     "metadata": {},
     "output_type": "display_data"
    },
    {
     "name": "stderr",
     "output_type": "stream",
     "text": [
      "/var/folders/dg/ks7454494w193jd09h3m8mfh0000gn/T/ipykernel_13618/3396309226.py:13: SettingWithCopyWarning: \n",
      "A value is trying to be set on a copy of a slice from a DataFrame.\n",
      "Try using .loc[row_indexer,col_indexer] = value instead\n",
      "\n",
      "See the caveats in the documentation: https://pandas.pydata.org/pandas-docs/stable/user_guide/indexing.html#returning-a-view-versus-a-copy\n",
      "  low_volatility_stocks['running_max'] = low_volatility_stocks['cumulative_return'].cummax()\n",
      "/var/folders/dg/ks7454494w193jd09h3m8mfh0000gn/T/ipykernel_13618/3396309226.py:14: SettingWithCopyWarning: \n",
      "A value is trying to be set on a copy of a slice from a DataFrame.\n",
      "Try using .loc[row_indexer,col_indexer] = value instead\n",
      "\n",
      "See the caveats in the documentation: https://pandas.pydata.org/pandas-docs/stable/user_guide/indexing.html#returning-a-view-versus-a-copy\n",
      "  low_volatility_stocks['drawdown'] = (low_volatility_stocks['cumulative_return'] - low_volatility_stocks['running_max']) / low_volatility_stocks['running_max']\n"
     ]
    },
    {
     "data": {
      "image/png": "[encoded data removed]",
      "text/plain": [
       "<Figure size 1000x600 with 1 Axes>"
      ]
     },
     "metadata": {},
     "output_type": "display_data"
    },
    {
     "name": "stdout",
     "output_type": "stream",
     "text": [
      "Maximum Drawdown: -66.77%\n"
     ]
    }
   ],
   "source": [
    "low_volatility_stocks['return'] = low_volatility_stocks['close'].pct_change()\n",
    "#print(low_volatility_stocks[['close', 'return']].head(10))  # Print first 10 rows to verify\n",
    "\n",
    "low_volatility_stocks['cumulative_return'] = (1 + low_volatility_stocks['return']).cumprod()\n",
    "\n",
    "import matplotlib.pyplot as plt\n",
    "plt.figure(figsize=(10, 6))\n",
    "plt.plot(low_volatility_stocks.index, low_volatility_stocks['cumulative_return'], label='Cumulative Return')\n",
    "plt.title(\"Cumulative Return Over Time\")\n",
    "plt.legend()\n",
    "plt.show()\n",
    "\n",
    "low_volatility_stocks['running_max'] = low_volatility_stocks['cumulative_return'].cummax()\n",
    "low_volatility_stocks['drawdown'] = (low_volatility_stocks['cumulative_return'] - low_volatility_stocks['running_max']) / low_volatility_stocks['running_max']\n",
    "\n",
    "# Plotting the drawdown over time\n",
    "plt.figure(figsize=(10, 6))\n",
    "plt.plot(low_volatility_stocks.index, low_volatility_stocks['drawdown'], label='Drawdown')\n",
    "plt.title(\"Drawdown Over Time\")\n",
    "plt.legend()\n",
    "plt.show()\n",
    "\n",
    "max_drawdown = low_volatility_stocks['drawdown'].min()\n",
    "print(f\"Maximum Drawdown: {max_drawdown * 100:.2f}%\")\n",
    "\n"
   ]
  },
  {
   "cell_type": "markdown",
   "id": "1a9850da-c1f8-494c-b191-6c0fe45dca4e",
   "metadata": {},
   "source": [
    "#### Interpretation:\n",
    "\n",
    "1) Calculating the Drawdown\n",
    "\n",
    "**Drawdown** measures how much the stock's value has fallen from its peak value at any point in time. It's calculated as the percentage decline from the running maximum to the current cumulative return. **This shows how much the stock has dropped from its peak.**\n",
    "\n",
    "- This means that at some point, the stock experienced a drop of around **66.77%** from its peak cumulative return value. This is a significant drawdown and would indicate a **major risk exposure during that time.**"
   ]
  },
  {
   "cell_type": "code",
   "execution_count": 895,
   "id": "133bf719-229e-46e9-8f26-802c9112c4ad",
   "metadata": {},
   "outputs": [
    {
     "name": "stdout",
     "output_type": "stream",
     "text": [
      "1\n"
     ]
    },
    {
     "name": "stderr",
     "output_type": "stream",
     "text": [
      "/var/folders/dg/ks7454494w193jd09h3m8mfh0000gn/T/ipykernel_13618/376826993.py:5: SettingWithCopyWarning: \n",
      "A value is trying to be set on a copy of a slice from a DataFrame.\n",
      "Try using .loc[row_indexer,col_indexer] = value instead\n",
      "\n",
      "See the caveats in the documentation: https://pandas.pydata.org/pandas-docs/stable/user_guide/indexing.html#returning-a-view-versus-a-copy\n",
      "  low_volatility_stocks['return'] = low_volatility_stocks['return'].fillna(0)\n"
     ]
    }
   ],
   "source": [
    "# Check for NaN values in the return column\n",
    "print(low_volatility_stocks['return'].isna().sum())\n",
    "\n",
    "# Fill NaN values in the return column with zero (if needed)\n",
    "low_volatility_stocks['return'] = low_volatility_stocks['return'].fillna(0)"
   ]
  },
  {
   "cell_type": "markdown",
   "id": "72948120-1eca-43eb-a002-7ee1ff375341",
   "metadata": {},
   "source": [
    "#### Interpretation\n",
    "\n",
    "Checks how many NaNs values we have in the return column. It's essential to know whether there are any missing values before proceeding with calculations like cumulative return. We can see that we have 0 missing values for the return column in the data set, and if we did we would replace it by a 0, so it wouldn't have any impact (0%) and represent no change in the stock prices for that day."
   ]
  },
  {
   "cell_type": "code",
   "execution_count": 897,
   "id": "dac127db-8690-4f59-9fec-2b94991ded0d",
   "metadata": {},
   "outputs": [
    {
     "name": "stdout",
     "output_type": "stream",
     "text": [
      "Final portfolio balance after backtest: $106371.76\n"
     ]
    },
    {
     "name": "stderr",
     "output_type": "stream",
     "text": [
      "/var/folders/dg/ks7454494w193jd09h3m8mfh0000gn/T/ipykernel_13618/1155965586.py:25: SettingWithCopyWarning: \n",
      "A value is trying to be set on a copy of a slice from a DataFrame.\n",
      "Try using .loc[row_indexer,col_indexer] = value instead\n",
      "\n",
      "See the caveats in the documentation: https://pandas.pydata.org/pandas-docs/stable/user_guide/indexing.html#returning-a-view-versus-a-copy\n",
      "  low_volatility_stocks['portfolio_value'] = balances\n"
     ]
    }
   ],
   "source": [
    "# Step 3: Backtest the strategy\n",
    "\n",
    "# Initialize starting capital\n",
    "initial_balance = 100000  # Assume starting with $100,000\n",
    "balance = initial_balance\n",
    "\n",
    "# Define variables to track trades\n",
    "position_size = balance / len(low_volatility_stocks)  # Equal position size for each asset\n",
    "balances = []  # To store portfolio balance over time\n",
    "\n",
    "# Simulate trading for each row in the dataset\n",
    "for index, row in low_volatility_stocks.iterrows():\n",
    "    if row['exit_signal']:\n",
    "        # Exit trade when stop-loss is triggered\n",
    "        loss = (row['close'] - row['stop_loss']) / row['close']  # Percentage loss\n",
    "        balance -= balance * abs(loss)  # Update balance with loss\n",
    "    else:\n",
    "        # If no exit signal, assume a normal return on the day\n",
    "        balance += balance * row['return']  # Update balance with daily return\n",
    "    \n",
    "    # Append the current balance to the list\n",
    "    balances.append(balance)\n",
    "\n",
    "# Convert balances into a series for easy plotting and visualization\n",
    "low_volatility_stocks['portfolio_value'] = balances\n",
    "\n",
    "# Display the final portfolio balance after backtest\n",
    "print(f\"Final portfolio balance after backtest: ${balance:.2f}\")\n"
   ]
  },
  {
   "cell_type": "markdown",
   "id": "1b02f74c-d375-48a6-8b34-a11d9c3beaf3",
   "metadata": {},
   "source": [
    "#### Interpretation\n",
    "\n",
    "The **backtest strategy** is a way to track the evolution of our portfolio with an intial balance. In this case we are initializing our balance to be 100000 and tracking the evolution of that same value within the 5 year range of our investement as the trades are simulated. \n",
    "\n",
    "- **\"Would it go up or down?\"**\n",
    "\n",
    "The code prints out the **final portfolio balance** after the backtest is completed, which in our case is $106,371.76.\n",
    "\n",
    "- This means that over the period of the backtest (2019-2024), your trading strategy resulted in a modest gain of approximately **6.37%.**\n",
    "\n",
    "- Given that the backtest included low volatility stocks, this modest gain might reflect a **low-risk/low-reward strategy**, which is reasonable since the market was relatively stable, and the stocks we analyzed did not have extreme fluctuations."
   ]
  },
  {
   "cell_type": "code",
   "execution_count": 899,
   "id": "a85879c0-f2fd-4095-93d6-a305ef347819",
   "metadata": {},
   "outputs": [
    {
     "name": "stdout",
     "output_type": "stream",
     "text": [
      "Compound Annual Growth Rate (CAGR): 1.24%\n"
     ]
    }
   ],
   "source": [
    "starting_value = 100000\n",
    "ending_value = 106371.76\n",
    "years = 5\n",
    "\n",
    "cagr = (ending_value / starting_value) ** (1 / years) - 1\n",
    "print(f\"Compound Annual Growth Rate (CAGR): {cagr * 100:.2f}%\")"
   ]
  },
  {
   "cell_type": "markdown",
   "id": "7ba3d08d-8d61-46be-a149-c3be622dd855",
   "metadata": {},
   "source": [
    "## Maximizing profit"
   ]
  },
  {
   "cell_type": "code",
   "execution_count": 901,
   "id": "d2cd1320-6c26-4935-91b7-3498f6745e36",
   "metadata": {},
   "outputs": [
    {
     "name": "stdout",
     "output_type": "stream",
     "text": [
      "Filtered dataset contains 307 rows.\n"
     ]
    }
   ],
   "source": [
    "# Set the threshold for high volatility (e.g., top 25%)\n",
    "volatility_threshold = df['volatility'].quantile(0.75)\n",
    "\n",
    "# Filter high-volatility stocks\n",
    "high_volatility_stocks = df[df['volatility'] > volatility_threshold]\n",
    "print(f\"Filtered dataset contains {len(high_volatility_stocks)} rows.\")"
   ]
  },
  {
   "cell_type": "code",
   "execution_count": 907,
   "id": "0933689d-b81e-4f26-b7cb-29afdd8bc16c",
   "metadata": {},
   "outputs": [
    {
     "name": "stdout",
     "output_type": "stream",
     "text": [
      "             close  trailing_stop_loss  take_profit_price  exit_signal\n",
      "date                                                                  \n",
      "2019-02-14  170.80             153.720            204.960        False\n",
      "2019-06-07  190.15             171.135            228.180        False\n",
      "2019-06-10  192.58             173.322            231.096        False\n",
      "2019-06-11  194.81             175.329            233.772        False\n",
      "2019-06-12  194.19             175.329            233.028        False\n",
      "2019-09-11  223.59             201.231            268.308        False\n",
      "2019-09-12  223.09             201.231            267.708        False\n",
      "2019-09-13  218.75             201.231            262.500        False\n",
      "2020-02-27  273.52             246.168            328.224        False\n",
      "2020-02-28  273.36             246.168            328.032        False\n"
     ]
    }
   ],
   "source": [
    "# Calculate the highest price (cumulative maximum of close prices)\n",
    "high_volatility_stocks.loc[:, 'highest_price'] = high_volatility_stocks['close'].cummax()\n",
    "\n",
    "# Calculate the trailing stop-loss price (based on the highest price)\n",
    "high_volatility_stocks.loc[:, 'trailing_stop_loss'] = high_volatility_stocks['highest_price'] * (1 - trailing_stop_loss_percent)\n",
    "\n",
    "# Calculate the take-profit price (based on the close price)\n",
    "high_volatility_stocks.loc[:, 'take_profit_price'] = high_volatility_stocks['close'] * (1 + take_profit_percent)\n",
    "\n",
    "# Generate an exit signal if the close price hits either the stop-loss or take-profit price\n",
    "high_volatility_stocks.loc[:, 'exit_signal'] = (high_volatility_stocks['close'] < high_volatility_stocks['trailing_stop_loss']) | \\\n",
    "                                                (high_volatility_stocks['close'] > high_volatility_stocks['take_profit_price'])\n",
    "\n",
    "# Display the relevant columns to verify the logic\n",
    "print(high_volatility_stocks[['close', 'trailing_stop_loss', 'take_profit_price', 'exit_signal']].head(10))\n"
   ]
  },
  {
   "cell_type": "code",
   "execution_count": 913,
   "id": "1b34576b-aec1-405b-84d1-5c7c2bca25da",
   "metadata": {},
   "outputs": [
    {
     "name": "stdout",
     "output_type": "stream",
     "text": [
      "Final portfolio balance after backtest: $-77942.88\n"
     ]
    },
    {
     "name": "stderr",
     "output_type": "stream",
     "text": [
      "/var/folders/dg/ks7454494w193jd09h3m8mfh0000gn/T/ipykernel_13618/972067313.py:26: SettingWithCopyWarning: \n",
      "A value is trying to be set on a copy of a slice from a DataFrame.\n",
      "Try using .loc[row_indexer,col_indexer] = value instead\n",
      "\n",
      "See the caveats in the documentation: https://pandas.pydata.org/pandas-docs/stable/user_guide/indexing.html#returning-a-view-versus-a-copy\n",
      "  high_volatility_stocks['portfolio_value'] = balances\n"
     ]
    }
   ],
   "source": [
    "# Initialize starting capital\n",
    "initial_balance = 100000  # Assume starting with $100,000\n",
    "balance = initial_balance\n",
    "balances = []  # To store portfolio balance over time\n",
    "position_size = balance / len(high_volatility_stocks)  # Equal position size for each asset\n",
    "\n",
    "# Simulate trading for each row in the dataset\n",
    "for index, row in high_volatility_stocks.iterrows():\n",
    "    if row['exit_signal']:\n",
    "        if row['close'] < row['trailing_stop_loss']:  # If stop-loss triggered\n",
    "            # Calculate absolute loss based on position size\n",
    "            loss = position_size * (row['close'] - row['trailing_stop_loss']) / row['close']\n",
    "            balance -= abs(loss)  # Update balance with loss\n",
    "        elif row['close'] > row['take_profit_price']:  # If take-profit triggered\n",
    "            # Calculate absolute profit based on position size\n",
    "            profit = position_size * (row['take_profit_price'] - row['close']) / row['close']\n",
    "            balance += profit  # Update balance with profit\n",
    "    else:\n",
    "        # If no exit signal, assume normal return on the day\n",
    "        balance += position_size * row['return']  # Update balance with daily return\n",
    "\n",
    "    # Append the current balance to the list\n",
    "    balances.append(balance)\n",
    "\n",
    "# Store the portfolio value over time\n",
    "high_volatility_stocks['portfolio_value'] = balances\n",
    "\n",
    "# Display the final portfolio balance\n",
    "print(f\"Final portfolio balance after backtest: ${balance:.2f}\")\n"
   ]
  },
  {
   "cell_type": "markdown",
   "id": "e8440142-7f52-4aa8-bc6b-241e7d5b2349",
   "metadata": {},
   "source": [
    "#### Interpretation\n",
    "\n",
    "The maximizing startegy is a very **high risk** approach when applied to the **high-volatility dataset**, is leading to **significant losses.** This is not unusual for high-risk strategies that focus on maximizing profit because they tend to expose the portfolio to larger fluctuations, and if the market goes against the position, substantial losses can occur."
   ]
  },
  {
   "cell_type": "markdown",
   "id": "ea47a56c-3424-4a2c-8baf-f7a30f77919e",
   "metadata": {},
   "source": [
    "## Balancing between both approaches - Balanced strategy"
   ]
  },
  {
   "cell_type": "code",
   "execution_count": 918,
   "id": "ccd5fe8b-5cd4-4487-ae94-2f80dacb8e75",
   "metadata": {},
   "outputs": [],
   "source": [
    "# Split the data into low and high volatility stocks\n",
    "low_volatility_stocks = df[df['volatility'] < df['volatility'].quantile(0.5)]\n",
    "high_volatility_stocks = df[df['volatility'] >= df['volatility'].quantile(0.5)]\n",
    "\n",
    "# Allocate capital between the two portfolios\n",
    "low_volatility_capital = 0.6 * balance  # 60% for low-volatility assets\n",
    "high_volatility_capital = 0.4 * balance  # 40% for high-volatility assets\n"
   ]
  },
  {
   "cell_type": "code",
   "execution_count": 924,
   "id": "70946b83-10ef-4443-a972-b699ef25fcc2",
   "metadata": {},
   "outputs": [
    {
     "name": "stdout",
     "output_type": "stream",
     "text": [
      "             close  stop_loss  take_profit_price  exit_signal\n",
      "date                                                         \n",
      "2019-03-06  174.52   171.0296           183.2460        False\n",
      "2019-03-07  172.50   169.0500           181.1250        False\n",
      "2019-03-08  172.91   169.4518           181.5555        False\n",
      "2019-03-11  178.90   175.3220           187.8450        False\n",
      "2019-03-12  180.91   177.2918           189.9555        False\n"
     ]
    }
   ],
   "source": [
    "# Define stop-loss percentage and take-profit percentage\n",
    "stop_loss_percent = 0.02  # 2% stop-loss\n",
    "take_profit_percent = 0.05  # 5% take-profit\n",
    "\n",
    "# Calculate stop-loss and take-profit prices using .loc[] to avoid the warning\n",
    "low_volatility_stocks.loc[:, 'stop_loss'] = low_volatility_stocks['close'] * (1 - stop_loss_percent)\n",
    "low_volatility_stocks.loc[:, 'take_profit_price'] = low_volatility_stocks['close'] * (1 + take_profit_percent)\n",
    "\n",
    "# Generate an exit signal using .loc[]\n",
    "low_volatility_stocks.loc[:, 'exit_signal'] = (low_volatility_stocks['close'] <= low_volatility_stocks['stop_loss']) | \\\n",
    "                                              (low_volatility_stocks['close'] >= low_volatility_stocks['take_profit_price'])\n",
    "\n",
    "# Check if this worked\n",
    "print(low_volatility_stocks[['close', 'stop_loss', 'take_profit_price', 'exit_signal']].head())\n"
   ]
  },
  {
   "cell_type": "code",
   "execution_count": 926,
   "id": "510a37ef-2701-4537-a377-8b1e61aeb36b",
   "metadata": {},
   "outputs": [],
   "source": [
    "# Set stop-loss and take-profit dynamically\n",
    "stop_loss_percent = 0.02  # 2% for low-volatility stocks\n",
    "take_profit_percent = 0.05  # 5% for low-volatility stocks\n",
    "\n",
    "# Higher range for high-volatility stocks\n",
    "high_stop_loss_percent = 0.05  # 5% for high-volatility stocks\n",
    "high_take_profit_percent = 0.10  # 10% for high-volatility stocks\n"
   ]
  },
  {
   "cell_type": "code",
   "execution_count": 937,
   "id": "da83bfce-1913-478c-8bee-257878a820aa",
   "metadata": {},
   "outputs": [
    {
     "name": "stdout",
     "output_type": "stream",
     "text": [
      "Final portfolio balance after backtest: $100211.19\n"
     ]
    }
   ],
   "source": [
    "# Step 3: Backtest the strategy\n",
    "\n",
    "# Initialize starting capital\n",
    "initial_balance = 100000  # Assume starting with $100,000\n",
    "balance = initial_balance\n",
    "\n",
    "# Define variables to track trades and balances\n",
    "balances = []  # To store portfolio balance over time\n",
    "\n",
    "# Simulate trading for each row in the dataset\n",
    "for index, row in low_volatility_stocks.iterrows():\n",
    "    position_size = balance / len(low_volatility_stocks)  # Allocate equally across stocks\n",
    "    \n",
    "    if row['exit_signal']:  # If an exit signal is triggered\n",
    "        # If stop-loss is triggered\n",
    "        if row['close'] <= row['stop_loss']:\n",
    "            loss = position_size * (row['close'] - row['stop_loss']) / row['close']  # Calculate loss\n",
    "            balance -= abs(loss)  # Update balance with loss\n",
    "        \n",
    "        # If take-profit is triggered\n",
    "        elif row['close'] >= row['take_profit_price']:\n",
    "            profit = position_size * (row['take_profit_price'] - row['close']) / row['close']  # Calculate profit\n",
    "            balance += profit  # Update balance with profit\n",
    "    \n",
    "    else:\n",
    "        # If no exit signal, update balance based on normal return\n",
    "        balance += position_size * row['return']\n",
    "    \n",
    "    # Append the current balance to the list\n",
    "    balances.append(balance)\n",
    "\n",
    "# Store the portfolio value over time for analysis and plotting\n",
    "low_volatility_stocks.loc[:, 'portfolio_value'] = balances\n",
    "\n",
    "# Display the final portfolio balance after the backtest\n",
    "print(f\"Final portfolio balance after backtest: ${balance:.2f}\")\n"
   ]
  },
  {
   "cell_type": "code",
   "execution_count": 930,
   "id": "20aaaa8e-aa4a-4b8f-951e-7c1bbf8e143e",
   "metadata": {},
   "outputs": [
    {
     "name": "stdout",
     "output_type": "stream",
     "text": [
      "Compound Annual Growth Rate (CAGR): 0.04%\n"
     ]
    }
   ],
   "source": [
    "starting_value = 100000\n",
    "ending_value = 100211.19\n",
    "years = 5\n",
    "\n",
    "cagr = (ending_value / starting_value) ** (1 / years) - 1\n",
    "print(f\"Compound Annual Growth Rate (CAGR): {cagr * 100:.2f}%\")"
   ]
  },
  {
   "cell_type": "markdown",
   "id": "db118fc1-dfb3-4c06-bf22-0174bc9b0c6f",
   "metadata": {},
   "source": [
    "## Interpretation \n",
    "\n",
    "The final portfolio balance is **100,211.19**, which means that, after running the backtest, your algorithm made a small profit of **211.19** on the initial investment of **$100,000.**\n",
    "\n",
    "- **Yet, the best approach remains to be the minimizing risk approach.**"
   ]
  },
  {
   "cell_type": "markdown",
   "id": "19f3553a-ad40-4b82-9ea3-ef1b6edf7c47",
   "metadata": {},
   "source": [
    "## Creating a Gym Environment for Reinforcement Learning (RL)"
   ]
  },
  {
   "cell_type": "code",
   "execution_count": 947,
   "id": "9876d07e-23ab-4644-b0bc-141c5f720f8f",
   "metadata": {},
   "outputs": [
    {
     "name": "stdout",
     "output_type": "stream",
     "text": [
      "Requirement already satisfied: gym in /opt/anaconda3/lib/python3.12/site-packages (0.26.2)\n",
      "Requirement already satisfied: tensorflow in /opt/anaconda3/lib/python3.12/site-packages (2.16.2)\n",
      "Requirement already satisfied: keras in /opt/anaconda3/lib/python3.12/site-packages (3.6.0)\n",
      "Requirement already satisfied: numpy in /opt/anaconda3/lib/python3.12/site-packages (1.26.4)\n",
      "Requirement already satisfied: pandas in /opt/anaconda3/lib/python3.12/site-packages (2.2.2)\n",
      "Requirement already satisfied: matplotlib in /opt/anaconda3/lib/python3.12/site-packages (3.8.4)\n",
      "Collecting stable-baselines3\n",
      "  Downloading stable_baselines3-2.3.2-py3-none-any.whl.metadata (5.1 kB)\n",
      "Requirement already satisfied: cloudpickle>=1.2.0 in /opt/anaconda3/lib/python3.12/site-packages (from gym) (2.2.1)\n",
      "Requirement already satisfied: gym-notices>=0.0.4 in /opt/anaconda3/lib/python3.12/site-packages (from gym) (0.0.8)\n",
      "Requirement already satisfied: absl-py>=1.0.0 in /opt/anaconda3/lib/python3.12/site-packages (from tensorflow) (2.1.0)\n",
      "Requirement already satisfied: astunparse>=1.6.0 in /opt/anaconda3/lib/python3.12/site-packages (from tensorflow) (1.6.3)\n",
      "Requirement already satisfied: flatbuffers>=23.5.26 in /opt/anaconda3/lib/python3.12/site-packages (from tensorflow) (24.3.25)\n",
      "Requirement already satisfied: gast!=0.5.0,!=0.5.1,!=0.5.2,>=0.2.1 in /opt/anaconda3/lib/python3.12/site-packages (from tensorflow) (0.6.0)\n",
      "Requirement already satisfied: google-pasta>=0.1.1 in /opt/anaconda3/lib/python3.12/site-packages (from tensorflow) (0.2.0)\n",
      "Requirement already satisfied: h5py>=3.10.0 in /opt/anaconda3/lib/python3.12/site-packages (from tensorflow) (3.11.0)\n",
      "Requirement already satisfied: libclang>=13.0.0 in /opt/anaconda3/lib/python3.12/site-packages (from tensorflow) (18.1.1)\n",
      "Requirement already satisfied: ml-dtypes~=0.3.1 in /opt/anaconda3/lib/python3.12/site-packages (from tensorflow) (0.3.2)\n",
      "Requirement already satisfied: opt-einsum>=2.3.2 in /opt/anaconda3/lib/python3.12/site-packages (from tensorflow) (3.4.0)\n",
      "Requirement already satisfied: packaging in /opt/anaconda3/lib/python3.12/site-packages (from tensorflow) (23.2)\n",
      "Requirement already satisfied: protobuf!=4.21.0,!=4.21.1,!=4.21.2,!=4.21.3,!=4.21.4,!=4.21.5,<5.0.0dev,>=3.20.3 in /opt/anaconda3/lib/python3.12/site-packages (from tensorflow) (3.20.3)\n",
      "Requirement already satisfied: requests<3,>=2.21.0 in /opt/anaconda3/lib/python3.12/site-packages (from tensorflow) (2.32.2)\n",
      "Requirement already satisfied: setuptools in /opt/anaconda3/lib/python3.12/site-packages (from tensorflow) (69.5.1)\n",
      "Requirement already satisfied: six>=1.12.0 in /opt/anaconda3/lib/python3.12/site-packages (from tensorflow) (1.16.0)\n",
      "Requirement already satisfied: termcolor>=1.1.0 in /opt/anaconda3/lib/python3.12/site-packages (from tensorflow) (2.5.0)\n",
      "Requirement already satisfied: typing-extensions>=3.6.6 in /opt/anaconda3/lib/python3.12/site-packages (from tensorflow) (4.11.0)\n",
      "Requirement already satisfied: wrapt>=1.11.0 in /opt/anaconda3/lib/python3.12/site-packages (from tensorflow) (1.14.1)\n",
      "Requirement already satisfied: grpcio<2.0,>=1.24.3 in /opt/anaconda3/lib/python3.12/site-packages (from tensorflow) (1.67.0)\n",
      "Requirement already satisfied: tensorboard<2.17,>=2.16 in /opt/anaconda3/lib/python3.12/site-packages (from tensorflow) (2.16.2)\n",
      "Requirement already satisfied: rich in /opt/anaconda3/lib/python3.12/site-packages (from keras) (13.3.5)\n",
      "Requirement already satisfied: namex in /opt/anaconda3/lib/python3.12/site-packages (from keras) (0.0.8)\n",
      "Requirement already satisfied: optree in /opt/anaconda3/lib/python3.12/site-packages (from keras) (0.13.0)\n",
      "Requirement already satisfied: python-dateutil>=2.8.2 in /opt/anaconda3/lib/python3.12/site-packages (from pandas) (2.9.0.post0)\n",
      "Requirement already satisfied: pytz>=2020.1 in /opt/anaconda3/lib/python3.12/site-packages (from pandas) (2024.1)\n",
      "Requirement already satisfied: tzdata>=2022.7 in /opt/anaconda3/lib/python3.12/site-packages (from pandas) (2023.3)\n",
      "Requirement already satisfied: contourpy>=1.0.1 in /opt/anaconda3/lib/python3.12/site-packages (from matplotlib) (1.2.0)\n",
      "Requirement already satisfied: cycler>=0.10 in /opt/anaconda3/lib/python3.12/site-packages (from matplotlib) (0.11.0)\n",
      "Requirement already satisfied: fonttools>=4.22.0 in /opt/anaconda3/lib/python3.12/site-packages (from matplotlib) (4.51.0)\n",
      "Requirement already satisfied: kiwisolver>=1.3.1 in /opt/anaconda3/lib/python3.12/site-packages (from matplotlib) (1.4.4)\n",
      "Requirement already satisfied: pillow>=8 in /opt/anaconda3/lib/python3.12/site-packages (from matplotlib) (10.3.0)\n",
      "Requirement already satisfied: pyparsing>=2.3.1 in /opt/anaconda3/lib/python3.12/site-packages (from matplotlib) (3.0.9)\n",
      "Collecting gymnasium<0.30,>=0.28.1 (from stable-baselines3)\n",
      "  Downloading gymnasium-0.29.1-py3-none-any.whl.metadata (10 kB)\n",
      "Collecting torch>=1.13 (from stable-baselines3)\n",
      "  Downloading torch-2.2.2-cp312-none-macosx_10_9_x86_64.whl.metadata (25 kB)\n",
      "Requirement already satisfied: wheel<1.0,>=0.23.0 in /opt/anaconda3/lib/python3.12/site-packages (from astunparse>=1.6.0->tensorflow) (0.43.0)\n",
      "Collecting farama-notifications>=0.0.1 (from gymnasium<0.30,>=0.28.1->stable-baselines3)\n",
      "  Downloading Farama_Notifications-0.0.4-py3-none-any.whl.metadata (558 bytes)\n",
      "Requirement already satisfied: charset-normalizer<4,>=2 in /opt/anaconda3/lib/python3.12/site-packages (from requests<3,>=2.21.0->tensorflow) (2.0.4)\n",
      "Requirement already satisfied: idna<4,>=2.5 in /opt/anaconda3/lib/python3.12/site-packages (from requests<3,>=2.21.0->tensorflow) (3.7)\n",
      "Requirement already satisfied: urllib3<3,>=1.21.1 in /opt/anaconda3/lib/python3.12/site-packages (from requests<3,>=2.21.0->tensorflow) (2.2.2)\n",
      "Requirement already satisfied: certifi>=2017.4.17 in /opt/anaconda3/lib/python3.12/site-packages (from requests<3,>=2.21.0->tensorflow) (2024.8.30)\n",
      "Requirement already satisfied: markdown>=2.6.8 in /opt/anaconda3/lib/python3.12/site-packages (from tensorboard<2.17,>=2.16->tensorflow) (3.4.1)\n",
      "Requirement already satisfied: tensorboard-data-server<0.8.0,>=0.7.0 in /opt/anaconda3/lib/python3.12/site-packages (from tensorboard<2.17,>=2.16->tensorflow) (0.7.2)\n",
      "Requirement already satisfied: werkzeug>=1.0.1 in /opt/anaconda3/lib/python3.12/site-packages (from tensorboard<2.17,>=2.16->tensorflow) (3.0.3)\n",
      "Requirement already satisfied: filelock in /opt/anaconda3/lib/python3.12/site-packages (from torch>=1.13->stable-baselines3) (3.13.1)\n",
      "Requirement already satisfied: sympy in /opt/anaconda3/lib/python3.12/site-packages (from torch>=1.13->stable-baselines3) (1.12)\n",
      "Requirement already satisfied: networkx in /opt/anaconda3/lib/python3.12/site-packages (from torch>=1.13->stable-baselines3) (3.2.1)\n",
      "Requirement already satisfied: jinja2 in /opt/anaconda3/lib/python3.12/site-packages (from torch>=1.13->stable-baselines3) (3.1.4)\n",
      "Requirement already satisfied: fsspec in /opt/anaconda3/lib/python3.12/site-packages (from torch>=1.13->stable-baselines3) (2024.3.1)\n",
      "Requirement already satisfied: markdown-it-py<3.0.0,>=2.2.0 in /opt/anaconda3/lib/python3.12/site-packages (from rich->keras) (2.2.0)\n",
      "Requirement already satisfied: pygments<3.0.0,>=2.13.0 in /opt/anaconda3/lib/python3.12/site-packages (from rich->keras) (2.15.1)\n",
      "Requirement already satisfied: mdurl~=0.1 in /opt/anaconda3/lib/python3.12/site-packages (from markdown-it-py<3.0.0,>=2.2.0->rich->keras) (0.1.0)\n",
      "Requirement already satisfied: MarkupSafe>=2.1.1 in /opt/anaconda3/lib/python3.12/site-packages (from werkzeug>=1.0.1->tensorboard<2.17,>=2.16->tensorflow) (2.1.3)\n",
      "Requirement already satisfied: mpmath>=0.19 in /opt/anaconda3/lib/python3.12/site-packages (from sympy->torch>=1.13->stable-baselines3) (1.3.0)\n",
      "Downloading stable_baselines3-2.3.2-py3-none-any.whl (182 kB)\n",
      "\u001b[2K   \u001b[90m━━━━━━━━━━━━━━━━━━━━━━━━━━━━━━━━━━━━━━━━\u001b[0m \u001b[32m182.3/182.3 kB\u001b[0m \u001b[31m3.1 MB/s\u001b[0m eta \u001b[36m0:00:00\u001b[0ma \u001b[36m0:00:01\u001b[0m\n",
      "\u001b[?25hDownloading gymnasium-0.29.1-py3-none-any.whl (953 kB)\n",
      "\u001b[2K   \u001b[90m━━━━━━━━━━━━━━━━━━━━━━━━━━━━━━━━━━━━━━━━\u001b[0m \u001b[32m953.9/953.9 kB\u001b[0m \u001b[31m9.4 MB/s\u001b[0m eta \u001b[36m0:00:00\u001b[0m:00:01\u001b[0m00:01\u001b[0m\n",
      "\u001b[?25hDownloading torch-2.2.2-cp312-none-macosx_10_9_x86_64.whl (150.8 MB)\n",
      "\u001b[2K   \u001b[90m━━━━━━━━━━━━━━━━━━━━━━━━━━━━━━━━━━━━━━━━\u001b[0m \u001b[32m150.8/150.8 MB\u001b[0m \u001b[31m10.6 MB/s\u001b[0m eta \u001b[36m0:00:00\u001b[0m00:01\u001b[0m00:01\u001b[0m\n",
      "\u001b[?25hDownloading Farama_Notifications-0.0.4-py3-none-any.whl (2.5 kB)\n",
      "Installing collected packages: farama-notifications, gymnasium, torch, stable-baselines3\n",
      "Successfully installed farama-notifications-0.0.4 gymnasium-0.29.1 stable-baselines3-2.3.2 torch-2.2.2\n",
      "Note: you may need to restart the kernel to use updated packages.\n"
     ]
    }
   ],
   "source": [
    "pip install gym tensorflow keras numpy pandas matplotlib stable-baselines3"
   ]
  },
  {
   "cell_type": "code",
   "execution_count": 957,
   "id": "ec855729-3335-4962-92fa-634582ee9fa1",
   "metadata": {},
   "outputs": [
    {
     "name": "stdout",
     "output_type": "stream",
     "text": [
      "Collecting shimmy>=0.2.1\n",
      "  Downloading Shimmy-2.0.0-py3-none-any.whl.metadata (3.5 kB)\n",
      "Requirement already satisfied: numpy>=1.18.0 in /opt/anaconda3/lib/python3.12/site-packages (from shimmy>=0.2.1) (1.26.4)\n",
      "Collecting gymnasium>=1.0.0a1 (from shimmy>=0.2.1)\n",
      "  Downloading gymnasium-1.0.0-py3-none-any.whl.metadata (9.5 kB)\n",
      "Requirement already satisfied: cloudpickle>=1.2.0 in /opt/anaconda3/lib/python3.12/site-packages (from gymnasium>=1.0.0a1->shimmy>=0.2.1) (2.2.1)\n",
      "Requirement already satisfied: typing-extensions>=4.3.0 in /opt/anaconda3/lib/python3.12/site-packages (from gymnasium>=1.0.0a1->shimmy>=0.2.1) (4.11.0)\n",
      "Requirement already satisfied: farama-notifications>=0.0.1 in /opt/anaconda3/lib/python3.12/site-packages (from gymnasium>=1.0.0a1->shimmy>=0.2.1) (0.0.4)\n",
      "Downloading Shimmy-2.0.0-py3-none-any.whl (30 kB)\n",
      "Downloading gymnasium-1.0.0-py3-none-any.whl (958 kB)\n",
      "\u001b[2K   \u001b[90m━━━━━━━━━━━━━━━━━━━━━━━━━━━━━━━━━━━━━━━━\u001b[0m \u001b[32m958.1/958.1 kB\u001b[0m \u001b[31m9.2 MB/s\u001b[0m eta \u001b[36m0:00:00\u001b[0mta \u001b[36m0:00:01\u001b[0m\n",
      "\u001b[?25hInstalling collected packages: gymnasium, shimmy\n",
      "  Attempting uninstall: gymnasium\n",
      "    Found existing installation: gymnasium 0.29.1\n",
      "    Uninstalling gymnasium-0.29.1:\n",
      "      Successfully uninstalled gymnasium-0.29.1\n",
      "\u001b[31mERROR: pip's dependency resolver does not currently take into account all the packages that are installed. This behaviour is the source of the following dependency conflicts.\n",
      "stable-baselines3 2.3.2 requires gymnasium<0.30,>=0.28.1, but you have gymnasium 1.0.0 which is incompatible.\u001b[0m\u001b[31m\n",
      "\u001b[0mSuccessfully installed gymnasium-1.0.0 shimmy-2.0.0\n",
      "Note: you may need to restart the kernel to use updated packages.\n"
     ]
    }
   ],
   "source": [
    "pip install 'shimmy>=0.2.1'"
   ]
  },
  {
   "cell_type": "code",
   "execution_count": null,
   "id": "265bcfe0-1b05-49fd-9992-022791e50bcf",
   "metadata": {},
   "outputs": [],
   "source": []
  }
 ],
 "metadata": {
  "kernelspec": {
   "display_name": "Python 3 (ipykernel)",
   "language": "python",
   "name": "python3"
  },
  "language_info": {
   "codemirror_mode": {
    "name": "ipython",
    "version": 3
   },
   "file_extension": ".py",
   "mimetype": "text/x-python",
   "name": "python",
   "nbconvert_exporter": "python",
   "pygments_lexer": "ipython3",
   "version": "3.12.4"
  }
 },
 "nbformat": 4,
 "nbformat_minor": 5
}
